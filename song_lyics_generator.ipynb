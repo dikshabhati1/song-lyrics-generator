{
  "nbformat": 4,
  "nbformat_minor": 0,
  "metadata": {
    "colab": {
      "name": "song-lyics-generator.ipynb",
      "provenance": [],
      "collapsed_sections": [],
      "include_colab_link": true
    },
    "kernelspec": {
      "name": "python3",
      "display_name": "Python 3"
    },
    "accelerator": "GPU"
  },
  "cells": [
    {
      "cell_type": "markdown",
      "metadata": {
        "id": "view-in-github",
        "colab_type": "text"
      },
      "source": [
        "<a href=\"https://colab.research.google.com/github/dikshabhati1/song-lyrics-generator/blob/main/song_lyics_generator.ipynb\" target=\"_parent\"><img src=\"https://colab.research.google.com/assets/colab-badge.svg\" alt=\"Open In Colab\"/></a>"
      ]
    },
    {
      "cell_type": "code",
      "metadata": {
        "id": "u0pHK9jqGost"
      },
      "source": [
        "import pandas as pd\n",
        "import numpy as np\n",
        "import seaborn as sns\n",
        "import matplotlib.pyplot as plt\n",
        "from wordcloud import WordCloud, STOPWORDS, ImageColorGenerator\n",
        "import string, os \n",
        "import tensorflow as tf\n",
        " \n",
        "# keras module for building LSTM \n",
        "from keras.preprocessing.sequence import pad_sequences\n",
        "from tensorflow.keras.layers import Embedding, Dropout, LSTM, Dense, Bidirectional \n",
        "from keras.preprocessing.text import Tokenizer\n",
        "from keras.callbacks import EarlyStopping\n",
        "from keras.models import Sequential\n",
        " \n",
        "import matplotlib.pyplot as plt\n",
        "import seaborn as sns"
      ],
      "execution_count": 2,
      "outputs": []
    },
    {
      "cell_type": "code",
      "metadata": {
        "id": "9Ods0dojOSp9",
        "colab": {
          "resources": {
            "http://localhost:8080/nbextensions/google.colab/files.js": {
              "data": "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",
              "ok": true,
              "headers": [
                [
                  "content-type",
                  "application/javascript"
                ]
              ],
              "status": 200,
              "status_text": ""
            }
          },
          "base_uri": "https://localhost:8080/",
          "height": 89
        },
        "outputId": "2c8b153f-0e09-4e10-a3eb-1dd91f201c5d"
      },
      "source": [
        "from google.colab import files\r\n",
        "files.upload()"
      ],
      "execution_count": 1,
      "outputs": [
        {
          "output_type": "display_data",
          "data": {
            "text/html": [
              "\n",
              "     <input type=\"file\" id=\"files-15e02c6a-ad15-4685-8dc4-dea224668384\" name=\"files[]\" multiple disabled\n",
              "        style=\"border:none\" />\n",
              "     <output id=\"result-15e02c6a-ad15-4685-8dc4-dea224668384\">\n",
              "      Upload widget is only available when the cell has been executed in the\n",
              "      current browser session. Please rerun this cell to enable.\n",
              "      </output>\n",
              "      <script src=\"/nbextensions/google.colab/files.js\"></script> "
            ],
            "text/plain": [
              "<IPython.core.display.HTML object>"
            ]
          },
          "metadata": {
            "tags": []
          }
        },
        {
          "output_type": "stream",
          "text": [
            "Saving kaggle.json to kaggle.json\n"
          ],
          "name": "stdout"
        },
        {
          "output_type": "execute_result",
          "data": {
            "text/plain": [
              "{'kaggle.json': b'{\"username\":\"dikshabhati2002\",\"key\":\"7240b5962cdd3f43c03d2f43468d19e1\"}'}"
            ]
          },
          "metadata": {
            "tags": []
          },
          "execution_count": 1
        }
      ]
    },
    {
      "cell_type": "code",
      "metadata": {
        "id": "oY38VknnFnCd"
      },
      "source": [
        "#create a new file and move the kaggle file into it\r\n",
        "!mkdir -p ~/.kaggle\r\n",
        "!cp kaggle.json ~/.kaggle/\r\n",
        "!chmod 600 ~/.kaggle/kaggle.json"
      ],
      "execution_count": 3,
      "outputs": []
    },
    {
      "cell_type": "code",
      "metadata": {
        "colab": {
          "base_uri": "https://localhost:8080/"
        },
        "id": "fQZasPR0Fm4y",
        "outputId": "f584fabe-915f-4d9a-f450-0a9707032fe2"
      },
      "source": [
        "!ls ~/.kaggle"
      ],
      "execution_count": 4,
      "outputs": [
        {
          "output_type": "stream",
          "text": [
            "kaggle.json\n"
          ],
          "name": "stdout"
        }
      ]
    },
    {
      "cell_type": "code",
      "metadata": {
        "colab": {
          "base_uri": "https://localhost:8080/"
        },
        "id": "GVLw3Cw2FmxE",
        "outputId": "a0a54224-d367-4a42-fe42-51803b8ecf3d"
      },
      "source": [
        "!kaggle datasets download -d neisse/scrapped-lyrics-from-6-genres"
      ],
      "execution_count": 5,
      "outputs": [
        {
          "output_type": "stream",
          "text": [
            "Downloading scrapped-lyrics-from-6-genres.zip to /content\n",
            " 80% 61.0M/75.8M [00:00<00:00, 67.3MB/s]\n",
            "100% 75.8M/75.8M [00:00<00:00, 111MB/s] \n"
          ],
          "name": "stdout"
        }
      ]
    },
    {
      "cell_type": "code",
      "metadata": {
        "id": "8dLNBJXPGEtE"
      },
      "source": [
        "!unzip -q \"/content/scrapped-lyrics-from-6-genres.zip\""
      ],
      "execution_count": 6,
      "outputs": []
    },
    {
      "cell_type": "code",
      "metadata": {
        "id": "W5VY2HulGQ_V"
      },
      "source": [
        "df = pd.read_csv('/content/lyrics-data.csv')"
      ],
      "execution_count": 7,
      "outputs": []
    },
    {
      "cell_type": "code",
      "metadata": {
        "colab": {
          "base_uri": "https://localhost:8080/",
          "height": 204
        },
        "id": "jgcKq8g3GslK",
        "outputId": "7ee2411c-49bf-41ef-f310-fe5899c71302"
      },
      "source": [
        "# first few rows\r\n",
        "df.head()"
      ],
      "execution_count": 8,
      "outputs": [
        {
          "output_type": "execute_result",
          "data": {
            "text/html": [
              "<div>\n",
              "<style scoped>\n",
              "    .dataframe tbody tr th:only-of-type {\n",
              "        vertical-align: middle;\n",
              "    }\n",
              "\n",
              "    .dataframe tbody tr th {\n",
              "        vertical-align: top;\n",
              "    }\n",
              "\n",
              "    .dataframe thead th {\n",
              "        text-align: right;\n",
              "    }\n",
              "</style>\n",
              "<table border=\"1\" class=\"dataframe\">\n",
              "  <thead>\n",
              "    <tr style=\"text-align: right;\">\n",
              "      <th></th>\n",
              "      <th>ALink</th>\n",
              "      <th>SName</th>\n",
              "      <th>SLink</th>\n",
              "      <th>Lyric</th>\n",
              "      <th>Idiom</th>\n",
              "    </tr>\n",
              "  </thead>\n",
              "  <tbody>\n",
              "    <tr>\n",
              "      <th>0</th>\n",
              "      <td>/10000-maniacs/</td>\n",
              "      <td>More Than This</td>\n",
              "      <td>/10000-maniacs/more-than-this.html</td>\n",
              "      <td>I could feel at the time. There was no way of ...</td>\n",
              "      <td>ENGLISH</td>\n",
              "    </tr>\n",
              "    <tr>\n",
              "      <th>1</th>\n",
              "      <td>/10000-maniacs/</td>\n",
              "      <td>Because The Night</td>\n",
              "      <td>/10000-maniacs/because-the-night.html</td>\n",
              "      <td>Take me now, baby, here as I am. Hold me close...</td>\n",
              "      <td>ENGLISH</td>\n",
              "    </tr>\n",
              "    <tr>\n",
              "      <th>2</th>\n",
              "      <td>/10000-maniacs/</td>\n",
              "      <td>These Are Days</td>\n",
              "      <td>/10000-maniacs/these-are-days.html</td>\n",
              "      <td>These are. These are days you'll remember. Nev...</td>\n",
              "      <td>ENGLISH</td>\n",
              "    </tr>\n",
              "    <tr>\n",
              "      <th>3</th>\n",
              "      <td>/10000-maniacs/</td>\n",
              "      <td>A Campfire Song</td>\n",
              "      <td>/10000-maniacs/a-campfire-song.html</td>\n",
              "      <td>A lie to say, \"O my mountain has coal veins an...</td>\n",
              "      <td>ENGLISH</td>\n",
              "    </tr>\n",
              "    <tr>\n",
              "      <th>4</th>\n",
              "      <td>/10000-maniacs/</td>\n",
              "      <td>Everyday Is Like Sunday</td>\n",
              "      <td>/10000-maniacs/everyday-is-like-sunday.html</td>\n",
              "      <td>Trudging slowly over wet sand. Back to the ben...</td>\n",
              "      <td>ENGLISH</td>\n",
              "    </tr>\n",
              "  </tbody>\n",
              "</table>\n",
              "</div>"
            ],
            "text/plain": [
              "             ALink  ...    Idiom\n",
              "0  /10000-maniacs/  ...  ENGLISH\n",
              "1  /10000-maniacs/  ...  ENGLISH\n",
              "2  /10000-maniacs/  ...  ENGLISH\n",
              "3  /10000-maniacs/  ...  ENGLISH\n",
              "4  /10000-maniacs/  ...  ENGLISH\n",
              "\n",
              "[5 rows x 5 columns]"
            ]
          },
          "metadata": {
            "tags": []
          },
          "execution_count": 8
        }
      ]
    },
    {
      "cell_type": "markdown",
      "metadata": {
        "id": "Jnw4_5clGv6q"
      },
      "source": [
        "So we are going to do text generation,we don't need require others column so we will drop it.But I am not going to drop Idiom column as I have to take english songs,so this column is require for subsetting the dataset"
      ]
    },
    {
      "cell_type": "code",
      "metadata": {
        "id": "QaMuJ3KUGtCo"
      },
      "source": [
        "# drop\r\n",
        "df.drop(['ALink','SName','SLink'],axis=1,inplace=True)"
      ],
      "execution_count": 9,
      "outputs": []
    },
    {
      "cell_type": "code",
      "metadata": {
        "colab": {
          "base_uri": "https://localhost:8080/"
        },
        "id": "kmMltH5zGycU",
        "outputId": "9a4d7ef0-30fb-481d-b782-74b272f48e98"
      },
      "source": [
        "# shape\r\n",
        "df.shape"
      ],
      "execution_count": 10,
      "outputs": [
        {
          "output_type": "execute_result",
          "data": {
            "text/plain": [
              "(209522, 2)"
            ]
          },
          "metadata": {
            "tags": []
          },
          "execution_count": 10
        }
      ]
    },
    {
      "cell_type": "code",
      "metadata": {
        "colab": {
          "base_uri": "https://localhost:8080/"
        },
        "id": "dEfoH6-BG0JV",
        "outputId": "85403606-27a8-499a-d319-25532cc912e5"
      },
      "source": [
        "# value count\r\n",
        "df['Idiom'].value_counts()"
      ],
      "execution_count": 11,
      "outputs": [
        {
          "output_type": "execute_result",
          "data": {
            "text/plain": [
              "ENGLISH           114723\n",
              "PORTUGUESE         85085\n",
              "SPANISH             4812\n",
              "ITALIAN              626\n",
              "FRENCH               471\n",
              "GERMAN               314\n",
              "KINYARWANDA           88\n",
              "ICELANDIC             47\n",
              "SWEDISH               27\n",
              "FINNISH               24\n",
              "INDONESIAN            17\n",
              "GALICIAN              12\n",
              "ESTONIAN              12\n",
              "HAITIAN_CREOLE         9\n",
              "IRISH                  9\n",
              "DANISH                 9\n",
              "BASQUE                 8\n",
              "TAGALOG                7\n",
              "NORWEGIAN              7\n",
              "CROATIAN               7\n",
              "CATALAN                6\n",
              "SUNDANESE              6\n",
              "DUTCH                  5\n",
              "SWAHILI                5\n",
              "MALAY                  4\n",
              "RUSSIAN                4\n",
              "SERBIAN                3\n",
              "SESOTHO                2\n",
              "CEBUANO                2\n",
              "MALAGASY               2\n",
              "NYANJA                 2\n",
              "ARABIC                 2\n",
              "TURKISH                2\n",
              "KURDISH                2\n",
              "JAPANESE               2\n",
              "CZECH                  1\n",
              "HUNGARIAN              1\n",
              "KOREAN                 1\n",
              "SLOVENIAN              1\n",
              "HMONG                  1\n",
              "GANDA                  1\n",
              "BOSNIAN                1\n",
              "SLOVAK                 1\n",
              "WELSH                  1\n",
              "AFRIKAANS              1\n",
              "ROMANIAN               1\n",
              "POLISH                 1\n",
              "Name: Idiom, dtype: int64"
            ]
          },
          "metadata": {
            "tags": []
          },
          "execution_count": 11
        }
      ]
    },
    {
      "cell_type": "markdown",
      "metadata": {
        "id": "P-rrq1H3G44H"
      },
      "source": [
        "Now I want to take only english songs,so I need to subset the dataset accordingly"
      ]
    },
    {
      "cell_type": "code",
      "metadata": {
        "id": "52l_qFZ6G1j_"
      },
      "source": [
        "# take only english songs\r\n",
        "df = df[df['Idiom']=='ENGLISH']"
      ],
      "execution_count": 12,
      "outputs": []
    },
    {
      "cell_type": "markdown",
      "metadata": {
        "id": "k817gG_5G86d"
      },
      "source": [
        "I don't have much memory in this google colab.So we can't train the model on whole dataset.So I am going to take first 600 rows.If you have more memory in your local then go ahead and train the model on whole dataset"
      ]
    },
    {
      "cell_type": "code",
      "metadata": {
        "id": "vPmLSvBDG7Mb"
      },
      "source": [
        "# take first 700 rows\r\n",
        "df = df[:700]"
      ],
      "execution_count": 13,
      "outputs": []
    },
    {
      "cell_type": "code",
      "metadata": {
        "colab": {
          "base_uri": "https://localhost:8080/"
        },
        "id": "4q6J5q-THCJ-",
        "outputId": "69f1aac8-4c28-4888-8e30-2e16e53fd9c4"
      },
      "source": [
        "# shape\r\n",
        "df.shape"
      ],
      "execution_count": 45,
      "outputs": [
        {
          "output_type": "execute_result",
          "data": {
            "text/plain": [
              "(700, 3)"
            ]
          },
          "metadata": {
            "tags": []
          },
          "execution_count": 45
        }
      ]
    },
    {
      "cell_type": "code",
      "metadata": {
        "id": "AE_oJ4ZQ7BrV"
      },
      "source": [
        "df.to_csv('final_song_df.csv',index=False)"
      ],
      "execution_count": 60,
      "outputs": []
    },
    {
      "cell_type": "markdown",
      "metadata": {
        "id": "k1OiqDXjHGRP"
      },
      "source": [
        "# Data Visualization"
      ]
    },
    {
      "cell_type": "code",
      "metadata": {
        "colab": {
          "base_uri": "https://localhost:8080/",
          "height": 204
        },
        "id": "VEUpEZ-lHDp3",
        "outputId": "afb43486-0d71-47db-b8f2-3dd9ab21f97b"
      },
      "source": [
        "df['Number_of_words'] = df['Lyric'].apply(lambda x:len(str(x).split()))\r\n",
        "df.head()"
      ],
      "execution_count": 16,
      "outputs": [
        {
          "output_type": "execute_result",
          "data": {
            "text/html": [
              "<div>\n",
              "<style scoped>\n",
              "    .dataframe tbody tr th:only-of-type {\n",
              "        vertical-align: middle;\n",
              "    }\n",
              "\n",
              "    .dataframe tbody tr th {\n",
              "        vertical-align: top;\n",
              "    }\n",
              "\n",
              "    .dataframe thead th {\n",
              "        text-align: right;\n",
              "    }\n",
              "</style>\n",
              "<table border=\"1\" class=\"dataframe\">\n",
              "  <thead>\n",
              "    <tr style=\"text-align: right;\">\n",
              "      <th></th>\n",
              "      <th>Lyric</th>\n",
              "      <th>Idiom</th>\n",
              "      <th>Number_of_words</th>\n",
              "    </tr>\n",
              "  </thead>\n",
              "  <tbody>\n",
              "    <tr>\n",
              "      <th>0</th>\n",
              "      <td>I could feel at the time. There was no way of ...</td>\n",
              "      <td>ENGLISH</td>\n",
              "      <td>145</td>\n",
              "    </tr>\n",
              "    <tr>\n",
              "      <th>1</th>\n",
              "      <td>Take me now, baby, here as I am. Hold me close...</td>\n",
              "      <td>ENGLISH</td>\n",
              "      <td>238</td>\n",
              "    </tr>\n",
              "    <tr>\n",
              "      <th>2</th>\n",
              "      <td>These are. These are days you'll remember. Nev...</td>\n",
              "      <td>ENGLISH</td>\n",
              "      <td>172</td>\n",
              "    </tr>\n",
              "    <tr>\n",
              "      <th>3</th>\n",
              "      <td>A lie to say, \"O my mountain has coal veins an...</td>\n",
              "      <td>ENGLISH</td>\n",
              "      <td>263</td>\n",
              "    </tr>\n",
              "    <tr>\n",
              "      <th>4</th>\n",
              "      <td>Trudging slowly over wet sand. Back to the ben...</td>\n",
              "      <td>ENGLISH</td>\n",
              "      <td>118</td>\n",
              "    </tr>\n",
              "  </tbody>\n",
              "</table>\n",
              "</div>"
            ],
            "text/plain": [
              "                                               Lyric    Idiom  Number_of_words\n",
              "0  I could feel at the time. There was no way of ...  ENGLISH              145\n",
              "1  Take me now, baby, here as I am. Hold me close...  ENGLISH              238\n",
              "2  These are. These are days you'll remember. Nev...  ENGLISH              172\n",
              "3  A lie to say, \"O my mountain has coal veins an...  ENGLISH              263\n",
              "4  Trudging slowly over wet sand. Back to the ben...  ENGLISH              118"
            ]
          },
          "metadata": {
            "tags": []
          },
          "execution_count": 16
        }
      ]
    },
    {
      "cell_type": "code",
      "metadata": {
        "colab": {
          "base_uri": "https://localhost:8080/"
        },
        "id": "ZYILGFL1HFX5",
        "outputId": "1f043130-3738-4bcb-91de-b8dbd9823f67"
      },
      "source": [
        "# statistical info\r\n",
        "df['Number_of_words'].describe()"
      ],
      "execution_count": 17,
      "outputs": [
        {
          "output_type": "execute_result",
          "data": {
            "text/plain": [
              "count    700.000000\n",
              "mean     251.608571\n",
              "std       99.355784\n",
              "min        9.000000\n",
              "25%      178.000000\n",
              "50%      246.000000\n",
              "75%      309.000000\n",
              "max      656.000000\n",
              "Name: Number_of_words, dtype: float64"
            ]
          },
          "metadata": {
            "tags": []
          },
          "execution_count": 17
        }
      ]
    },
    {
      "cell_type": "markdown",
      "metadata": {
        "id": "a5_pIrHzHNLZ"
      },
      "source": [
        "So from above we can see the max length is 656 and average song lyrics words length is 249"
      ]
    },
    {
      "cell_type": "markdown",
      "metadata": {
        "id": "ytHVJy3eHVre"
      },
      "source": [
        "**Frequency distribution of number of words**"
      ]
    },
    {
      "cell_type": "code",
      "metadata": {
        "colab": {
          "base_uri": "https://localhost:8080/",
          "height": 483
        },
        "id": "nNmmSpexHLG9",
        "outputId": "b43fddeb-3fde-43cf-80e4-9e30c255c900"
      },
      "source": [
        "import matplotlib.pyplot as plt\r\n",
        "plt.style.use('ggplot')\r\n",
        "plt.figure(figsize=(12,6))\r\n",
        "sns.distplot(df['Number_of_words'],kde = False,color=\"red\",bins=200)\r\n",
        "plt.title(\"Frequency distribution of number of words for each text extracted\", size=20)"
      ],
      "execution_count": 18,
      "outputs": [
        {
          "output_type": "stream",
          "text": [
            "/usr/local/lib/python3.7/dist-packages/seaborn/distributions.py:2557: FutureWarning: `distplot` is a deprecated function and will be removed in a future version. Please adapt your code to use either `displot` (a figure-level function with similar flexibility) or `histplot` (an axes-level function for histograms).\n",
            "  warnings.warn(msg, FutureWarning)\n"
          ],
          "name": "stderr"
        },
        {
          "output_type": "execute_result",
          "data": {
            "text/plain": [
              "Text(0.5, 1.0, 'Frequency distribution of number of words for each text extracted')"
            ]
          },
          "metadata": {
            "tags": []
          },
          "execution_count": 18
        },
        {
          "output_type": "display_data",
          "data": {
            "image/png": "[encoded data removed]",
            "text/plain": [
              "<Figure size 864x432 with 1 Axes>"
            ]
          },
          "metadata": {
            "tags": []
          }
        }
      ]
    },
    {
      "cell_type": "markdown",
      "metadata": {
        "id": "sK0xWb3lHf6e"
      },
      "source": [
        "# Data Preprocessing"
      ]
    },
    {
      "cell_type": "markdown",
      "metadata": {
        "id": "GOvZ2gEuHjiC"
      },
      "source": [
        "First of all we are going to do tokenization then we will generate sequence of n-grams.After that we will going to do padding.Padding is required because all the sentences are of different length so we need to make them of same length.We will going to do this by adding 0 in the beginning of the text with the help of pad_sequences function of keras"
      ]
    },
    {
      "cell_type": "code",
      "metadata": {
        "colab": {
          "base_uri": "https://localhost:8080/"
        },
        "id": "LsvdOrZeHaVo",
        "outputId": "c97aece7-e575-479e-d3c2-f9b129592797"
      },
      "source": [
        "# Tokenization\r\n",
        "tokenizer = Tokenizer()\r\n",
        "tokenizer.fit_on_texts(df['Lyric'].astype(str).str.lower())\r\n",
        "\r\n",
        "total_words = len(tokenizer.word_index)+1\r\n",
        "tokenized_sentences = tokenizer.texts_to_sequences(df['Lyric'].astype(str))\r\n",
        "tokenized_sentences[0]"
      ],
      "execution_count": 19,
      "outputs": [
        {
          "output_type": "execute_result",
          "data": {
            "text/plain": [
              "[2,\n",
              " 75,\n",
              " 67,\n",
              " 81,\n",
              " 1,\n",
              " 32,\n",
              " 74,\n",
              " 53,\n",
              " 41,\n",
              " 60,\n",
              " 10,\n",
              " 565,\n",
              " 1029,\n",
              " 1080,\n",
              " 9,\n",
              " 1,\n",
              " 154,\n",
              " 92,\n",
              " 35,\n",
              " 52,\n",
              " 76,\n",
              " 312,\n",
              " 1465,\n",
              " 62,\n",
              " 313,\n",
              " 62,\n",
              " 1,\n",
              " 681,\n",
              " 3607,\n",
              " 1907,\n",
              " 122,\n",
              " 1,\n",
              " 404,\n",
              " 21,\n",
              " 1,\n",
              " 682,\n",
              " 181,\n",
              " 41,\n",
              " 60,\n",
              " 10,\n",
              " 755,\n",
              " 103,\n",
              " 149,\n",
              " 16,\n",
              " 3,\n",
              " 23,\n",
              " 80,\n",
              " 131,\n",
              " 103,\n",
              " 149,\n",
              " 16,\n",
              " 85,\n",
              " 7,\n",
              " 42,\n",
              " 135,\n",
              " 103,\n",
              " 149,\n",
              " 16,\n",
              " 3,\n",
              " 23,\n",
              " 80,\n",
              " 131,\n",
              " 8,\n",
              " 53,\n",
              " 517,\n",
              " 22,\n",
              " 6,\n",
              " 185,\n",
              " 74,\n",
              " 53,\n",
              " 41,\n",
              " 60,\n",
              " 10,\n",
              " 565,\n",
              " 33,\n",
              " 6,\n",
              " 332,\n",
              " 9,\n",
              " 1,\n",
              " 154,\n",
              " 92,\n",
              " 35,\n",
              " 52,\n",
              " 76,\n",
              " 142,\n",
              " 157,\n",
              " 41,\n",
              " 263,\n",
              " 9,\n",
              " 1,\n",
              " 79,\n",
              " 258,\n",
              " 14,\n",
              " 1907,\n",
              " 122,\n",
              " 1,\n",
              " 404,\n",
              " 21,\n",
              " 1,\n",
              " 682,\n",
              " 181,\n",
              " 41,\n",
              " 60,\n",
              " 10,\n",
              " 755,\n",
              " 103,\n",
              " 149,\n",
              " 16,\n",
              " 3,\n",
              " 23,\n",
              " 80,\n",
              " 131,\n",
              " 103,\n",
              " 149,\n",
              " 16,\n",
              " 85,\n",
              " 7,\n",
              " 42,\n",
              " 135,\n",
              " 103,\n",
              " 149,\n",
              " 16,\n",
              " 3,\n",
              " 23,\n",
              " 80,\n",
              " 131,\n",
              " 103,\n",
              " 149,\n",
              " 16,\n",
              " 3,\n",
              " 23,\n",
              " 80,\n",
              " 131,\n",
              " 103,\n",
              " 149,\n",
              " 16,\n",
              " 85,\n",
              " 7,\n",
              " 42,\n",
              " 135,\n",
              " 103,\n",
              " 149,\n",
              " 16,\n",
              " 80,\n",
              " 131]"
            ]
          },
          "metadata": {
            "tags": []
          },
          "execution_count": 19
        }
      ]
    },
    {
      "cell_type": "code",
      "metadata": {
        "colab": {
          "base_uri": "https://localhost:8080/"
        },
        "id": "sNbSVgGRHloA",
        "outputId": "0aed7ee9-362b-4a49-91bb-59720d824921"
      },
      "source": [
        "total_words"
      ],
      "execution_count": 20,
      "outputs": [
        {
          "output_type": "execute_result",
          "data": {
            "text/plain": [
              "8556"
            ]
          },
          "metadata": {
            "tags": []
          },
          "execution_count": 20
        }
      ]
    },
    {
      "cell_type": "code",
      "metadata": {
        "id": "yn6JskNHH8T4"
      },
      "source": [
        "# Slash sequences into n gram sequence\r\n",
        "input_sequences = list()\r\n",
        "for i in tokenized_sentences:\r\n",
        "    for t in range(1, len(i)):\r\n",
        "        n_gram_sequence = i[:t+1]\r\n",
        "        input_sequences.append(n_gram_sequence)\r\n",
        "        \r\n",
        "# Pre padding\r\n",
        "max_sequence_len = max([len(x) for x in input_sequences])\r\n",
        "input_sequences = np.array(pad_sequences(input_sequences, maxlen=max_sequence_len, padding='pre'))"
      ],
      "execution_count": 21,
      "outputs": []
    },
    {
      "cell_type": "code",
      "metadata": {
        "colab": {
          "base_uri": "https://localhost:8080/"
        },
        "id": "LKAglyhaIoOF",
        "outputId": "d8cb5952-b897-4607-fb98-e166d6786dc5"
      },
      "source": [
        "max_sequence_len"
      ],
      "execution_count": 22,
      "outputs": [
        {
          "output_type": "execute_result",
          "data": {
            "text/plain": [
              "656"
            ]
          },
          "metadata": {
            "tags": []
          },
          "execution_count": 22
        }
      ]
    },
    {
      "cell_type": "code",
      "metadata": {
        "colab": {
          "base_uri": "https://localhost:8080/"
        },
        "id": "p6HqTkyhIEag",
        "outputId": "255bc5fd-0cc3-402b-deec-ea2b48b93a9f"
      },
      "source": [
        "input_sequences[:10]"
      ],
      "execution_count": 23,
      "outputs": [
        {
          "output_type": "execute_result",
          "data": {
            "text/plain": [
              "array([[ 0,  0,  0, ...,  0,  2, 75],\n",
              "       [ 0,  0,  0, ...,  2, 75, 67],\n",
              "       [ 0,  0,  0, ..., 75, 67, 81],\n",
              "       ...,\n",
              "       [ 0,  0,  0, ..., 74, 53, 41],\n",
              "       [ 0,  0,  0, ..., 53, 41, 60],\n",
              "       [ 0,  0,  0, ..., 41, 60, 10]], dtype=int32)"
            ]
          },
          "metadata": {
            "tags": []
          },
          "execution_count": 23
        }
      ]
    },
    {
      "cell_type": "markdown",
      "metadata": {
        "id": "9Lrv2uEwImpB"
      },
      "source": [
        "For the model, we need to create predictors and label. We are going to create N-grams sequence as predictors and the next word of the N-gram as label."
      ]
    },
    {
      "cell_type": "code",
      "metadata": {
        "id": "OwnHwEvNIkoM"
      },
      "source": [
        "# create predictors and label\r\n",
        "X, labels = input_sequences[:,:-1],input_sequences[:,-1]\r\n",
        "y = tf.keras.utils.to_categorical(labels, num_classes=total_words)"
      ],
      "execution_count": 24,
      "outputs": []
    },
    {
      "cell_type": "markdown",
      "metadata": {
        "id": "_UeK4UqzIyf_"
      },
      "source": [
        "# Model"
      ]
    },
    {
      "cell_type": "markdown",
      "metadata": {
        "id": "f02-OYPyIwVO"
      },
      "source": [
        "We will not going to create RNN model due to its vanishing gradient problem instead of that we will going to create LSTM model.LSTMs have an additional state called ‘cell state’ through which the network makes adjustments in the information flow. The advantage of this state is that the model can remember or forget the leanings more selectively."
      ]
    },
    {
      "cell_type": "code",
      "metadata": {
        "id": "0qcPZzfZIw84"
      },
      "source": [
        "# create model\r\n",
        "model = Sequential()\r\n",
        "model.add(Embedding(total_words, 40, input_length=max_sequence_len-1))\r\n",
        "model.add(Bidirectional(LSTM(250)))\r\n",
        "model.add(Dropout(0.1))\r\n",
        "model.add(Dense(total_words, activation='softmax'))\r\n",
        "\r\n",
        "# earlystop = EarlyStopping(monitor='loss', min_delta=0, patience=3, verbose=0, mode='auto')\r\n"
      ],
      "execution_count": 25,
      "outputs": []
    },
    {
      "cell_type": "code",
      "metadata": {
        "id": "o3GZYA_HJWjK",
        "colab": {
          "base_uri": "https://localhost:8080/"
        },
        "outputId": "16c32dc7-8ab3-402f-b78e-7ffee86b5491"
      },
      "source": [
        "model.summary()"
      ],
      "execution_count": 26,
      "outputs": [
        {
          "output_type": "stream",
          "text": [
            "Model: \"sequential\"\n",
            "_________________________________________________________________\n",
            "Layer (type)                 Output Shape              Param #   \n",
            "=================================================================\n",
            "embedding (Embedding)        (None, 655, 40)           342240    \n",
            "_________________________________________________________________\n",
            "bidirectional (Bidirectional (None, 500)               582000    \n",
            "_________________________________________________________________\n",
            "dropout (Dropout)            (None, 500)               0         \n",
            "_________________________________________________________________\n",
            "dense (Dense)                (None, 8556)              4286556   \n",
            "=================================================================\n",
            "Total params: 5,210,796\n",
            "Trainable params: 5,210,796\n",
            "Non-trainable params: 0\n",
            "_________________________________________________________________\n"
          ],
          "name": "stdout"
        }
      ]
    },
    {
      "cell_type": "code",
      "metadata": {
        "id": "0MuG7iqOJhf0"
      },
      "source": [
        "checkpoint_path = \"lstm-model.ckpt\"\r\n",
        "\r\n",
        "# Create a callback that saves the model's weights\r\n",
        "cp_callback = tf.keras.callbacks.ModelCheckpoint(filepath=checkpoint_path,\r\n",
        "                                                 save_weights_only=True,\r\n",
        "                                                 verbose=1)"
      ],
      "execution_count": 27,
      "outputs": []
    },
    {
      "cell_type": "code",
      "metadata": {
        "id": "9nhllfx-JtgP"
      },
      "source": [
        "model.compile(loss='categorical_crossentropy', optimizer='adam', metrics=['accuracy'])"
      ],
      "execution_count": 28,
      "outputs": []
    },
    {
      "cell_type": "code",
      "metadata": {
        "colab": {
          "base_uri": "https://localhost:8080/"
        },
        "id": "vOlN3uEOJzS5",
        "outputId": "2f3307d7-ffca-45ae-bd4b-9d247feccab2"
      },
      "source": [
        "# train\r\n",
        "history = model.fit(X,y,batch_size = 256 , epochs = 60 ,callbacks=[cp_callback])"
      ],
      "execution_count": 29,
      "outputs": [
        {
          "output_type": "stream",
          "text": [
            "Epoch 1/60\n",
            "687/687 [==============================] - 241s 346ms/step - loss: 6.6271 - accuracy: 0.0392\n",
            "\n",
            "Epoch 00001: saving model to lstm-model.ckpt\n",
            "Epoch 2/60\n",
            "687/687 [==============================] - 239s 348ms/step - loss: 5.8887 - accuracy: 0.0663\n",
            "\n",
            "Epoch 00002: saving model to lstm-model.ckpt\n",
            "Epoch 3/60\n",
            "687/687 [==============================] - 239s 348ms/step - loss: 5.5225 - accuracy: 0.0907\n",
            "\n",
            "Epoch 00003: saving model to lstm-model.ckpt\n",
            "Epoch 4/60\n",
            "687/687 [==============================] - 238s 347ms/step - loss: 5.1160 - accuracy: 0.1198\n",
            "\n",
            "Epoch 00004: saving model to lstm-model.ckpt\n",
            "Epoch 5/60\n",
            "687/687 [==============================] - 238s 346ms/step - loss: 4.7285 - accuracy: 0.1508\n",
            "\n",
            "Epoch 00005: saving model to lstm-model.ckpt\n",
            "Epoch 6/60\n",
            "687/687 [==============================] - 237s 345ms/step - loss: 4.3935 - accuracy: 0.1852\n",
            "\n",
            "Epoch 00006: saving model to lstm-model.ckpt\n",
            "Epoch 7/60\n",
            "687/687 [==============================] - 237s 345ms/step - loss: 4.1058 - accuracy: 0.2187\n",
            "\n",
            "Epoch 00007: saving model to lstm-model.ckpt\n",
            "Epoch 8/60\n",
            "687/687 [==============================] - 237s 346ms/step - loss: 3.8482 - accuracy: 0.2527\n",
            "\n",
            "Epoch 00008: saving model to lstm-model.ckpt\n",
            "Epoch 9/60\n",
            "687/687 [==============================] - 237s 346ms/step - loss: 3.6063 - accuracy: 0.2887\n",
            "\n",
            "Epoch 00009: saving model to lstm-model.ckpt\n",
            "Epoch 10/60\n",
            "687/687 [==============================] - 238s 346ms/step - loss: 3.4050 - accuracy: 0.3216\n",
            "\n",
            "Epoch 00010: saving model to lstm-model.ckpt\n",
            "Epoch 11/60\n",
            "687/687 [==============================] - 238s 346ms/step - loss: 3.2156 - accuracy: 0.3501\n",
            "\n",
            "Epoch 00011: saving model to lstm-model.ckpt\n",
            "Epoch 12/60\n",
            "687/687 [==============================] - 238s 346ms/step - loss: 3.0600 - accuracy: 0.3772\n",
            "\n",
            "Epoch 00012: saving model to lstm-model.ckpt\n",
            "Epoch 13/60\n",
            "687/687 [==============================] - 238s 346ms/step - loss: 2.9164 - accuracy: 0.3995\n",
            "\n",
            "Epoch 00013: saving model to lstm-model.ckpt\n",
            "Epoch 14/60\n",
            "687/687 [==============================] - 238s 346ms/step - loss: 2.7732 - accuracy: 0.4256\n",
            "\n",
            "Epoch 00014: saving model to lstm-model.ckpt\n",
            "Epoch 15/60\n",
            "687/687 [==============================] - 238s 346ms/step - loss: 2.6687 - accuracy: 0.4437\n",
            "\n",
            "Epoch 00015: saving model to lstm-model.ckpt\n",
            "Epoch 16/60\n",
            "687/687 [==============================] - 238s 346ms/step - loss: 2.5675 - accuracy: 0.4617\n",
            "\n",
            "Epoch 00016: saving model to lstm-model.ckpt\n",
            "Epoch 17/60\n",
            "687/687 [==============================] - 238s 346ms/step - loss: 2.4643 - accuracy: 0.4795\n",
            "\n",
            "Epoch 00017: saving model to lstm-model.ckpt\n",
            "Epoch 18/60\n",
            "687/687 [==============================] - 238s 346ms/step - loss: 2.3787 - accuracy: 0.4945\n",
            "\n",
            "Epoch 00018: saving model to lstm-model.ckpt\n",
            "Epoch 19/60\n",
            "687/687 [==============================] - 238s 347ms/step - loss: 2.2890 - accuracy: 0.5131\n",
            "\n",
            "Epoch 00019: saving model to lstm-model.ckpt\n",
            "Epoch 20/60\n",
            "687/687 [==============================] - 238s 347ms/step - loss: 2.2094 - accuracy: 0.5233\n",
            "\n",
            "Epoch 00020: saving model to lstm-model.ckpt\n",
            "Epoch 21/60\n",
            "687/687 [==============================] - 238s 347ms/step - loss: 2.1362 - accuracy: 0.5388\n",
            "\n",
            "Epoch 00021: saving model to lstm-model.ckpt\n",
            "Epoch 22/60\n",
            "687/687 [==============================] - 238s 347ms/step - loss: 2.0728 - accuracy: 0.5497\n",
            "\n",
            "Epoch 00022: saving model to lstm-model.ckpt\n",
            "Epoch 23/60\n",
            "687/687 [==============================] - 239s 347ms/step - loss: 2.0133 - accuracy: 0.5607\n",
            "\n",
            "Epoch 00023: saving model to lstm-model.ckpt\n",
            "Epoch 24/60\n",
            "687/687 [==============================] - 239s 347ms/step - loss: 1.9570 - accuracy: 0.5714\n",
            "\n",
            "Epoch 00024: saving model to lstm-model.ckpt\n",
            "Epoch 25/60\n",
            "687/687 [==============================] - 239s 347ms/step - loss: 1.8916 - accuracy: 0.5841\n",
            "\n",
            "Epoch 00025: saving model to lstm-model.ckpt\n",
            "Epoch 26/60\n",
            "687/687 [==============================] - 239s 347ms/step - loss: 1.8506 - accuracy: 0.5896\n",
            "\n",
            "Epoch 00026: saving model to lstm-model.ckpt\n",
            "Epoch 27/60\n",
            "687/687 [==============================] - 238s 347ms/step - loss: 1.7976 - accuracy: 0.6001\n",
            "\n",
            "Epoch 00027: saving model to lstm-model.ckpt\n",
            "Epoch 28/60\n",
            "687/687 [==============================] - 239s 348ms/step - loss: 1.7495 - accuracy: 0.6108\n",
            "\n",
            "Epoch 00028: saving model to lstm-model.ckpt\n",
            "Epoch 29/60\n",
            "687/687 [==============================] - 239s 347ms/step - loss: 1.7147 - accuracy: 0.6144\n",
            "\n",
            "Epoch 00029: saving model to lstm-model.ckpt\n",
            "Epoch 30/60\n",
            "687/687 [==============================] - 239s 348ms/step - loss: 1.6778 - accuracy: 0.6208\n",
            "\n",
            "Epoch 00030: saving model to lstm-model.ckpt\n",
            "Epoch 31/60\n",
            "687/687 [==============================] - 239s 347ms/step - loss: 1.6291 - accuracy: 0.6330\n",
            "\n",
            "Epoch 00031: saving model to lstm-model.ckpt\n",
            "Epoch 32/60\n",
            "687/687 [==============================] - 239s 348ms/step - loss: 1.5923 - accuracy: 0.6406\n",
            "\n",
            "Epoch 00032: saving model to lstm-model.ckpt\n",
            "Epoch 33/60\n",
            "687/687 [==============================] - 239s 348ms/step - loss: 1.5548 - accuracy: 0.6467\n",
            "\n",
            "Epoch 00033: saving model to lstm-model.ckpt\n",
            "Epoch 34/60\n",
            "687/687 [==============================] - 239s 348ms/step - loss: 1.5253 - accuracy: 0.6527\n",
            "\n",
            "Epoch 00034: saving model to lstm-model.ckpt\n",
            "Epoch 35/60\n",
            "687/687 [==============================] - 239s 348ms/step - loss: 1.4935 - accuracy: 0.6582\n",
            "\n",
            "Epoch 00035: saving model to lstm-model.ckpt\n",
            "Epoch 36/60\n",
            "687/687 [==============================] - 239s 348ms/step - loss: 1.4646 - accuracy: 0.6630\n",
            "\n",
            "Epoch 00036: saving model to lstm-model.ckpt\n",
            "Epoch 37/60\n",
            "687/687 [==============================] - 239s 348ms/step - loss: 1.4404 - accuracy: 0.6667\n",
            "\n",
            "Epoch 00037: saving model to lstm-model.ckpt\n",
            "Epoch 38/60\n",
            "687/687 [==============================] - 239s 348ms/step - loss: 1.4194 - accuracy: 0.6723\n",
            "\n",
            "Epoch 00038: saving model to lstm-model.ckpt\n",
            "Epoch 39/60\n",
            "687/687 [==============================] - 239s 348ms/step - loss: 1.3812 - accuracy: 0.6784\n",
            "\n",
            "Epoch 00039: saving model to lstm-model.ckpt\n",
            "Epoch 40/60\n",
            "687/687 [==============================] - 239s 348ms/step - loss: 1.3510 - accuracy: 0.6843\n",
            "\n",
            "Epoch 00040: saving model to lstm-model.ckpt\n",
            "Epoch 41/60\n",
            "687/687 [==============================] - 239s 348ms/step - loss: 1.3344 - accuracy: 0.6859\n",
            "\n",
            "Epoch 00041: saving model to lstm-model.ckpt\n",
            "Epoch 42/60\n",
            "687/687 [==============================] - 239s 348ms/step - loss: 1.3065 - accuracy: 0.6924\n",
            "\n",
            "Epoch 00042: saving model to lstm-model.ckpt\n",
            "Epoch 43/60\n",
            "687/687 [==============================] - 239s 348ms/step - loss: 1.2921 - accuracy: 0.6959\n",
            "\n",
            "Epoch 00043: saving model to lstm-model.ckpt\n",
            "Epoch 44/60\n",
            "687/687 [==============================] - 239s 348ms/step - loss: 1.2716 - accuracy: 0.6989\n",
            "\n",
            "Epoch 00044: saving model to lstm-model.ckpt\n",
            "Epoch 45/60\n",
            "687/687 [==============================] - 239s 348ms/step - loss: 1.2554 - accuracy: 0.7021\n",
            "\n",
            "Epoch 00045: saving model to lstm-model.ckpt\n",
            "Epoch 46/60\n",
            "687/687 [==============================] - 239s 348ms/step - loss: 1.2342 - accuracy: 0.7069\n",
            "\n",
            "Epoch 00046: saving model to lstm-model.ckpt\n",
            "Epoch 47/60\n",
            "687/687 [==============================] - 239s 348ms/step - loss: 1.2229 - accuracy: 0.7083\n",
            "\n",
            "Epoch 00047: saving model to lstm-model.ckpt\n",
            "Epoch 48/60\n",
            "687/687 [==============================] - 239s 348ms/step - loss: 1.2066 - accuracy: 0.7110\n",
            "\n",
            "Epoch 00048: saving model to lstm-model.ckpt\n",
            "Epoch 49/60\n",
            "687/687 [==============================] - 239s 349ms/step - loss: 1.1833 - accuracy: 0.7160\n",
            "\n",
            "Epoch 00049: saving model to lstm-model.ckpt\n",
            "Epoch 50/60\n",
            "687/687 [==============================] - 239s 348ms/step - loss: 1.1666 - accuracy: 0.7203\n",
            "\n",
            "Epoch 00050: saving model to lstm-model.ckpt\n",
            "Epoch 51/60\n",
            "687/687 [==============================] - 239s 348ms/step - loss: 1.1567 - accuracy: 0.7194\n",
            "\n",
            "Epoch 00051: saving model to lstm-model.ckpt\n",
            "Epoch 52/60\n",
            "687/687 [==============================] - 239s 348ms/step - loss: 1.1347 - accuracy: 0.7272\n",
            "\n",
            "Epoch 00052: saving model to lstm-model.ckpt\n",
            "Epoch 53/60\n",
            "687/687 [==============================] - 239s 348ms/step - loss: 1.1393 - accuracy: 0.7239\n",
            "\n",
            "Epoch 00053: saving model to lstm-model.ckpt\n",
            "Epoch 54/60\n",
            "687/687 [==============================] - 239s 348ms/step - loss: 1.1178 - accuracy: 0.7281\n",
            "\n",
            "Epoch 00054: saving model to lstm-model.ckpt\n",
            "Epoch 55/60\n",
            "687/687 [==============================] - 239s 348ms/step - loss: 1.1012 - accuracy: 0.7322\n",
            "\n",
            "Epoch 00055: saving model to lstm-model.ckpt\n",
            "Epoch 56/60\n",
            "687/687 [==============================] - 239s 348ms/step - loss: 1.0907 - accuracy: 0.7360\n",
            "\n",
            "Epoch 00056: saving model to lstm-model.ckpt\n",
            "Epoch 57/60\n",
            "687/687 [==============================] - 240s 349ms/step - loss: 1.0667 - accuracy: 0.7385\n",
            "\n",
            "Epoch 00057: saving model to lstm-model.ckpt\n",
            "Epoch 58/60\n",
            "687/687 [==============================] - 240s 349ms/step - loss: 1.0671 - accuracy: 0.7390\n",
            "\n",
            "Epoch 00058: saving model to lstm-model.ckpt\n",
            "Epoch 59/60\n",
            "687/687 [==============================] - 240s 349ms/step - loss: 1.0598 - accuracy: 0.7387\n",
            "\n",
            "Epoch 00059: saving model to lstm-model.ckpt\n",
            "Epoch 60/60\n",
            "687/687 [==============================] - 240s 349ms/step - loss: 1.0557 - accuracy: 0.7400\n",
            "\n",
            "Epoch 00060: saving model to lstm-model.ckpt\n"
          ],
          "name": "stdout"
        }
      ]
    },
    {
      "cell_type": "code",
      "metadata": {
        "colab": {
          "base_uri": "https://localhost:8080/",
          "height": 265
        },
        "id": "TRkednvKP5eH",
        "outputId": "e8d94526-cf92-42a3-e560-7273847e87ae"
      },
      "source": [
        "# plot the accuracy\r\n",
        "plt.plot(history.history['accuracy'], label='accuracy')\r\n",
        "plt.legend()\r\n",
        "plt.show()"
      ],
      "execution_count": 30,
      "outputs": [
        {
          "output_type": "display_data",
          "data": {
            "image/png": "[encoded data removed]",
            "text/plain": [
              "<Figure size 432x288 with 1 Axes>"
            ]
          },
          "metadata": {
            "tags": []
          }
        }
      ]
    },
    {
      "cell_type": "code",
      "metadata": {
        "colab": {
          "base_uri": "https://localhost:8080/",
          "height": 265
        },
        "id": "CgPh1aMBRGTg",
        "outputId": "b423d641-98ea-4089-a5a0-cae3d2e6bd58"
      },
      "source": [
        "# plot the accuracy\r\n",
        "plt.plot(history.history['loss'], label='loss')\r\n",
        "plt.legend()\r\n",
        "plt.show()"
      ],
      "execution_count": 31,
      "outputs": [
        {
          "output_type": "display_data",
          "data": {
            "image/png": "[encoded data removed]",
            "text/plain": [
              "<Figure size 432x288 with 1 Axes>"
            ]
          },
          "metadata": {
            "tags": []
          }
        }
      ]
    },
    {
      "cell_type": "markdown",
      "metadata": {
        "id": "eLJxurCLR_nr"
      },
      "source": [
        "# Load Model"
      ]
    },
    {
      "cell_type": "code",
      "metadata": {
        "colab": {
          "base_uri": "https://localhost:8080/"
        },
        "id": "3YB_7RZeR_GM",
        "outputId": "329daf36-8e90-442a-f1f7-abd76f04f14e"
      },
      "source": [
        "# load weights\r\n",
        "model.load_weights(checkpoint_path)"
      ],
      "execution_count": 32,
      "outputs": [
        {
          "output_type": "execute_result",
          "data": {
            "text/plain": [
              "<tensorflow.python.training.tracking.util.CheckpointLoadStatus at 0x7f3ce7e26e90>"
            ]
          },
          "metadata": {
            "tags": []
          },
          "execution_count": 32
        }
      ]
    },
    {
      "cell_type": "markdown",
      "metadata": {
        "id": "ZaPDvRgfRW0e"
      },
      "source": [
        "# Generate new song lyrics"
      ]
    },
    {
      "cell_type": "markdown",
      "metadata": {
        "id": "Bc5A2Kv3RsIe"
      },
      "source": [
        "Now our model is ready.So lets write the function to predict the next word based on the input words (or seed text). We will first tokenize the seed text, pad the sequences and pass into the trained model to get predicted word. The multiple predicted words can be appended together to get predicted sequence."
      ]
    },
    {
      "cell_type": "code",
      "metadata": {
        "id": "0Wus7mQJRWWH"
      },
      "source": [
        "def complete_this_song(seed_text, next_words):\r\n",
        "    for _ in range(next_words):\r\n",
        "        token_list = tokenizer.texts_to_sequences([seed_text])[0]\r\n",
        "        token_list = pad_sequences([token_list], maxlen=max_sequence_len-1, padding='pre')\r\n",
        "        predicted = model.predict_classes(token_list, verbose=0)\r\n",
        "        \r\n",
        "        output_word = \"\"\r\n",
        "        for word, index in tokenizer.word_index.items():\r\n",
        "            if index == predicted:\r\n",
        "                output_word = word\r\n",
        "                break\r\n",
        "        seed_text += \" \" + output_word\r\n",
        "    return seed_text"
      ],
      "execution_count": 33,
      "outputs": []
    },
    {
      "cell_type": "markdown",
      "metadata": {
        "id": "nYGWZYnxRwLw"
      },
      "source": [
        "Our function is ready so are you ready to generate your own lyrics"
      ]
    },
    {
      "cell_type": "code",
      "metadata": {
        "colab": {
          "base_uri": "https://localhost:8080/",
          "height": 106
        },
        "id": "Z8cqs-q_RWKa",
        "outputId": "4ffece9a-f3f3-4839-c9b4-14a9c7f3ca0c"
      },
      "source": [
        "complete_this_song(\"the sky is blue\", 40)"
      ],
      "execution_count": 34,
      "outputs": [
        {
          "output_type": "stream",
          "text": [
            "/usr/local/lib/python3.7/dist-packages/tensorflow/python/keras/engine/sequential.py:450: UserWarning: `model.predict_classes()` is deprecated and will be removed after 2021-01-01. Please use instead:* `np.argmax(model.predict(x), axis=-1)`,   if your model does multi-class classification   (e.g. if it uses a `softmax` last-layer activation).* `(model.predict(x) > 0.5).astype(\"int32\")`,   if your model does binary classification   (e.g. if it uses a `sigmoid` last-layer activation).\n",
            "  warnings.warn('`model.predict_classes()` is deprecated and '\n"
          ],
          "name": "stderr"
        },
        {
          "output_type": "execute_result",
          "data": {
            "application/vnd.google.colaboratory.intrinsic+json": {
              "type": "string"
            },
            "text/plain": [
              "\"the sky is blue heaven he shows the days in a dying of her face she were the best of me i looked up and i don't know to be the one thing i didn't have to even when i don't have to make\""
            ]
          },
          "metadata": {
            "tags": []
          },
          "execution_count": 34
        }
      ]
    },
    {
      "cell_type": "code",
      "metadata": {
        "colab": {
          "base_uri": "https://localhost:8080/",
          "height": 157
        },
        "id": "b9CNXC_PRzK1",
        "outputId": "6ecc8cb3-173c-4ca6-8dc9-5ba03ad8ac9c"
      },
      "source": [
        "complete_this_song(\"This is the beginning\", 140)"
      ],
      "execution_count": 35,
      "outputs": [
        {
          "output_type": "stream",
          "text": [
            "/usr/local/lib/python3.7/dist-packages/tensorflow/python/keras/engine/sequential.py:450: UserWarning: `model.predict_classes()` is deprecated and will be removed after 2021-01-01. Please use instead:* `np.argmax(model.predict(x), axis=-1)`,   if your model does multi-class classification   (e.g. if it uses a `softmax` last-layer activation).* `(model.predict(x) > 0.5).astype(\"int32\")`,   if your model does binary classification   (e.g. if it uses a `sigmoid` last-layer activation).\n",
            "  warnings.warn('`model.predict_classes()` is deprecated and '\n"
          ],
          "name": "stderr"
        },
        {
          "output_type": "execute_result",
          "data": {
            "application/vnd.google.colaboratory.intrinsic+json": {
              "type": "string"
            },
            "text/plain": [
              "\"This is the beginning of the end of the end of her place that were her would be seen in the clouds big wrote to go down i go awake i can't survive the world i've silence it was the last time she could come had to come and i can see him i don't mean the one to call it through the first one i'm chill me on the radio i'm gone i'm far down my heart is the same old eyes i thank you the things that i am i'm gonna come on and i can't wait to get a right here i've been through the way i wanted to be so i can get through a while i'm gonna come on your head and i'm trying to be all the time to shine the one to anyone forget the day just\""
            ]
          },
          "metadata": {
            "tags": []
          },
          "execution_count": 35
        }
      ]
    },
    {
      "cell_type": "code",
      "metadata": {
        "colab": {
          "base_uri": "https://localhost:8080/",
          "height": 123
        },
        "id": "P07vZW1tRzAT",
        "outputId": "100e3628-6b3f-49d6-88d6-c82bcfbdad54"
      },
      "source": [
        "complete_this_song(\"I am missing you\", 80)"
      ],
      "execution_count": 36,
      "outputs": [
        {
          "output_type": "stream",
          "text": [
            "/usr/local/lib/python3.7/dist-packages/tensorflow/python/keras/engine/sequential.py:450: UserWarning: `model.predict_classes()` is deprecated and will be removed after 2021-01-01. Please use instead:* `np.argmax(model.predict(x), axis=-1)`,   if your model does multi-class classification   (e.g. if it uses a `softmax` last-layer activation).* `(model.predict(x) > 0.5).astype(\"int32\")`,   if your model does binary classification   (e.g. if it uses a `sigmoid` last-layer activation).\n",
            "  warnings.warn('`model.predict_classes()` is deprecated and '\n"
          ],
          "name": "stderr"
        },
        {
          "output_type": "execute_result",
          "data": {
            "application/vnd.google.colaboratory.intrinsic+json": {
              "type": "string"
            },
            "text/plain": [
              "\"I am missing you i will not understand i get ahead the day would bring my tears lay lying high now now i've been there to all i know it's all that i’d been now and i'm trying to be but it's not the person that i knew back then you try to find your way away i could never go then i guess i should have this whole life i've become this life i can't turn to all that i was a long\""
            ]
          },
          "metadata": {
            "tags": []
          },
          "execution_count": 36
        }
      ]
    },
    {
      "cell_type": "code",
      "metadata": {
        "colab": {
          "base_uri": "https://localhost:8080/",
          "height": 191
        },
        "id": "iv_hRY-JR3Ky",
        "outputId": "c43310e6-474e-4614-a356-d99bbce6b499"
      },
      "source": [
        "complete_this_song(\"Tell me something new\", 200)"
      ],
      "execution_count": 37,
      "outputs": [
        {
          "output_type": "stream",
          "text": [
            "/usr/local/lib/python3.7/dist-packages/tensorflow/python/keras/engine/sequential.py:450: UserWarning: `model.predict_classes()` is deprecated and will be removed after 2021-01-01. Please use instead:* `np.argmax(model.predict(x), axis=-1)`,   if your model does multi-class classification   (e.g. if it uses a `softmax` last-layer activation).* `(model.predict(x) > 0.5).astype(\"int32\")`,   if your model does binary classification   (e.g. if it uses a `sigmoid` last-layer activation).\n",
            "  warnings.warn('`model.predict_classes()` is deprecated and '\n"
          ],
          "name": "stderr"
        },
        {
          "output_type": "execute_result",
          "data": {
            "application/vnd.google.colaboratory.intrinsic+json": {
              "type": "string"
            },
            "text/plain": [
              "\"Tell me something new will all this pain be haunting to be too one to see there's a life there's no one to hide the shame like a trip where the rest of your life that everything is part of all this is all my soul before my friend the city is the moon i knew that i was a place or will i do i'm a race that we had to be alone but love the darkness comes thinking that i had a place to help me down if i'm on your own way to reach the past to crack my heart with the way i feel now the weather and sweet i'm tired of the world last feelings i feel with you so it's not a part of my life i'm insane and i'm scared to be coming now i'm so scared i'm not the easiest route and we go alone it's the one to the life i tell you will take this with your life now i'm afraid now i know that i could not give my hand in my own i'm my hand with my daisy i still seen the world and you will never be your life but i\""
            ]
          },
          "metadata": {
            "tags": []
          },
          "execution_count": 37
        }
      ]
    },
    {
      "cell_type": "markdown",
      "metadata": {
        "id": "4MCRYYfguPUf"
      },
      "source": [
        "# Streamlit"
      ]
    },
    {
      "cell_type": "code",
      "metadata": {
        "colab": {
          "base_uri": "https://localhost:8080/"
        },
        "id": "rCZSwTtEujRA",
        "outputId": "b66c7777-b1c1-45af-9de7-3221b9c45cb4"
      },
      "source": [
        "!pip install streamlit"
      ],
      "execution_count": 38,
      "outputs": [
        {
          "output_type": "stream",
          "text": [
            "Requirement already satisfied: streamlit in /usr/local/lib/python3.7/dist-packages (0.77.0)\n",
            "Requirement already satisfied: watchdog; platform_system != \"Darwin\" in /usr/local/lib/python3.7/dist-packages (from streamlit) (2.0.2)\n",
            "Requirement already satisfied: pandas>=0.21.0 in /usr/local/lib/python3.7/dist-packages (from streamlit) (1.1.5)\n",
            "Requirement already satisfied: altair>=3.2.0 in /usr/local/lib/python3.7/dist-packages (from streamlit) (4.1.0)\n",
            "Requirement already satisfied: protobuf!=3.11,>=3.6.0 in /usr/local/lib/python3.7/dist-packages (from streamlit) (3.12.4)\n",
            "Requirement already satisfied: python-dateutil in /usr/local/lib/python3.7/dist-packages (from streamlit) (2.8.1)\n",
            "Requirement already satisfied: tornado>=5.0 in /usr/local/lib/python3.7/dist-packages (from streamlit) (5.1.1)\n",
            "Requirement already satisfied: gitpython in /usr/local/lib/python3.7/dist-packages (from streamlit) (3.1.14)\n",
            "Requirement already satisfied: click>=7.0 in /usr/local/lib/python3.7/dist-packages (from streamlit) (7.1.2)\n",
            "Requirement already satisfied: cachetools>=4.0 in /usr/local/lib/python3.7/dist-packages (from streamlit) (4.2.1)\n",
            "Requirement already satisfied: requests in /usr/local/lib/python3.7/dist-packages (from streamlit) (2.23.0)\n",
            "Requirement already satisfied: base58 in /usr/local/lib/python3.7/dist-packages (from streamlit) (2.1.0)\n",
            "Requirement already satisfied: blinker in /usr/local/lib/python3.7/dist-packages (from streamlit) (1.4)\n",
            "Requirement already satisfied: validators in /usr/local/lib/python3.7/dist-packages (from streamlit) (0.18.2)\n",
            "Requirement already satisfied: pillow>=6.2.0 in /usr/local/lib/python3.7/dist-packages (from streamlit) (7.0.0)\n",
            "Requirement already satisfied: pydeck>=0.1.dev5 in /usr/local/lib/python3.7/dist-packages (from streamlit) (0.6.1)\n",
            "Requirement already satisfied: toml in /usr/local/lib/python3.7/dist-packages (from streamlit) (0.10.2)\n",
            "Requirement already satisfied: pyarrow; python_version < \"3.9\" in /usr/local/lib/python3.7/dist-packages (from streamlit) (3.0.0)\n",
            "Requirement already satisfied: tzlocal in /usr/local/lib/python3.7/dist-packages (from streamlit) (1.5.1)\n",
            "Requirement already satisfied: astor in /usr/local/lib/python3.7/dist-packages (from streamlit) (0.8.1)\n",
            "Requirement already satisfied: numpy in /usr/local/lib/python3.7/dist-packages (from streamlit) (1.19.5)\n",
            "Requirement already satisfied: packaging in /usr/local/lib/python3.7/dist-packages (from streamlit) (20.9)\n",
            "Requirement already satisfied: pytz>=2017.2 in /usr/local/lib/python3.7/dist-packages (from pandas>=0.21.0->streamlit) (2018.9)\n",
            "Requirement already satisfied: jinja2 in /usr/local/lib/python3.7/dist-packages (from altair>=3.2.0->streamlit) (2.11.3)\n",
            "Requirement already satisfied: jsonschema in /usr/local/lib/python3.7/dist-packages (from altair>=3.2.0->streamlit) (2.6.0)\n",
            "Requirement already satisfied: toolz in /usr/local/lib/python3.7/dist-packages (from altair>=3.2.0->streamlit) (0.11.1)\n",
            "Requirement already satisfied: entrypoints in /usr/local/lib/python3.7/dist-packages (from altair>=3.2.0->streamlit) (0.3)\n",
            "Requirement already satisfied: setuptools in /usr/local/lib/python3.7/dist-packages (from protobuf!=3.11,>=3.6.0->streamlit) (53.0.0)\n",
            "Requirement already satisfied: six>=1.9 in /usr/local/lib/python3.7/dist-packages (from protobuf!=3.11,>=3.6.0->streamlit) (1.15.0)\n",
            "Requirement already satisfied: gitdb<5,>=4.0.1 in /usr/local/lib/python3.7/dist-packages (from gitpython->streamlit) (4.0.5)\n",
            "Requirement already satisfied: urllib3!=1.25.0,!=1.25.1,<1.26,>=1.21.1 in /usr/local/lib/python3.7/dist-packages (from requests->streamlit) (1.24.3)\n",
            "Requirement already satisfied: certifi>=2017.4.17 in /usr/local/lib/python3.7/dist-packages (from requests->streamlit) (2020.12.5)\n",
            "Requirement already satisfied: chardet<4,>=3.0.2 in /usr/local/lib/python3.7/dist-packages (from requests->streamlit) (3.0.4)\n",
            "Requirement already satisfied: idna<3,>=2.5 in /usr/local/lib/python3.7/dist-packages (from requests->streamlit) (2.10)\n",
            "Requirement already satisfied: decorator>=3.4.0 in /usr/local/lib/python3.7/dist-packages (from validators->streamlit) (4.4.2)\n",
            "Requirement already satisfied: traitlets>=4.3.2 in /usr/local/lib/python3.7/dist-packages (from pydeck>=0.1.dev5->streamlit) (5.0.5)\n",
            "Requirement already satisfied: ipykernel>=5.1.2; python_version >= \"3.4\" in /usr/local/lib/python3.7/dist-packages (from pydeck>=0.1.dev5->streamlit) (5.5.0)\n",
            "Requirement already satisfied: ipywidgets>=7.0.0 in /usr/local/lib/python3.7/dist-packages (from pydeck>=0.1.dev5->streamlit) (7.6.3)\n",
            "Requirement already satisfied: pyparsing>=2.0.2 in /usr/local/lib/python3.7/dist-packages (from packaging->streamlit) (2.4.7)\n",
            "Requirement already satisfied: MarkupSafe>=0.23 in /usr/local/lib/python3.7/dist-packages (from jinja2->altair>=3.2.0->streamlit) (1.1.1)\n",
            "Requirement already satisfied: smmap<4,>=3.0.1 in /usr/local/lib/python3.7/dist-packages (from gitdb<5,>=4.0.1->gitpython->streamlit) (3.0.5)\n",
            "Requirement already satisfied: ipython-genutils in /usr/local/lib/python3.7/dist-packages (from traitlets>=4.3.2->pydeck>=0.1.dev5->streamlit) (0.2.0)\n",
            "Requirement already satisfied: jupyter-client in /usr/local/lib/python3.7/dist-packages (from ipykernel>=5.1.2; python_version >= \"3.4\"->pydeck>=0.1.dev5->streamlit) (5.3.5)\n",
            "Requirement already satisfied: ipython>=5.0.0 in /usr/local/lib/python3.7/dist-packages (from ipykernel>=5.1.2; python_version >= \"3.4\"->pydeck>=0.1.dev5->streamlit) (5.5.0)\n",
            "Requirement already satisfied: nbformat>=4.2.0 in /usr/local/lib/python3.7/dist-packages (from ipywidgets>=7.0.0->pydeck>=0.1.dev5->streamlit) (5.1.2)\n",
            "Requirement already satisfied: widgetsnbextension~=3.5.0 in /usr/local/lib/python3.7/dist-packages (from ipywidgets>=7.0.0->pydeck>=0.1.dev5->streamlit) (3.5.1)\n",
            "Requirement already satisfied: jupyterlab-widgets>=1.0.0; python_version >= \"3.6\" in /usr/local/lib/python3.7/dist-packages (from ipywidgets>=7.0.0->pydeck>=0.1.dev5->streamlit) (1.0.0)\n",
            "Requirement already satisfied: pyzmq>=13 in /usr/local/lib/python3.7/dist-packages (from jupyter-client->ipykernel>=5.1.2; python_version >= \"3.4\"->pydeck>=0.1.dev5->streamlit) (22.0.3)\n",
            "Requirement already satisfied: jupyter-core>=4.6.0 in /usr/local/lib/python3.7/dist-packages (from jupyter-client->ipykernel>=5.1.2; python_version >= \"3.4\"->pydeck>=0.1.dev5->streamlit) (4.7.1)\n",
            "Requirement already satisfied: pexpect; sys_platform != \"win32\" in /usr/local/lib/python3.7/dist-packages (from ipython>=5.0.0->ipykernel>=5.1.2; python_version >= \"3.4\"->pydeck>=0.1.dev5->streamlit) (4.8.0)\n",
            "Requirement already satisfied: pickleshare in /usr/local/lib/python3.7/dist-packages (from ipython>=5.0.0->ipykernel>=5.1.2; python_version >= \"3.4\"->pydeck>=0.1.dev5->streamlit) (0.7.5)\n",
            "Requirement already satisfied: prompt-toolkit<2.0.0,>=1.0.4 in /usr/local/lib/python3.7/dist-packages (from ipython>=5.0.0->ipykernel>=5.1.2; python_version >= \"3.4\"->pydeck>=0.1.dev5->streamlit) (1.0.18)\n",
            "Requirement already satisfied: simplegeneric>0.8 in /usr/local/lib/python3.7/dist-packages (from ipython>=5.0.0->ipykernel>=5.1.2; python_version >= \"3.4\"->pydeck>=0.1.dev5->streamlit) (0.8.1)\n",
            "Requirement already satisfied: pygments in /usr/local/lib/python3.7/dist-packages (from ipython>=5.0.0->ipykernel>=5.1.2; python_version >= \"3.4\"->pydeck>=0.1.dev5->streamlit) (2.6.1)\n",
            "Requirement already satisfied: notebook>=4.4.1 in /usr/local/lib/python3.7/dist-packages (from widgetsnbextension~=3.5.0->ipywidgets>=7.0.0->pydeck>=0.1.dev5->streamlit) (5.3.1)\n",
            "Requirement already satisfied: ptyprocess>=0.5 in /usr/local/lib/python3.7/dist-packages (from pexpect; sys_platform != \"win32\"->ipython>=5.0.0->ipykernel>=5.1.2; python_version >= \"3.4\"->pydeck>=0.1.dev5->streamlit) (0.7.0)\n",
            "Requirement already satisfied: wcwidth in /usr/local/lib/python3.7/dist-packages (from prompt-toolkit<2.0.0,>=1.0.4->ipython>=5.0.0->ipykernel>=5.1.2; python_version >= \"3.4\"->pydeck>=0.1.dev5->streamlit) (0.2.5)\n",
            "Requirement already satisfied: terminado>=0.8.1 in /usr/local/lib/python3.7/dist-packages (from notebook>=4.4.1->widgetsnbextension~=3.5.0->ipywidgets>=7.0.0->pydeck>=0.1.dev5->streamlit) (0.9.2)\n",
            "Requirement already satisfied: nbconvert in /usr/local/lib/python3.7/dist-packages (from notebook>=4.4.1->widgetsnbextension~=3.5.0->ipywidgets>=7.0.0->pydeck>=0.1.dev5->streamlit) (5.6.1)\n",
            "Requirement already satisfied: Send2Trash in /usr/local/lib/python3.7/dist-packages (from notebook>=4.4.1->widgetsnbextension~=3.5.0->ipywidgets>=7.0.0->pydeck>=0.1.dev5->streamlit) (1.5.0)\n",
            "Requirement already satisfied: mistune<2,>=0.8.1 in /usr/local/lib/python3.7/dist-packages (from nbconvert->notebook>=4.4.1->widgetsnbextension~=3.5.0->ipywidgets>=7.0.0->pydeck>=0.1.dev5->streamlit) (0.8.4)\n",
            "Requirement already satisfied: testpath in /usr/local/lib/python3.7/dist-packages (from nbconvert->notebook>=4.4.1->widgetsnbextension~=3.5.0->ipywidgets>=7.0.0->pydeck>=0.1.dev5->streamlit) (0.4.4)\n",
            "Requirement already satisfied: pandocfilters>=1.4.1 in /usr/local/lib/python3.7/dist-packages (from nbconvert->notebook>=4.4.1->widgetsnbextension~=3.5.0->ipywidgets>=7.0.0->pydeck>=0.1.dev5->streamlit) (1.4.3)\n",
            "Requirement already satisfied: defusedxml in /usr/local/lib/python3.7/dist-packages (from nbconvert->notebook>=4.4.1->widgetsnbextension~=3.5.0->ipywidgets>=7.0.0->pydeck>=0.1.dev5->streamlit) (0.6.0)\n",
            "Requirement already satisfied: bleach in /usr/local/lib/python3.7/dist-packages (from nbconvert->notebook>=4.4.1->widgetsnbextension~=3.5.0->ipywidgets>=7.0.0->pydeck>=0.1.dev5->streamlit) (3.3.0)\n",
            "Requirement already satisfied: webencodings in /usr/local/lib/python3.7/dist-packages (from bleach->nbconvert->notebook>=4.4.1->widgetsnbextension~=3.5.0->ipywidgets>=7.0.0->pydeck>=0.1.dev5->streamlit) (0.5.1)\n"
          ],
          "name": "stdout"
        }
      ]
    },
    {
      "cell_type": "code",
      "metadata": {
        "colab": {
          "base_uri": "https://localhost:8080/"
        },
        "id": "YSB9O2cBukEG",
        "outputId": "3d23fcee-2dbf-4fba-c0be-723e7d4be010"
      },
      "source": [
        "!pip install pyngrok"
      ],
      "execution_count": 39,
      "outputs": [
        {
          "output_type": "stream",
          "text": [
            "Requirement already satisfied: pyngrok in /usr/local/lib/python3.7/dist-packages (5.0.2)\n",
            "Requirement already satisfied: PyYAML in /usr/local/lib/python3.7/dist-packages (from pyngrok) (3.13)\n"
          ],
          "name": "stdout"
        }
      ]
    },
    {
      "cell_type": "code",
      "metadata": {
        "id": "TpiMbvAaumqe"
      },
      "source": [
        "from pyngrok import ngrok"
      ],
      "execution_count": 40,
      "outputs": []
    },
    {
      "cell_type": "code",
      "metadata": {
        "colab": {
          "base_uri": "https://localhost:8080/"
        },
        "id": "sLQOHk9XuQ2e",
        "outputId": "052c67c4-4314-4324-ee60-ca75b4562fcf"
      },
      "source": [
        "%%writefile app.py\r\n",
        "## Import libs\r\n",
        "\r\n",
        "import os\r\n",
        "os.environ['TF_CPP_MIN_LOG_LEVEL'] = '3'\r\n",
        "import tensorflow as tf\r\n",
        "import string\r\n",
        "import numpy as np\r\n",
        "from tensorflow.keras.models import  Sequential\r\n",
        "from tensorflow.keras.preprocessing.text import Tokenizer\r\n",
        "from tensorflow.keras.utils import to_categorical\r\n",
        "from tensorflow.keras.layers import Dense,LSTM ,Dropout, Embedding\r\n",
        "from tensorflow.keras.preprocessing.sequence import pad_sequences\r\n",
        "from tensorflow.keras.layers import Embedding, Dropout, LSTM, Dense, Bidirectional \r\n",
        "import warnings\r\n",
        "warnings.filterwarnings('ignore')\r\n",
        "\r\n",
        "import streamlit as st\r\n",
        "import pickle\r\n",
        "import time\r\n",
        "import pandas as pd\r\n",
        "\r\n",
        "import base64\r\n",
        "\r\n",
        "\r\n",
        "\r\n",
        "## Read file\r\n",
        "def main():\r\n",
        "    st.markdown(\"<h1 style='text-align: center; color: red;'>Song Lyrics Generator</h1>\", unsafe_allow_html=True)\r\n",
        "\r\n",
        "    \r\n",
        "    # Tokenization\r\n",
        "    df = pd.read_csv(\"/content/final_song_df.csv\")\r\n",
        "    tokenizer = Tokenizer()\r\n",
        "    tokenizer.fit_on_texts(df['Lyric'].astype(str).str.lower())\r\n",
        "\r\n",
        "    \r\n",
        "    # create model\r\n",
        "    model = Sequential()\r\n",
        "    model.add(Embedding(8556, 40, input_length=656-1))\r\n",
        "    model.add(Bidirectional(LSTM(250)))\r\n",
        "    model.add(Dropout(0.1))\r\n",
        "    model.add(Dense(8556, activation='softmax'))\r\n",
        "   \r\n",
        "\r\n",
        "\r\n",
        "    ## Load model using checkpoint\r\n",
        "    checkpoint_path = \"lstm-model.ckpt\"\r\n",
        "    model.load_weights(checkpoint_path)\r\n",
        "\r\n",
        "\r\n",
        "    ## predict func\r\n",
        "    def complete_this_song(seed_text, next_words):\r\n",
        "        for _ in range(next_words):\r\n",
        "            # tokenizer = Tokenizer()\r\n",
        "            token_list = tokenizer.texts_to_sequences([seed_text])[0]\r\n",
        "            token_list = pad_sequences([token_list], maxlen=656-1, padding='pre')\r\n",
        "            predicted = model.predict_classes(token_list, verbose=0)\r\n",
        "        \r\n",
        "            output_word = \"\"\r\n",
        "            for word, index in tokenizer.word_index.items():\r\n",
        "                if index == predicted:\r\n",
        "                    output_word = word\r\n",
        "                    break\r\n",
        "            seed_text += \" \" + output_word\r\n",
        "        return seed_text\r\n",
        "\r\n",
        "    \r\n",
        "    seed_text = st.text_area('Start your song lyrics:', '', height=200, max_chars=1000)\r\n",
        "    next_words = slider = st.slider('Max text length (in characters)', 5, 1000)\r\n",
        "    button = st.button('Generate')\r\n",
        "\r\n",
        "\r\n",
        "    if button:\r\n",
        "        st.markdown(f\"\"\"<h3 style='text-align: center; color: white;background :rgba(153, 184, 20, 0.9);'> {complete_this_song(seed_text, next_words)}</h3>\"\"\", unsafe_allow_html=True)\r\n",
        " \r\n",
        "\r\n",
        "if __name__ == \"__main__\":\r\n",
        "    main()"
      ],
      "execution_count": 64,
      "outputs": [
        {
          "output_type": "stream",
          "text": [
            "Overwriting app.py\n"
          ],
          "name": "stdout"
        }
      ]
    },
    {
      "cell_type": "code",
      "metadata": {
        "id": "-yxuE6BVuf7O"
      },
      "source": [
        "public_url = ngrok.connect(port=80)"
      ],
      "execution_count": 65,
      "outputs": []
    },
    {
      "cell_type": "code",
      "metadata": {
        "id": "TS44UJCSutWm"
      },
      "source": [
        "print(public_url)\r\n",
        "!streamlit run --server.port 80 app.py >/dev/null"
      ],
      "execution_count": null,
      "outputs": []
    }
  ]
}