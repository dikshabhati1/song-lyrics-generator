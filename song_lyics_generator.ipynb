{
  "nbformat": 4,
  "nbformat_minor": 0,
  "metadata": {
    "colab": {
      "name": "song-lyics-generator.ipynb",
      "provenance": [],
      "collapsed_sections": [],
      "include_colab_link": true
    },
    "kernelspec": {
      "name": "python3",
      "display_name": "Python 3"
    },
    "accelerator": "GPU"
  },
  "cells": [
    {
      "cell_type": "markdown",
      "metadata": {
        "id": "view-in-github",
        "colab_type": "text"
      },
      "source": [
        "<a href=\"https://colab.research.google.com/github/dikshabhati1/song-lyrics-generator/blob/main/song_lyics_generator.ipynb\" target=\"_parent\"><img src=\"https://colab.research.google.com/assets/colab-badge.svg\" alt=\"Open In Colab\"/></a>"
      ]
    },
    {
      "cell_type": "code",
      "metadata": {
        "id": "u0pHK9jqGost"
      },
      "source": [
        "import pandas as pd\n",
        "import numpy as np\n",
        "import seaborn as sns\n",
        "import matplotlib.pyplot as plt\n",
        "from wordcloud import WordCloud, STOPWORDS, ImageColorGenerator\n",
        "import string, os \n",
        "import tensorflow as tf\n",
        " \n",
        "# keras module for building LSTM \n",
        "from keras.preprocessing.sequence import pad_sequences\n",
        "from tensorflow.keras.layers import Embedding, Dropout, LSTM, Dense, Bidirectional \n",
        "from keras.preprocessing.text import Tokenizer\n",
        "from keras.callbacks import EarlyStopping\n",
        "from keras.models import Sequential\n",
        " \n",
        "import matplotlib.pyplot as plt\n",
        "import seaborn as sns"
      ],
      "execution_count": 2,
      "outputs": []
    },
    {
      "cell_type": "code",
      "metadata": {
        "id": "W5VY2HulGQ_V"
      },
      "source": [
        "df = pd.read_csv('/content/song-lyrics.csv')"
      ],
      "execution_count": 3,
      "outputs": []
    },
    {
      "cell_type": "code",
      "metadata": {
        "colab": {
          "base_uri": "https://localhost:8080/",
          "height": 204
        },
        "id": "jgcKq8g3GslK",
        "outputId": "1e45ff6f-59f0-4606-be84-1c7665a0d0ed"
      },
      "source": [
        "# first few rows\n",
        "df.head()"
      ],
      "execution_count": 4,
      "outputs": [
        {
          "output_type": "execute_result",
          "data": {
            "text/html": [
              "<div>\n",
              "<style scoped>\n",
              "    .dataframe tbody tr th:only-of-type {\n",
              "        vertical-align: middle;\n",
              "    }\n",
              "\n",
              "    .dataframe tbody tr th {\n",
              "        vertical-align: top;\n",
              "    }\n",
              "\n",
              "    .dataframe thead th {\n",
              "        text-align: right;\n",
              "    }\n",
              "</style>\n",
              "<table border=\"1\" class=\"dataframe\">\n",
              "  <thead>\n",
              "    <tr style=\"text-align: right;\">\n",
              "      <th></th>\n",
              "      <th>lyrics</th>\n",
              "      <th>song_name</th>\n",
              "    </tr>\n",
              "  </thead>\n",
              "  <tbody>\n",
              "    <tr>\n",
              "      <th>0</th>\n",
              "      <td>Died last night in my dreams.Walking the stree...</td>\n",
              "      <td>Ghost Town</td>\n",
              "    </tr>\n",
              "    <tr>\n",
              "      <th>1</th>\n",
              "      <td>Hey, slow it down.Whataya want from me?.Whatay...</td>\n",
              "      <td>Whataya Want From Me</td>\n",
              "    </tr>\n",
              "    <tr>\n",
              "      <th>2</th>\n",
              "      <td>Steel to my trembling lips.How did the night e...</td>\n",
              "      <td>Runnin’</td>\n",
              "    </tr>\n",
              "    <tr>\n",
              "      <th>3</th>\n",
              "      <td>I only trust my tarot cards.Pink flamingos in ...</td>\n",
              "      <td>Two Fux</td>\n",
              "    </tr>\n",
              "    <tr>\n",
              "      <th>4</th>\n",
              "      <td>Alone in the dark.Hole in my heart.Turn on the...</td>\n",
              "      <td>Another Lonely Night</td>\n",
              "    </tr>\n",
              "  </tbody>\n",
              "</table>\n",
              "</div>"
            ],
            "text/plain": [
              "                                              lyrics             song_name\n",
              "0  Died last night in my dreams.Walking the stree...            Ghost Town\n",
              "1  Hey, slow it down.Whataya want from me?.Whatay...  Whataya Want From Me\n",
              "2  Steel to my trembling lips.How did the night e...               Runnin’\n",
              "3  I only trust my tarot cards.Pink flamingos in ...               Two Fux\n",
              "4  Alone in the dark.Hole in my heart.Turn on the...  Another Lonely Night"
            ]
          },
          "metadata": {
            "tags": []
          },
          "execution_count": 4
        }
      ]
    },
    {
      "cell_type": "code",
      "metadata": {
        "colab": {
          "base_uri": "https://localhost:8080/"
        },
        "id": "kmMltH5zGycU",
        "outputId": "d1242591-7892-48a2-db41-fb85165250db"
      },
      "source": [
        "# shape\n",
        "df.shape"
      ],
      "execution_count": 5,
      "outputs": [
        {
          "output_type": "execute_result",
          "data": {
            "text/plain": [
              "(683, 2)"
            ]
          },
          "metadata": {
            "tags": []
          },
          "execution_count": 5
        }
      ]
    },
    {
      "cell_type": "markdown",
      "metadata": {
        "id": "k817gG_5G86d"
      },
      "source": [
        "I don't have much memory in this google colab.So we can't train the model on whole dataset.So I am going to take first 600 rows.If you have more memory in your local then go ahead and train the model on whole dataset"
      ]
    },
    {
      "cell_type": "code",
      "metadata": {
        "id": "vPmLSvBDG7Mb"
      },
      "source": [
        "# take first 700 rows\n",
        "df = df[:600]"
      ],
      "execution_count": 6,
      "outputs": []
    },
    {
      "cell_type": "code",
      "metadata": {
        "colab": {
          "base_uri": "https://localhost:8080/"
        },
        "id": "4q6J5q-THCJ-",
        "outputId": "83d68228-c9b1-4007-8c4d-fcca8c4e8473"
      },
      "source": [
        "# shape\n",
        "df.shape"
      ],
      "execution_count": 7,
      "outputs": [
        {
          "output_type": "execute_result",
          "data": {
            "text/plain": [
              "(600, 2)"
            ]
          },
          "metadata": {
            "tags": []
          },
          "execution_count": 7
        }
      ]
    },
    {
      "cell_type": "code",
      "metadata": {
        "id": "AE_oJ4ZQ7BrV"
      },
      "source": [
        "df.to_csv('final_song_df.csv',index=False)"
      ],
      "execution_count": 8,
      "outputs": []
    },
    {
      "cell_type": "markdown",
      "metadata": {
        "id": "k1OiqDXjHGRP"
      },
      "source": [
        "# Data Visualization"
      ]
    },
    {
      "cell_type": "code",
      "metadata": {
        "colab": {
          "base_uri": "https://localhost:8080/",
          "height": 204
        },
        "id": "VEUpEZ-lHDp3",
        "outputId": "80ef7e3d-1d1c-430f-855e-7eba70c91edc"
      },
      "source": [
        "df['Number_of_words'] = df['lyrics'].apply(lambda x:len(str(x).split()))\n",
        "df.head()"
      ],
      "execution_count": 9,
      "outputs": [
        {
          "output_type": "execute_result",
          "data": {
            "text/html": [
              "<div>\n",
              "<style scoped>\n",
              "    .dataframe tbody tr th:only-of-type {\n",
              "        vertical-align: middle;\n",
              "    }\n",
              "\n",
              "    .dataframe tbody tr th {\n",
              "        vertical-align: top;\n",
              "    }\n",
              "\n",
              "    .dataframe thead th {\n",
              "        text-align: right;\n",
              "    }\n",
              "</style>\n",
              "<table border=\"1\" class=\"dataframe\">\n",
              "  <thead>\n",
              "    <tr style=\"text-align: right;\">\n",
              "      <th></th>\n",
              "      <th>lyrics</th>\n",
              "      <th>song_name</th>\n",
              "      <th>Number_of_words</th>\n",
              "    </tr>\n",
              "  </thead>\n",
              "  <tbody>\n",
              "    <tr>\n",
              "      <th>0</th>\n",
              "      <td>Died last night in my dreams.Walking the stree...</td>\n",
              "      <td>Ghost Town</td>\n",
              "      <td>185</td>\n",
              "    </tr>\n",
              "    <tr>\n",
              "      <th>1</th>\n",
              "      <td>Hey, slow it down.Whataya want from me?.Whatay...</td>\n",
              "      <td>Whataya Want From Me</td>\n",
              "      <td>271</td>\n",
              "    </tr>\n",
              "    <tr>\n",
              "      <th>2</th>\n",
              "      <td>Steel to my trembling lips.How did the night e...</td>\n",
              "      <td>Runnin’</td>\n",
              "      <td>266</td>\n",
              "    </tr>\n",
              "    <tr>\n",
              "      <th>3</th>\n",
              "      <td>I only trust my tarot cards.Pink flamingos in ...</td>\n",
              "      <td>Two Fux</td>\n",
              "      <td>310</td>\n",
              "    </tr>\n",
              "    <tr>\n",
              "      <th>4</th>\n",
              "      <td>Alone in the dark.Hole in my heart.Turn on the...</td>\n",
              "      <td>Another Lonely Night</td>\n",
              "      <td>184</td>\n",
              "    </tr>\n",
              "  </tbody>\n",
              "</table>\n",
              "</div>"
            ],
            "text/plain": [
              "                                              lyrics  ... Number_of_words\n",
              "0  Died last night in my dreams.Walking the stree...  ...             185\n",
              "1  Hey, slow it down.Whataya want from me?.Whatay...  ...             271\n",
              "2  Steel to my trembling lips.How did the night e...  ...             266\n",
              "3  I only trust my tarot cards.Pink flamingos in ...  ...             310\n",
              "4  Alone in the dark.Hole in my heart.Turn on the...  ...             184\n",
              "\n",
              "[5 rows x 3 columns]"
            ]
          },
          "metadata": {
            "tags": []
          },
          "execution_count": 9
        }
      ]
    },
    {
      "cell_type": "code",
      "metadata": {
        "colab": {
          "base_uri": "https://localhost:8080/"
        },
        "id": "hpOVvb3LGhvL",
        "outputId": "36689711-ca7b-4d79-aa8f-b0aab897bdd5"
      },
      "source": [
        "# statistical info\n",
        "df['Number_of_words'].describe()"
      ],
      "execution_count": 10,
      "outputs": [
        {
          "output_type": "execute_result",
          "data": {
            "text/plain": [
              "count     600.000000\n",
              "mean      279.651667\n",
              "std       194.010766\n",
              "min        37.000000\n",
              "25%       152.000000\n",
              "50%       229.000000\n",
              "75%       337.500000\n",
              "max      1374.000000\n",
              "Name: Number_of_words, dtype: float64"
            ]
          },
          "metadata": {
            "tags": []
          },
          "execution_count": 10
        }
      ]
    },
    {
      "cell_type": "markdown",
      "metadata": {
        "id": "a5_pIrHzHNLZ"
      },
      "source": [
        "So from above we can see the max length is 1384 and average song lyrics words length is 249"
      ]
    },
    {
      "cell_type": "markdown",
      "metadata": {
        "id": "ytHVJy3eHVre"
      },
      "source": [
        "**Frequency distribution of number of words**"
      ]
    },
    {
      "cell_type": "code",
      "metadata": {
        "colab": {
          "base_uri": "https://localhost:8080/",
          "height": 483
        },
        "id": "nNmmSpexHLG9",
        "outputId": "7a52a6e6-0149-484a-b3c3-28d34e252b3e"
      },
      "source": [
        "import matplotlib.pyplot as plt\n",
        "plt.style.use('ggplot')\n",
        "plt.figure(figsize=(12,6))\n",
        "sns.distplot(df['Number_of_words'],kde = False,color=\"red\",bins=200)\n",
        "plt.title(\"Frequency distribution of number of words for each text extracted\", size=20)"
      ],
      "execution_count": 11,
      "outputs": [
        {
          "output_type": "stream",
          "text": [
            "/usr/local/lib/python3.7/dist-packages/seaborn/distributions.py:2557: FutureWarning: `distplot` is a deprecated function and will be removed in a future version. Please adapt your code to use either `displot` (a figure-level function with similar flexibility) or `histplot` (an axes-level function for histograms).\n",
            "  warnings.warn(msg, FutureWarning)\n"
          ],
          "name": "stderr"
        },
        {
          "output_type": "execute_result",
          "data": {
            "text/plain": [
              "Text(0.5, 1.0, 'Frequency distribution of number of words for each text extracted')"
            ]
          },
          "metadata": {
            "tags": []
          },
          "execution_count": 11
        },
        {
          "output_type": "display_data",
          "data": {
            "image/png": "[encoded data removed]",
            "text/plain": [
              "<Figure size 864x432 with 1 Axes>"
            ]
          },
          "metadata": {
            "tags": []
          }
        }
      ]
    },
    {
      "cell_type": "markdown",
      "metadata": {
        "id": "sK0xWb3lHf6e"
      },
      "source": [
        "# Data Preprocessing"
      ]
    },
    {
      "cell_type": "markdown",
      "metadata": {
        "id": "GOvZ2gEuHjiC"
      },
      "source": [
        "First of all we are going to do tokenization then we will generate sequence of n-grams.After that we will going to do padding.Padding is required because all the sentences are of different length so we need to make them of same length.We will going to do this by adding 0 in the beginning of the text with the help of pad_sequences function of keras"
      ]
    },
    {
      "cell_type": "code",
      "metadata": {
        "colab": {
          "base_uri": "https://localhost:8080/"
        },
        "id": "LsvdOrZeHaVo",
        "outputId": "03a8117c-b171-4250-ec2b-17cf5783ab58"
      },
      "source": [
        "# Tokenization\n",
        "tokenizer = Tokenizer()\n",
        "tokenizer.fit_on_texts(df['lyrics'].astype(str).str.lower())\n",
        "\n",
        "total_words = len(tokenizer.word_index)+1\n",
        "tokenized_sentences = tokenizer.texts_to_sequences(df['lyrics'].astype(str))\n",
        "tokenized_sentences[0]"
      ],
      "execution_count": 14,
      "outputs": [
        {
          "output_type": "execute_result",
          "data": {
            "text/plain": [
              "[1467,\n",
              " 234,\n",
              " 86,\n",
              " 10,\n",
              " 8,\n",
              " 415,\n",
              " 512,\n",
              " 2,\n",
              " 819,\n",
              " 15,\n",
              " 94,\n",
              " 157,\n",
              " 843,\n",
              " 356,\n",
              " 3,\n",
              " 639,\n",
              " 6,\n",
              " 300,\n",
              " 10,\n",
              " 321,\n",
              " 5,\n",
              " 2012,\n",
              " 3350,\n",
              " 22,\n",
              " 2013,\n",
              " 1569,\n",
              " 49,\n",
              " 390,\n",
              " 23,\n",
              " 15,\n",
              " 2,\n",
              " 1238,\n",
              " 1128,\n",
              " 31,\n",
              " 2,\n",
              " 4203,\n",
              " 3,\n",
              " 88,\n",
              " 72,\n",
              " 3351,\n",
              " 1042,\n",
              " 173,\n",
              " 2,\n",
              " 1382,\n",
              " 820,\n",
              " 49,\n",
              " 14,\n",
              " 187,\n",
              " 22,\n",
              " 83,\n",
              " 46,\n",
              " 33,\n",
              " 1005,\n",
              " 5,\n",
              " 47,\n",
              " 3,\n",
              " 16,\n",
              " 8,\n",
              " 96,\n",
              " 30,\n",
              " 4,\n",
              " 843,\n",
              " 356,\n",
              " 8,\n",
              " 96,\n",
              " 30,\n",
              " 4,\n",
              " 843,\n",
              " 356,\n",
              " 8,\n",
              " 96,\n",
              " 30,\n",
              " 4,\n",
              " 843,\n",
              " 356,\n",
              " 8,\n",
              " 96,\n",
              " 30,\n",
              " 4,\n",
              " 843,\n",
              " 356,\n",
              " 1467,\n",
              " 234,\n",
              " 86,\n",
              " 10,\n",
              " 8,\n",
              " 415,\n",
              " 23,\n",
              " 2,\n",
              " 3352,\n",
              " 103,\n",
              " 92,\n",
              " 4204,\n",
              " 54,\n",
              " 46,\n",
              " 2218,\n",
              " 63,\n",
              " 2,\n",
              " 550,\n",
              " 5,\n",
              " 23,\n",
              " 15,\n",
              " 8,\n",
              " 318,\n",
              " 103,\n",
              " 92,\n",
              " 5757,\n",
              " 47,\n",
              " 12,\n",
              " 1129,\n",
              " 19,\n",
              " 879,\n",
              " 10,\n",
              " 4,\n",
              " 391,\n",
              " 15,\n",
              " 5758,\n",
              " 4,\n",
              " 391,\n",
              " 15,\n",
              " 5759,\n",
              " 124,\n",
              " 2494,\n",
              " 30,\n",
              " 615,\n",
              " 5,\n",
              " 4205,\n",
              " 1239,\n",
              " 5,\n",
              " 24,\n",
              " 30,\n",
              " 4,\n",
              " 5760,\n",
              " 5,\n",
              " 47,\n",
              " 3,\n",
              " 16,\n",
              " 8,\n",
              " 96,\n",
              " 30,\n",
              " 4,\n",
              " 843,\n",
              " 356,\n",
              " 8,\n",
              " 96,\n",
              " 30,\n",
              " 4,\n",
              " 843,\n",
              " 356,\n",
              " 48,\n",
              " 8,\n",
              " 96,\n",
              " 30,\n",
              " 4,\n",
              " 843,\n",
              " 356,\n",
              " 8,\n",
              " 96,\n",
              " 30,\n",
              " 4,\n",
              " 843,\n",
              " 356,\n",
              " 126,\n",
              " 33,\n",
              " 56,\n",
              " 181,\n",
              " 10,\n",
              " 2,\n",
              " 143,\n",
              " 12,\n",
              " 5761,\n",
              " 18,\n",
              " 90,\n",
              " 4,\n",
              " 112,\n",
              " 38,\n",
              " 3,\n",
              " 41,\n",
              " 51,\n",
              " 51,\n",
              " 51,\n",
              " 3,\n",
              " 35,\n",
              " 4,\n",
              " 969,\n",
              " 10,\n",
              " 8,\n",
              " 295,\n",
              " 13,\n",
              " 880,\n",
              " 752,\n",
              " 17,\n",
              " 8,\n",
              " 96,\n",
              " 30,\n",
              " 4,\n",
              " 843,\n",
              " 356,\n",
              " 48,\n",
              " 8,\n",
              " 96,\n",
              " 30,\n",
              " 4,\n",
              " 843,\n",
              " 356,\n",
              " 17,\n",
              " 8,\n",
              " 96,\n",
              " 30,\n",
              " 4,\n",
              " 843,\n",
              " 356,\n",
              " 101,\n",
              " 8,\n",
              " 96,\n",
              " 8,\n",
              " 96,\n",
              " 30,\n",
              " 4,\n",
              " 843,\n",
              " 356,\n",
              " 8,\n",
              " 96,\n",
              " 30,\n",
              " 4,\n",
              " 843,\n",
              " 356]"
            ]
          },
          "metadata": {
            "tags": []
          },
          "execution_count": 14
        }
      ]
    },
    {
      "cell_type": "code",
      "metadata": {
        "colab": {
          "base_uri": "https://localhost:8080/"
        },
        "id": "sNbSVgGRHloA",
        "outputId": "45c94712-7fc3-4d2a-da3a-41f1840e42c1"
      },
      "source": [
        "total_words"
      ],
      "execution_count": 15,
      "outputs": [
        {
          "output_type": "execute_result",
          "data": {
            "text/plain": [
              "10714"
            ]
          },
          "metadata": {
            "tags": []
          },
          "execution_count": 15
        }
      ]
    },
    {
      "cell_type": "code",
      "metadata": {
        "id": "yn6JskNHH8T4"
      },
      "source": [
        "# Slash sequences into n gram sequence\n",
        "input_sequences = list()\n",
        "for i in tokenized_sentences:\n",
        "    for t in range(1, len(i)):\n",
        "        n_gram_sequence = i[:t+1]\n",
        "        input_sequences.append(n_gram_sequence)\n",
        "        \n",
        "# Pre padding\n",
        "max_sequence_len = max([len(x) for x in input_sequences])\n",
        "input_sequences = np.array(pad_sequences(input_sequences, maxlen=max_sequence_len, padding='pre'))"
      ],
      "execution_count": 16,
      "outputs": []
    },
    {
      "cell_type": "code",
      "metadata": {
        "colab": {
          "base_uri": "https://localhost:8080/"
        },
        "id": "LKAglyhaIoOF",
        "outputId": "36063596-8531-4ed5-a085-92876d4b0acf"
      },
      "source": [
        "max_sequence_len"
      ],
      "execution_count": 17,
      "outputs": [
        {
          "output_type": "execute_result",
          "data": {
            "text/plain": [
              "1564"
            ]
          },
          "metadata": {
            "tags": []
          },
          "execution_count": 17
        }
      ]
    },
    {
      "cell_type": "code",
      "metadata": {
        "colab": {
          "base_uri": "https://localhost:8080/"
        },
        "id": "p6HqTkyhIEag",
        "outputId": "23e6d891-ed3f-472b-a8cd-df29402c6e74"
      },
      "source": [
        "input_sequences[:10]"
      ],
      "execution_count": 18,
      "outputs": [
        {
          "output_type": "execute_result",
          "data": {
            "text/plain": [
              "array([[   0,    0,    0, ...,    0, 1467,  234],\n",
              "       [   0,    0,    0, ..., 1467,  234,   86],\n",
              "       [   0,    0,    0, ...,  234,   86,   10],\n",
              "       ...,\n",
              "       [   0,    0,    0, ...,  512,    2,  819],\n",
              "       [   0,    0,    0, ...,    2,  819,   15],\n",
              "       [   0,    0,    0, ...,  819,   15,   94]], dtype=int32)"
            ]
          },
          "metadata": {
            "tags": []
          },
          "execution_count": 18
        }
      ]
    },
    {
      "cell_type": "markdown",
      "metadata": {
        "id": "9Lrv2uEwImpB"
      },
      "source": [
        "For the model, we need to create predictors and label. We are going to create N-grams sequence as predictors and the next word of the N-gram as label."
      ]
    },
    {
      "cell_type": "code",
      "metadata": {
        "id": "OwnHwEvNIkoM"
      },
      "source": [
        "# create predictors and label\n",
        "X, labels = input_sequences[:,:-1],input_sequences[:,-1]\n",
        "y = tf.keras.utils.to_categorical(labels, num_classes=total_words)"
      ],
      "execution_count": 19,
      "outputs": []
    },
    {
      "cell_type": "markdown",
      "metadata": {
        "id": "_UeK4UqzIyf_"
      },
      "source": [
        "# Model"
      ]
    },
    {
      "cell_type": "markdown",
      "metadata": {
        "id": "f02-OYPyIwVO"
      },
      "source": [
        "We will not going to create RNN model due to its vanishing gradient problem instead of that we will going to create LSTM model.LSTMs have an additional state called ‘cell state’ through which the network makes adjustments in the information flow. The advantage of this state is that the model can remember or forget the leanings more selectively."
      ]
    },
    {
      "cell_type": "code",
      "metadata": {
        "id": "0qcPZzfZIw84"
      },
      "source": [
        "# create model\n",
        "model = Sequential()\n",
        "model.add(Embedding(total_words, 40, input_length=max_sequence_len-1))\n",
        "model.add(Bidirectional(LSTM(250)))\n",
        "model.add(Dropout(0.1))\n",
        "model.add(Dense(total_words, activation='softmax'))\n",
        "\n",
        "# earlystop = EarlyStopping(monitor='loss', min_delta=0, patience=3, verbose=0, mode='auto')\n"
      ],
      "execution_count": 22,
      "outputs": []
    },
    {
      "cell_type": "code",
      "metadata": {
        "id": "0MuG7iqOJhf0"
      },
      "source": [
        "checkpoint_path = \"lstm-model.ckpt\"\n",
        "\n",
        "# Create a callback that saves the model's weights\n",
        "cp_callback = tf.keras.callbacks.ModelCheckpoint(filepath=checkpoint_path,\n",
        "                                                 save_weights_only=True,\n",
        "                                                 verbose=1)"
      ],
      "execution_count": 29,
      "outputs": []
    },
    {
      "cell_type": "code",
      "metadata": {
        "id": "9nhllfx-JtgP"
      },
      "source": [
        "model.compile(loss='categorical_crossentropy', optimizer='adam', metrics=['accuracy'])"
      ],
      "execution_count": 27,
      "outputs": []
    },
    {
      "cell_type": "code",
      "metadata": {
        "colab": {
          "base_uri": "https://localhost:8080/"
        },
        "id": "vOlN3uEOJzS5",
        "outputId": "424a75c6-d180-4582-c0a8-ff2a10d4a2cb"
      },
      "source": [
        "# train\n",
        "history = model.fit(X,y,batch_size = 256 , epochs = 30 ,callbacks=[cp_callback])"
      ],
      "execution_count": null,
      "outputs": [
        {
          "output_type": "stream",
          "text": [
            "Epoch 1/30\n",
            "687/687 [==============================] - 214s 311ms/step - loss: 5.7224 - accuracy: 0.0803\n",
            "\n",
            "Epoch 00001: saving model to lstm-model.ckpt\n",
            "Epoch 2/30\n",
            "687/687 [==============================] - 213s 310ms/step - loss: 5.2312 - accuracy: 0.1177\n",
            "\n",
            "Epoch 00002: saving model to lstm-model.ckpt\n",
            "Epoch 3/30\n",
            "687/687 [==============================] - 213s 310ms/step - loss: 4.7916 - accuracy: 0.1519\n",
            "\n",
            "Epoch 00003: saving model to lstm-model.ckpt\n",
            "Epoch 4/30\n",
            "687/687 [==============================] - 212s 309ms/step - loss: 4.4205 - accuracy: 0.1871\n",
            "\n",
            "Epoch 00004: saving model to lstm-model.ckpt\n",
            "Epoch 5/30\n",
            "687/687 [==============================] - 212s 309ms/step - loss: 4.0980 - accuracy: 0.2247\n",
            "\n",
            "Epoch 00005: saving model to lstm-model.ckpt\n",
            "Epoch 6/30\n",
            "687/687 [==============================] - 212s 309ms/step - loss: 3.8202 - accuracy: 0.2597\n",
            "\n",
            "Epoch 00006: saving model to lstm-model.ckpt\n",
            "Epoch 7/30\n",
            "687/687 [==============================] - 212s 309ms/step - loss: 3.5766 - accuracy: 0.2944\n",
            "\n",
            "Epoch 00007: saving model to lstm-model.ckpt\n",
            "Epoch 8/30\n",
            "687/687 [==============================] - 212s 309ms/step - loss: 3.3620 - accuracy: 0.3284\n",
            "\n",
            "Epoch 00008: saving model to lstm-model.ckpt\n",
            "Epoch 9/30\n",
            "687/687 [==============================] - 212s 309ms/step - loss: 3.1754 - accuracy: 0.3588\n",
            "\n",
            "Epoch 00009: saving model to lstm-model.ckpt\n",
            "Epoch 10/30\n",
            "687/687 [==============================] - 212s 309ms/step - loss: 3.0115 - accuracy: 0.3864\n",
            "\n",
            "Epoch 00010: saving model to lstm-model.ckpt\n",
            "Epoch 11/30\n",
            "687/687 [==============================] - 212s 309ms/step - loss: 2.8660 - accuracy: 0.4110\n",
            "\n",
            "Epoch 00011: saving model to lstm-model.ckpt\n",
            "Epoch 12/30\n",
            "687/687 [==============================] - 213s 310ms/step - loss: 2.7496 - accuracy: 0.4330\n",
            "\n",
            "Epoch 00012: saving model to lstm-model.ckpt\n",
            "Epoch 13/30\n",
            "687/687 [==============================] - 213s 309ms/step - loss: 2.6181 - accuracy: 0.4547\n",
            "\n",
            "Epoch 00013: saving model to lstm-model.ckpt\n",
            "Epoch 14/30\n",
            "687/687 [==============================] - 213s 310ms/step - loss: 2.5089 - accuracy: 0.4731\n",
            "\n",
            "Epoch 00014: saving model to lstm-model.ckpt\n",
            "Epoch 15/30\n",
            "687/687 [==============================] - 213s 309ms/step - loss: 2.4133 - accuracy: 0.4900\n",
            "\n",
            "Epoch 00015: saving model to lstm-model.ckpt\n",
            "Epoch 16/30\n",
            "687/687 [==============================] - 213s 309ms/step - loss: 2.3215 - accuracy: 0.5062\n",
            "\n",
            "Epoch 00016: saving model to lstm-model.ckpt\n",
            "Epoch 17/30\n",
            "687/687 [==============================] - 213s 309ms/step - loss: 2.2491 - accuracy: 0.5198\n",
            "\n",
            "Epoch 00017: saving model to lstm-model.ckpt\n",
            "Epoch 18/30\n",
            "687/687 [==============================] - 213s 310ms/step - loss: 2.1664 - accuracy: 0.5330\n",
            "\n",
            "Epoch 00018: saving model to lstm-model.ckpt\n",
            "Epoch 19/30\n",
            "687/687 [==============================] - 213s 310ms/step - loss: 2.0936 - accuracy: 0.5468\n",
            "\n",
            "Epoch 00019: saving model to lstm-model.ckpt\n",
            "Epoch 20/30\n",
            "687/687 [==============================] - 213s 310ms/step - loss: 2.0357 - accuracy: 0.5570\n",
            "\n",
            "Epoch 00020: saving model to lstm-model.ckpt\n",
            "Epoch 21/30\n",
            "687/687 [==============================] - 213s 310ms/step - loss: 1.9703 - accuracy: 0.5674\n",
            "\n",
            "Epoch 00021: saving model to lstm-model.ckpt\n",
            "Epoch 22/30\n",
            "687/687 [==============================] - 214s 311ms/step - loss: 1.9140 - accuracy: 0.5786\n",
            "\n",
            "Epoch 00022: saving model to lstm-model.ckpt\n",
            "Epoch 23/30\n",
            "687/687 [==============================] - 214s 311ms/step - loss: 1.8585 - accuracy: 0.5889\n",
            "\n",
            "Epoch 00023: saving model to lstm-model.ckpt\n",
            "Epoch 24/30\n",
            "687/687 [==============================] - 215s 312ms/step - loss: 1.8097 - accuracy: 0.5978\n",
            "\n",
            "Epoch 00024: saving model to lstm-model.ckpt\n",
            "Epoch 25/30\n",
            "687/687 [==============================] - 215s 312ms/step - loss: 1.7621 - accuracy: 0.6070\n",
            "\n",
            "Epoch 00025: saving model to lstm-model.ckpt\n",
            "Epoch 26/30\n",
            "687/687 [==============================] - 214s 312ms/step - loss: 1.7155 - accuracy: 0.6152\n",
            "\n",
            "Epoch 00026: saving model to lstm-model.ckpt\n",
            "Epoch 27/30\n",
            "687/687 [==============================] - 215s 313ms/step - loss: 1.6740 - accuracy: 0.6236\n",
            "\n",
            "Epoch 00027: saving model to lstm-model.ckpt\n",
            "Epoch 28/30\n",
            "687/687 [==============================] - 215s 313ms/step - loss: 1.6353 - accuracy: 0.6293\n",
            "\n",
            "Epoch 00028: saving model to lstm-model.ckpt\n",
            "Epoch 29/30\n",
            "687/687 [==============================] - 215s 313ms/step - loss: 1.6039 - accuracy: 0.6356\n",
            "\n",
            "Epoch 00029: saving model to lstm-model.ckpt\n",
            "Epoch 30/30\n",
            "687/687 [==============================] - 215s 313ms/step - loss: 1.5656 - accuracy: 0.6430\n",
            "\n",
            "Epoch 00030: saving model to lstm-model.ckpt\n"
          ],
          "name": "stdout"
        }
      ]
    },
    {
      "cell_type": "code",
      "metadata": {
        "colab": {
          "base_uri": "https://localhost:8080/",
          "height": 265
        },
        "id": "TRkednvKP5eH",
        "outputId": "831892b2-e60a-4c05-d57d-8a3de9cb6e72"
      },
      "source": [
        "# plot the accuracy\n",
        "plt.plot(history.history['accuracy'], label='accuracy')\n",
        "plt.legend()\n",
        "plt.show()"
      ],
      "execution_count": null,
      "outputs": [
        {
          "output_type": "display_data",
          "data": {
            "image/png": "[encoded data removed]",
            "text/plain": [
              "<Figure size 432x288 with 1 Axes>"
            ]
          },
          "metadata": {
            "tags": []
          }
        }
      ]
    },
    {
      "cell_type": "code",
      "metadata": {
        "colab": {
          "base_uri": "https://localhost:8080/",
          "height": 265
        },
        "id": "CgPh1aMBRGTg",
        "outputId": "8c39f9b3-929c-4c74-afa5-a316070d5b9f"
      },
      "source": [
        "# plot the accuracy\n",
        "plt.plot(history.history['loss'], label='loss')\n",
        "plt.legend()\n",
        "plt.show()"
      ],
      "execution_count": null,
      "outputs": [
        {
          "output_type": "display_data",
          "data": {
            "image/png": "[encoded data removed]",
            "text/plain": [
              "<Figure size 432x288 with 1 Axes>"
            ]
          },
          "metadata": {
            "tags": []
          }
        }
      ]
    },
    {
      "cell_type": "markdown",
      "metadata": {
        "id": "eLJxurCLR_nr"
      },
      "source": [
        "# Load Model"
      ]
    },
    {
      "cell_type": "code",
      "metadata": {
        "colab": {
          "base_uri": "https://localhost:8080/"
        },
        "id": "3YB_7RZeR_GM",
        "outputId": "73cd72a9-f79b-40bc-e85d-c0f1104ff8f8"
      },
      "source": [
        "# load weights\n",
        "model.load_weights(checkpoint_path)"
      ],
      "execution_count": null,
      "outputs": [
        {
          "output_type": "execute_result",
          "data": {
            "text/plain": [
              "<tensorflow.python.training.tracking.util.CheckpointLoadStatus at 0x7fa9900a2910>"
            ]
          },
          "metadata": {
            "tags": []
          },
          "execution_count": 34
        }
      ]
    },
    {
      "cell_type": "markdown",
      "metadata": {
        "id": "ZaPDvRgfRW0e"
      },
      "source": [
        "# Generate new song lyrics"
      ]
    },
    {
      "cell_type": "markdown",
      "metadata": {
        "id": "Bc5A2Kv3RsIe"
      },
      "source": [
        "Now our model is ready.So lets write the function to predict the next word based on the input words (or seed text). We will first tokenize the seed text, pad the sequences and pass into the trained model to get predicted word. The multiple predicted words can be appended together to get predicted sequence."
      ]
    },
    {
      "cell_type": "code",
      "metadata": {
        "id": "0Wus7mQJRWWH"
      },
      "source": [
        "def complete_this_song(seed_text, next_words):\n",
        "    for _ in range(next_words):\n",
        "        token_list = tokenizer.texts_to_sequences([seed_text])[0]\n",
        "        token_list = pad_sequences([token_list], maxlen=max_sequence_len-1, padding='pre')\n",
        "        predicted = model.predict_classes(token_list, verbose=0)\n",
        "        \n",
        "        output_word = \"\"\n",
        "        for word, index in tokenizer.word_index.items():\n",
        "            if index == predicted:\n",
        "                output_word = word\n",
        "                break\n",
        "        seed_text += \" \" + output_word\n",
        "    return seed_text"
      ],
      "execution_count": null,
      "outputs": []
    },
    {
      "cell_type": "markdown",
      "metadata": {
        "id": "nYGWZYnxRwLw"
      },
      "source": [
        "Our function is ready so are you ready to generate your own lyrics"
      ]
    },
    {
      "cell_type": "code",
      "metadata": {
        "colab": {
          "base_uri": "https://localhost:8080/",
          "height": 106
        },
        "id": "Z8cqs-q_RWKa",
        "outputId": "c81ad8e4-38d5-4ab4-9200-d00053e21503"
      },
      "source": [
        "complete_this_song(\"the sky is blue\", 40)"
      ],
      "execution_count": null,
      "outputs": [
        {
          "output_type": "stream",
          "text": [
            "/usr/local/lib/python3.7/dist-packages/tensorflow/python/keras/engine/sequential.py:450: UserWarning: `model.predict_classes()` is deprecated and will be removed after 2021-01-01. Please use instead:* `np.argmax(model.predict(x), axis=-1)`,   if your model does multi-class classification   (e.g. if it uses a `softmax` last-layer activation).* `(model.predict(x) > 0.5).astype(\"int32\")`,   if your model does binary classification   (e.g. if it uses a `sigmoid` last-layer activation).\n",
            "  warnings.warn('`model.predict_classes()` is deprecated and '\n"
          ],
          "name": "stderr"
        },
        {
          "output_type": "execute_result",
          "data": {
            "application/vnd.google.colaboratory.intrinsic+json": {
              "type": "string"
            },
            "text/plain": [
              "\"the sky is blue and she knows why i know and never know that i've been through the moon well they don't have to be a monument for me and i know it's not the one that i believe you die so far away\""
            ]
          },
          "metadata": {
            "tags": []
          },
          "execution_count": 36
        }
      ]
    },
    {
      "cell_type": "code",
      "metadata": {
        "colab": {
          "base_uri": "https://localhost:8080/",
          "height": 157
        },
        "id": "b9CNXC_PRzK1",
        "outputId": "fe88a544-b999-47f6-c4fe-5deb23a2df7f"
      },
      "source": [
        "complete_this_song(\"This is the beginning\", 140)"
      ],
      "execution_count": null,
      "outputs": [
        {
          "output_type": "stream",
          "text": [
            "/usr/local/lib/python3.7/dist-packages/tensorflow/python/keras/engine/sequential.py:450: UserWarning: `model.predict_classes()` is deprecated and will be removed after 2021-01-01. Please use instead:* `np.argmax(model.predict(x), axis=-1)`,   if your model does multi-class classification   (e.g. if it uses a `softmax` last-layer activation).* `(model.predict(x) > 0.5).astype(\"int32\")`,   if your model does binary classification   (e.g. if it uses a `sigmoid` last-layer activation).\n",
            "  warnings.warn('`model.predict_classes()` is deprecated and '\n"
          ],
          "name": "stderr"
        },
        {
          "output_type": "execute_result",
          "data": {
            "application/vnd.google.colaboratory.intrinsic+json": {
              "type": "string"
            },
            "text/plain": [
              "\"This is the beginning of the world we made it out on the radio to the stars that can be where i can see the world is the burning to get the burning to feel the way i feel the one thing i feel the less you love it goes and i feel it seems in this way i am not the first time that takes the ways you see that i need you to be in the wings that i feel the way to be the one that i just feel the ones that we could get up the road but you get crazy but i know what you could be the first one day to the sun just to see it in the arms of the world just take me crazy oh woah oh it's the one thing the one thing i\""
            ]
          },
          "metadata": {
            "tags": []
          },
          "execution_count": 37
        }
      ]
    },
    {
      "cell_type": "code",
      "metadata": {
        "colab": {
          "base_uri": "https://localhost:8080/",
          "height": 123
        },
        "id": "P07vZW1tRzAT",
        "outputId": "3675235b-12e0-4590-cc16-1a33f6c7935d"
      },
      "source": [
        "complete_this_song(\"I am missing you\", 80)"
      ],
      "execution_count": null,
      "outputs": [
        {
          "output_type": "stream",
          "text": [
            "/usr/local/lib/python3.7/dist-packages/tensorflow/python/keras/engine/sequential.py:450: UserWarning: `model.predict_classes()` is deprecated and will be removed after 2021-01-01. Please use instead:* `np.argmax(model.predict(x), axis=-1)`,   if your model does multi-class classification   (e.g. if it uses a `softmax` last-layer activation).* `(model.predict(x) > 0.5).astype(\"int32\")`,   if your model does binary classification   (e.g. if it uses a `sigmoid` last-layer activation).\n",
            "  warnings.warn('`model.predict_classes()` is deprecated and '\n"
          ],
          "name": "stderr"
        },
        {
          "output_type": "execute_result",
          "data": {
            "application/vnd.google.colaboratory.intrinsic+json": {
              "type": "string"
            },
            "text/plain": [
              "\"I am missing you got to keep myself so but i've got nothing to hide the nights and the same carry on the stars go on a mind yo we're taking out where we should go how we do some we know we don't know they're true we don't know the same we can we know we are the same who we know we have to get out of me i can say i'm not the best of a metaphor i wanted a boogie\""
            ]
          },
          "metadata": {
            "tags": []
          },
          "execution_count": 38
        }
      ]
    },
    {
      "cell_type": "code",
      "metadata": {
        "colab": {
          "base_uri": "https://localhost:8080/",
          "height": 174
        },
        "id": "iv_hRY-JR3Ky",
        "outputId": "c821d3de-f2a5-4616-c8d4-83c4e9e527aa"
      },
      "source": [
        "complete_this_song(\"Tell me something new\", 200)"
      ],
      "execution_count": null,
      "outputs": [
        {
          "output_type": "stream",
          "text": [
            "/usr/local/lib/python3.7/dist-packages/tensorflow/python/keras/engine/sequential.py:450: UserWarning: `model.predict_classes()` is deprecated and will be removed after 2021-01-01. Please use instead:* `np.argmax(model.predict(x), axis=-1)`,   if your model does multi-class classification   (e.g. if it uses a `softmax` last-layer activation).* `(model.predict(x) > 0.5).astype(\"int32\")`,   if your model does binary classification   (e.g. if it uses a `sigmoid` last-layer activation).\n",
            "  warnings.warn('`model.predict_classes()` is deprecated and '\n"
          ],
          "name": "stderr"
        },
        {
          "output_type": "execute_result",
          "data": {
            "application/vnd.google.colaboratory.intrinsic+json": {
              "type": "string"
            },
            "text/plain": [
              "\"Tell me something new wrong in me i need to be a brand new day and i see it in the code well i forgot those beats and they know the scene rise for the world they call on the road and i know that we should be gone and hope for me and i can see it all the time i see i know that i was going down and i know i should be in this world you gave me to you and then i think i can't move in all these things i gave was a life i know that everything is everything i was the one who knows me in the darkest place i'm on and i can't end when i'll say i'm far away i know to you now the way you bring me to you i know that i can see the world inside you can't let me fall you can't let me down you take me again you throw away again you throw away again you throw away away you love me but i always meant it you won't always be the one i've always always let go down i can feel your own to be the\""
            ]
          },
          "metadata": {
            "tags": []
          },
          "execution_count": 39
        }
      ]
    },
    {
      "cell_type": "markdown",
      "metadata": {
        "id": "4MCRYYfguPUf"
      },
      "source": [
        "# Streamlit"
      ]
    },
    {
      "cell_type": "code",
      "metadata": {
        "colab": {
          "base_uri": "https://localhost:8080/"
        },
        "id": "rCZSwTtEujRA",
        "outputId": "240e894a-fe69-4c81-9668-d123ab094b6e"
      },
      "source": [
        "!pip install streamlit"
      ],
      "execution_count": null,
      "outputs": [
        {
          "output_type": "stream",
          "text": [
            "Requirement already satisfied: streamlit in /usr/local/lib/python3.7/dist-packages (0.80.0)\n",
            "Requirement already satisfied: watchdog; platform_system != \"Darwin\" in /usr/local/lib/python3.7/dist-packages (from streamlit) (2.0.2)\n",
            "Requirement already satisfied: click>=7.0 in /usr/local/lib/python3.7/dist-packages (from streamlit) (7.1.2)\n",
            "Requirement already satisfied: toml in /usr/local/lib/python3.7/dist-packages (from streamlit) (0.10.2)\n",
            "Requirement already satisfied: protobuf!=3.11,>=3.6.0 in /usr/local/lib/python3.7/dist-packages (from streamlit) (3.12.4)\n",
            "Requirement already satisfied: tornado>=5.0 in /usr/local/lib/python3.7/dist-packages (from streamlit) (5.1.1)\n",
            "Requirement already satisfied: altair>=3.2.0 in /usr/local/lib/python3.7/dist-packages (from streamlit) (4.1.0)\n",
            "Requirement already satisfied: pandas>=0.21.0 in /usr/local/lib/python3.7/dist-packages (from streamlit) (1.1.5)\n",
            "Requirement already satisfied: validators in /usr/local/lib/python3.7/dist-packages (from streamlit) (0.18.2)\n",
            "Requirement already satisfied: gitpython in /usr/local/lib/python3.7/dist-packages (from streamlit) (3.1.14)\n",
            "Requirement already satisfied: cachetools>=4.0 in /usr/local/lib/python3.7/dist-packages (from streamlit) (4.2.1)\n",
            "Requirement already satisfied: tzlocal in /usr/local/lib/python3.7/dist-packages (from streamlit) (1.5.1)\n",
            "Requirement already satisfied: pydeck>=0.1.dev5 in /usr/local/lib/python3.7/dist-packages (from streamlit) (0.6.1)\n",
            "Requirement already satisfied: requests in /usr/local/lib/python3.7/dist-packages (from streamlit) (2.23.0)\n",
            "Requirement already satisfied: numpy in /usr/local/lib/python3.7/dist-packages (from streamlit) (1.19.5)\n",
            "Requirement already satisfied: astor in /usr/local/lib/python3.7/dist-packages (from streamlit) (0.8.1)\n",
            "Requirement already satisfied: pillow>=6.2.0 in /usr/local/lib/python3.7/dist-packages (from streamlit) (7.1.2)\n",
            "Requirement already satisfied: packaging in /usr/local/lib/python3.7/dist-packages (from streamlit) (20.9)\n",
            "Requirement already satisfied: pyarrow; python_version < \"3.9\" in /usr/local/lib/python3.7/dist-packages (from streamlit) (3.0.0)\n",
            "Requirement already satisfied: base58 in /usr/local/lib/python3.7/dist-packages (from streamlit) (2.1.0)\n",
            "Requirement already satisfied: blinker in /usr/local/lib/python3.7/dist-packages (from streamlit) (1.4)\n",
            "Requirement already satisfied: python-dateutil in /usr/local/lib/python3.7/dist-packages (from streamlit) (2.8.1)\n",
            "Requirement already satisfied: six>=1.9 in /usr/local/lib/python3.7/dist-packages (from protobuf!=3.11,>=3.6.0->streamlit) (1.15.0)\n",
            "Requirement already satisfied: setuptools in /usr/local/lib/python3.7/dist-packages (from protobuf!=3.11,>=3.6.0->streamlit) (54.2.0)\n",
            "Requirement already satisfied: toolz in /usr/local/lib/python3.7/dist-packages (from altair>=3.2.0->streamlit) (0.11.1)\n",
            "Requirement already satisfied: jinja2 in /usr/local/lib/python3.7/dist-packages (from altair>=3.2.0->streamlit) (2.11.3)\n",
            "Requirement already satisfied: jsonschema in /usr/local/lib/python3.7/dist-packages (from altair>=3.2.0->streamlit) (2.6.0)\n",
            "Requirement already satisfied: entrypoints in /usr/local/lib/python3.7/dist-packages (from altair>=3.2.0->streamlit) (0.3)\n",
            "Requirement already satisfied: pytz>=2017.2 in /usr/local/lib/python3.7/dist-packages (from pandas>=0.21.0->streamlit) (2018.9)\n",
            "Requirement already satisfied: decorator>=3.4.0 in /usr/local/lib/python3.7/dist-packages (from validators->streamlit) (4.4.2)\n",
            "Requirement already satisfied: gitdb<5,>=4.0.1 in /usr/local/lib/python3.7/dist-packages (from gitpython->streamlit) (4.0.7)\n",
            "Requirement already satisfied: ipywidgets>=7.0.0 in /usr/local/lib/python3.7/dist-packages (from pydeck>=0.1.dev5->streamlit) (7.6.3)\n",
            "Requirement already satisfied: traitlets>=4.3.2 in /usr/local/lib/python3.7/dist-packages (from pydeck>=0.1.dev5->streamlit) (5.0.5)\n",
            "Requirement already satisfied: ipykernel>=5.1.2; python_version >= \"3.4\" in /usr/local/lib/python3.7/dist-packages (from pydeck>=0.1.dev5->streamlit) (5.5.3)\n",
            "Requirement already satisfied: chardet<4,>=3.0.2 in /usr/local/lib/python3.7/dist-packages (from requests->streamlit) (3.0.4)\n",
            "Requirement already satisfied: certifi>=2017.4.17 in /usr/local/lib/python3.7/dist-packages (from requests->streamlit) (2020.12.5)\n",
            "Requirement already satisfied: idna<3,>=2.5 in /usr/local/lib/python3.7/dist-packages (from requests->streamlit) (2.10)\n",
            "Requirement already satisfied: urllib3!=1.25.0,!=1.25.1,<1.26,>=1.21.1 in /usr/local/lib/python3.7/dist-packages (from requests->streamlit) (1.24.3)\n",
            "Requirement already satisfied: pyparsing>=2.0.2 in /usr/local/lib/python3.7/dist-packages (from packaging->streamlit) (2.4.7)\n",
            "Requirement already satisfied: MarkupSafe>=0.23 in /usr/local/lib/python3.7/dist-packages (from jinja2->altair>=3.2.0->streamlit) (1.1.1)\n",
            "Requirement already satisfied: smmap<5,>=3.0.1 in /usr/local/lib/python3.7/dist-packages (from gitdb<5,>=4.0.1->gitpython->streamlit) (4.0.0)\n",
            "Requirement already satisfied: jupyterlab-widgets>=1.0.0; python_version >= \"3.6\" in /usr/local/lib/python3.7/dist-packages (from ipywidgets>=7.0.0->pydeck>=0.1.dev5->streamlit) (1.0.0)\n",
            "Requirement already satisfied: nbformat>=4.2.0 in /usr/local/lib/python3.7/dist-packages (from ipywidgets>=7.0.0->pydeck>=0.1.dev5->streamlit) (5.1.2)\n",
            "Requirement already satisfied: widgetsnbextension~=3.5.0 in /usr/local/lib/python3.7/dist-packages (from ipywidgets>=7.0.0->pydeck>=0.1.dev5->streamlit) (3.5.1)\n",
            "Requirement already satisfied: ipython>=4.0.0; python_version >= \"3.3\" in /usr/local/lib/python3.7/dist-packages (from ipywidgets>=7.0.0->pydeck>=0.1.dev5->streamlit) (5.5.0)\n",
            "Requirement already satisfied: ipython-genutils in /usr/local/lib/python3.7/dist-packages (from traitlets>=4.3.2->pydeck>=0.1.dev5->streamlit) (0.2.0)\n",
            "Requirement already satisfied: jupyter-client in /usr/local/lib/python3.7/dist-packages (from ipykernel>=5.1.2; python_version >= \"3.4\"->pydeck>=0.1.dev5->streamlit) (5.3.5)\n",
            "Requirement already satisfied: jupyter-core in /usr/local/lib/python3.7/dist-packages (from nbformat>=4.2.0->ipywidgets>=7.0.0->pydeck>=0.1.dev5->streamlit) (4.7.1)\n",
            "Requirement already satisfied: notebook>=4.4.1 in /usr/local/lib/python3.7/dist-packages (from widgetsnbextension~=3.5.0->ipywidgets>=7.0.0->pydeck>=0.1.dev5->streamlit) (5.3.1)\n",
            "Requirement already satisfied: pickleshare in /usr/local/lib/python3.7/dist-packages (from ipython>=4.0.0; python_version >= \"3.3\"->ipywidgets>=7.0.0->pydeck>=0.1.dev5->streamlit) (0.7.5)\n",
            "Requirement already satisfied: prompt-toolkit<2.0.0,>=1.0.4 in /usr/local/lib/python3.7/dist-packages (from ipython>=4.0.0; python_version >= \"3.3\"->ipywidgets>=7.0.0->pydeck>=0.1.dev5->streamlit) (1.0.18)\n",
            "Requirement already satisfied: pexpect; sys_platform != \"win32\" in /usr/local/lib/python3.7/dist-packages (from ipython>=4.0.0; python_version >= \"3.3\"->ipywidgets>=7.0.0->pydeck>=0.1.dev5->streamlit) (4.8.0)\n",
            "Requirement already satisfied: simplegeneric>0.8 in /usr/local/lib/python3.7/dist-packages (from ipython>=4.0.0; python_version >= \"3.3\"->ipywidgets>=7.0.0->pydeck>=0.1.dev5->streamlit) (0.8.1)\n",
            "Requirement already satisfied: pygments in /usr/local/lib/python3.7/dist-packages (from ipython>=4.0.0; python_version >= \"3.3\"->ipywidgets>=7.0.0->pydeck>=0.1.dev5->streamlit) (2.6.1)\n",
            "Requirement already satisfied: pyzmq>=13 in /usr/local/lib/python3.7/dist-packages (from jupyter-client->ipykernel>=5.1.2; python_version >= \"3.4\"->pydeck>=0.1.dev5->streamlit) (22.0.3)\n",
            "Requirement already satisfied: terminado>=0.8.1 in /usr/local/lib/python3.7/dist-packages (from notebook>=4.4.1->widgetsnbextension~=3.5.0->ipywidgets>=7.0.0->pydeck>=0.1.dev5->streamlit) (0.9.3)\n",
            "Requirement already satisfied: nbconvert in /usr/local/lib/python3.7/dist-packages (from notebook>=4.4.1->widgetsnbextension~=3.5.0->ipywidgets>=7.0.0->pydeck>=0.1.dev5->streamlit) (5.6.1)\n",
            "Requirement already satisfied: Send2Trash in /usr/local/lib/python3.7/dist-packages (from notebook>=4.4.1->widgetsnbextension~=3.5.0->ipywidgets>=7.0.0->pydeck>=0.1.dev5->streamlit) (1.5.0)\n",
            "Requirement already satisfied: wcwidth in /usr/local/lib/python3.7/dist-packages (from prompt-toolkit<2.0.0,>=1.0.4->ipython>=4.0.0; python_version >= \"3.3\"->ipywidgets>=7.0.0->pydeck>=0.1.dev5->streamlit) (0.2.5)\n",
            "Requirement already satisfied: ptyprocess>=0.5 in /usr/local/lib/python3.7/dist-packages (from pexpect; sys_platform != \"win32\"->ipython>=4.0.0; python_version >= \"3.3\"->ipywidgets>=7.0.0->pydeck>=0.1.dev5->streamlit) (0.7.0)\n",
            "Requirement already satisfied: testpath in /usr/local/lib/python3.7/dist-packages (from nbconvert->notebook>=4.4.1->widgetsnbextension~=3.5.0->ipywidgets>=7.0.0->pydeck>=0.1.dev5->streamlit) (0.4.4)\n",
            "Requirement already satisfied: pandocfilters>=1.4.1 in /usr/local/lib/python3.7/dist-packages (from nbconvert->notebook>=4.4.1->widgetsnbextension~=3.5.0->ipywidgets>=7.0.0->pydeck>=0.1.dev5->streamlit) (1.4.3)\n",
            "Requirement already satisfied: mistune<2,>=0.8.1 in /usr/local/lib/python3.7/dist-packages (from nbconvert->notebook>=4.4.1->widgetsnbextension~=3.5.0->ipywidgets>=7.0.0->pydeck>=0.1.dev5->streamlit) (0.8.4)\n",
            "Requirement already satisfied: bleach in /usr/local/lib/python3.7/dist-packages (from nbconvert->notebook>=4.4.1->widgetsnbextension~=3.5.0->ipywidgets>=7.0.0->pydeck>=0.1.dev5->streamlit) (3.3.0)\n",
            "Requirement already satisfied: defusedxml in /usr/local/lib/python3.7/dist-packages (from nbconvert->notebook>=4.4.1->widgetsnbextension~=3.5.0->ipywidgets>=7.0.0->pydeck>=0.1.dev5->streamlit) (0.7.1)\n",
            "Requirement already satisfied: webencodings in /usr/local/lib/python3.7/dist-packages (from bleach->nbconvert->notebook>=4.4.1->widgetsnbextension~=3.5.0->ipywidgets>=7.0.0->pydeck>=0.1.dev5->streamlit) (0.5.1)\n"
          ],
          "name": "stdout"
        }
      ]
    },
    {
      "cell_type": "code",
      "metadata": {
        "colab": {
          "base_uri": "https://localhost:8080/"
        },
        "id": "YSB9O2cBukEG",
        "outputId": "9a4d0f6d-2aac-42e3-a58b-f72af9f80580"
      },
      "source": [
        "!pip install pyngrok"
      ],
      "execution_count": null,
      "outputs": [
        {
          "output_type": "stream",
          "text": [
            "Collecting pyngrok\n",
            "\u001b[?25l  Downloading https://files.pythonhosted.org/packages/6b/4e/a2fe095bbe17cf26424c4abcd22a0490e22d01cc628f25af5e220ddbf6f0/pyngrok-5.0.5.tar.gz (745kB)\n",
            "\r\u001b[K     |▍                               | 10kB 25.9MB/s eta 0:00:01\r\u001b[K     |▉                               | 20kB 30.2MB/s eta 0:00:01\r\u001b[K     |█▎                              | 30kB 21.7MB/s eta 0:00:01\r\u001b[K     |█▊                              | 40kB 25.4MB/s eta 0:00:01\r\u001b[K     |██▏                             | 51kB 23.8MB/s eta 0:00:01\r\u001b[K     |██▋                             | 61kB 26.4MB/s eta 0:00:01\r\u001b[K     |███                             | 71kB 17.9MB/s eta 0:00:01\r\u001b[K     |███▌                            | 81kB 18.9MB/s eta 0:00:01\r\u001b[K     |████                            | 92kB 17.7MB/s eta 0:00:01\r\u001b[K     |████▍                           | 102kB 17.7MB/s eta 0:00:01\r\u001b[K     |████▉                           | 112kB 17.7MB/s eta 0:00:01\r\u001b[K     |█████▎                          | 122kB 17.7MB/s eta 0:00:01\r\u001b[K     |█████▊                          | 133kB 17.7MB/s eta 0:00:01\r\u001b[K     |██████▏                         | 143kB 17.7MB/s eta 0:00:01\r\u001b[K     |██████▋                         | 153kB 17.7MB/s eta 0:00:01\r\u001b[K     |███████                         | 163kB 17.7MB/s eta 0:00:01\r\u001b[K     |███████▌                        | 174kB 17.7MB/s eta 0:00:01\r\u001b[K     |████████                        | 184kB 17.7MB/s eta 0:00:01\r\u001b[K     |████████▍                       | 194kB 17.7MB/s eta 0:00:01\r\u001b[K     |████████▉                       | 204kB 17.7MB/s eta 0:00:01\r\u001b[K     |█████████▎                      | 215kB 17.7MB/s eta 0:00:01\r\u001b[K     |█████████▊                      | 225kB 17.7MB/s eta 0:00:01\r\u001b[K     |██████████▏                     | 235kB 17.7MB/s eta 0:00:01\r\u001b[K     |██████████▌                     | 245kB 17.7MB/s eta 0:00:01\r\u001b[K     |███████████                     | 256kB 17.7MB/s eta 0:00:01\r\u001b[K     |███████████▍                    | 266kB 17.7MB/s eta 0:00:01\r\u001b[K     |███████████▉                    | 276kB 17.7MB/s eta 0:00:01\r\u001b[K     |████████████▎                   | 286kB 17.7MB/s eta 0:00:01\r\u001b[K     |████████████▊                   | 296kB 17.7MB/s eta 0:00:01\r\u001b[K     |█████████████▏                  | 307kB 17.7MB/s eta 0:00:01\r\u001b[K     |█████████████▋                  | 317kB 17.7MB/s eta 0:00:01\r\u001b[K     |██████████████                  | 327kB 17.7MB/s eta 0:00:01\r\u001b[K     |██████████████▌                 | 337kB 17.7MB/s eta 0:00:01\r\u001b[K     |███████████████                 | 348kB 17.7MB/s eta 0:00:01\r\u001b[K     |███████████████▍                | 358kB 17.7MB/s eta 0:00:01\r\u001b[K     |███████████████▉                | 368kB 17.7MB/s eta 0:00:01\r\u001b[K     |████████████████▎               | 378kB 17.7MB/s eta 0:00:01\r\u001b[K     |████████████████▊               | 389kB 17.7MB/s eta 0:00:01\r\u001b[K     |█████████████████▏              | 399kB 17.7MB/s eta 0:00:01\r\u001b[K     |█████████████████▋              | 409kB 17.7MB/s eta 0:00:01\r\u001b[K     |██████████████████              | 419kB 17.7MB/s eta 0:00:01\r\u001b[K     |██████████████████▌             | 430kB 17.7MB/s eta 0:00:01\r\u001b[K     |███████████████████             | 440kB 17.7MB/s eta 0:00:01\r\u001b[K     |███████████████████▍            | 450kB 17.7MB/s eta 0:00:01\r\u001b[K     |███████████████████▉            | 460kB 17.7MB/s eta 0:00:01\r\u001b[K     |████████████████████▎           | 471kB 17.7MB/s eta 0:00:01\r\u001b[K     |████████████████████▊           | 481kB 17.7MB/s eta 0:00:01\r\u001b[K     |█████████████████████           | 491kB 17.7MB/s eta 0:00:01\r\u001b[K     |█████████████████████▌          | 501kB 17.7MB/s eta 0:00:01\r\u001b[K     |██████████████████████          | 512kB 17.7MB/s eta 0:00:01\r\u001b[K     |██████████████████████▍         | 522kB 17.7MB/s eta 0:00:01\r\u001b[K     |██████████████████████▉         | 532kB 17.7MB/s eta 0:00:01\r\u001b[K     |███████████████████████▎        | 542kB 17.7MB/s eta 0:00:01\r\u001b[K     |███████████████████████▊        | 552kB 17.7MB/s eta 0:00:01\r\u001b[K     |████████████████████████▏       | 563kB 17.7MB/s eta 0:00:01\r\u001b[K     |████████████████████████▋       | 573kB 17.7MB/s eta 0:00:01\r\u001b[K     |█████████████████████████       | 583kB 17.7MB/s eta 0:00:01\r\u001b[K     |█████████████████████████▌      | 593kB 17.7MB/s eta 0:00:01\r\u001b[K     |██████████████████████████      | 604kB 17.7MB/s eta 0:00:01\r\u001b[K     |██████████████████████████▍     | 614kB 17.7MB/s eta 0:00:01\r\u001b[K     |██████████████████████████▉     | 624kB 17.7MB/s eta 0:00:01\r\u001b[K     |███████████████████████████▎    | 634kB 17.7MB/s eta 0:00:01\r\u001b[K     |███████████████████████████▊    | 645kB 17.7MB/s eta 0:00:01\r\u001b[K     |████████████████████████████▏   | 655kB 17.7MB/s eta 0:00:01\r\u001b[K     |████████████████████████████▋   | 665kB 17.7MB/s eta 0:00:01\r\u001b[K     |█████████████████████████████   | 675kB 17.7MB/s eta 0:00:01\r\u001b[K     |█████████████████████████████▌  | 686kB 17.7MB/s eta 0:00:01\r\u001b[K     |██████████████████████████████  | 696kB 17.7MB/s eta 0:00:01\r\u001b[K     |██████████████████████████████▍ | 706kB 17.7MB/s eta 0:00:01\r\u001b[K     |██████████████████████████████▉ | 716kB 17.7MB/s eta 0:00:01\r\u001b[K     |███████████████████████████████▏| 727kB 17.7MB/s eta 0:00:01\r\u001b[K     |███████████████████████████████▋| 737kB 17.7MB/s eta 0:00:01\r\u001b[K     |████████████████████████████████| 747kB 17.7MB/s \n",
            "\u001b[?25hRequirement already satisfied: PyYAML in /usr/local/lib/python3.7/dist-packages (from pyngrok) (3.13)\n",
            "Building wheels for collected packages: pyngrok\n",
            "  Building wheel for pyngrok (setup.py) ... \u001b[?25l\u001b[?25hdone\n",
            "  Created wheel for pyngrok: filename=pyngrok-5.0.5-cp37-none-any.whl size=19246 sha256=ce9dcd3aa04a7dac3d5a04fffbb7eff4c394b8705e43b4d5f860b08a2e0af7a9\n",
            "  Stored in directory: /root/.cache/pip/wheels/0c/13/64/5ebbcc22eaf53fdf5766b397c1fb17c83f5775fdccf0ea1b88\n",
            "Successfully built pyngrok\n",
            "Installing collected packages: pyngrok\n",
            "Successfully installed pyngrok-5.0.5\n"
          ],
          "name": "stdout"
        }
      ]
    },
    {
      "cell_type": "code",
      "metadata": {
        "id": "TpiMbvAaumqe"
      },
      "source": [
        "from pyngrok import ngrok"
      ],
      "execution_count": null,
      "outputs": []
    },
    {
      "cell_type": "code",
      "metadata": {
        "colab": {
          "base_uri": "https://localhost:8080/"
        },
        "id": "sLQOHk9XuQ2e",
        "outputId": "612d1890-eba6-4297-9dcb-4c72192aca64"
      },
      "source": [
        "%%writefile app.py\n",
        "## Import libs\n",
        "\n",
        "import os\n",
        "os.environ['TF_CPP_MIN_LOG_LEVEL'] = '3'\n",
        "import tensorflow as tf\n",
        "import string\n",
        "import numpy as np\n",
        "from tensorflow.keras.models import  Sequential\n",
        "from tensorflow.keras.preprocessing.text import Tokenizer\n",
        "from tensorflow.keras.utils import to_categorical\n",
        "from tensorflow.keras.layers import Dense,LSTM ,Dropout, Embedding\n",
        "from tensorflow.keras.preprocessing.sequence import pad_sequences\n",
        "from tensorflow.keras.layers import Embedding, Dropout, LSTM, Dense, Bidirectional \n",
        "import warnings\n",
        "warnings.filterwarnings('ignore')\n",
        "\n",
        "import streamlit as st\n",
        "import pickle\n",
        "import time\n",
        "import pandas as pd\n",
        "\n",
        "import base64\n",
        "\n",
        "\n",
        "\n",
        "## Read file\n",
        "def main():\n",
        "    st.markdown(\"<h1 style='text-align: center; color: red;'>Song Lyrics Generator</h1>\", unsafe_allow_html=True)\n",
        "\n",
        "    \n",
        "    # Tokenization\n",
        "    df = pd.read_csv(\"/content/final_song_df.csv\")\n",
        "    tokenizer = Tokenizer()\n",
        "    tokenizer.fit_on_texts(df['Lyric'].astype(str).str.lower())\n",
        "\n",
        "    \n",
        "    # create model\n",
        "    model = Sequential()\n",
        "    model.add(Embedding(8556, 40, input_length=656-1))\n",
        "    model.add(Bidirectional(LSTM(250)))\n",
        "    model.add(Dropout(0.1))\n",
        "    model.add(Dense(8556, activation='softmax'))\n",
        "   \n",
        "\n",
        "\n",
        "    ## Load model using checkpoint\n",
        "    checkpoint_path = \"lstm-model.ckpt\"\n",
        "    model.load_weights(checkpoint_path)\n",
        "\n",
        "\n",
        "    ## predict func\n",
        "    def complete_this_song(seed_text, next_words):\n",
        "        for _ in range(next_words):\n",
        "            # tokenizer = Tokenizer()\n",
        "            token_list = tokenizer.texts_to_sequences([seed_text])[0]\n",
        "            token_list = pad_sequences([token_list], maxlen=656-1, padding='pre')\n",
        "            predicted = model.predict_classes(token_list, verbose=0)\n",
        "        \n",
        "            output_word = \"\"\n",
        "            for word, index in tokenizer.word_index.items():\n",
        "                if index == predicted:\n",
        "                    output_word = word\n",
        "                    break\n",
        "            seed_text += \" \" + output_word\n",
        "        return seed_text\n",
        "\n",
        "    st.markdown(\"<h4 >Start your song lyrics:</h4>\", unsafe_allow_html=True)\n",
        "    seed_text = st.text_area('', height=200, max_chars=800)\n",
        "    st.markdown(\"<h4 >Text length (in characters)</h4>\", unsafe_allow_html=True)\n",
        "    next_words = slider = st.slider('', 5, 800)\n",
        "    button = st.button('Generate')\n",
        "\n",
        "\n",
        "    if button:\n",
        "        st.markdown(f\"\"\"<h3 style='text-align: center; color: white;background :rgba(12, 34, 255, 89);'> {complete_this_song(seed_text, next_words)}</h3>\"\"\", unsafe_allow_html=True)\n",
        " \n",
        "\n",
        "if __name__ == \"__main__\":\n",
        "    main()"
      ],
      "execution_count": null,
      "outputs": [
        {
          "output_type": "stream",
          "text": [
            "Overwriting app.py\n"
          ],
          "name": "stdout"
        }
      ]
    },
    {
      "cell_type": "code",
      "metadata": {
        "id": "-yxuE6BVuf7O"
      },
      "source": [
        "public_url = ngrok.connect(port=80)"
      ],
      "execution_count": null,
      "outputs": []
    },
    {
      "cell_type": "code",
      "metadata": {
        "colab": {
          "base_uri": "https://localhost:8080/"
        },
        "id": "TS44UJCSutWm",
        "outputId": "d28afb2b-c122-46d5-d235-63ca0956392b"
      },
      "source": [
        "print(public_url)\n",
        "!streamlit run --server.port 80 app.py >/dev/null"
      ],
      "execution_count": null,
      "outputs": [
        {
          "output_type": "stream",
          "text": [
            "NgrokTunnel: \"http://a635dfd0e685.ngrok.io\" -> \"http://localhost:80\"\n",
            "2021-04-12 05:50:40.170 An update to the [server] config option section was detected. To have these changes be reflected, please restart streamlit.\n",
            "2021-04-12 05:50:43.078 Unresolved object in checkpoint: (root).optimizer\n",
            "2021-04-12 05:50:43.078 Unresolved object in checkpoint: (root).optimizer.iter\n",
            "2021-04-12 05:50:43.078 Unresolved object in checkpoint: (root).optimizer.beta_1\n",
            "2021-04-12 05:50:43.078 Unresolved object in checkpoint: (root).optimizer.beta_2\n",
            "2021-04-12 05:50:43.078 Unresolved object in checkpoint: (root).optimizer.decay\n",
            "2021-04-12 05:50:43.078 Unresolved object in checkpoint: (root).optimizer.learning_rate\n",
            "2021-04-12 05:50:43.078 Unresolved object in checkpoint: (root).optimizer's state 'm' for (root).layer_with_weights-0.embeddings\n",
            "2021-04-12 05:50:43.078 Unresolved object in checkpoint: (root).optimizer's state 'm' for (root).layer_with_weights-2.kernel\n",
            "2021-04-12 05:50:43.078 Unresolved object in checkpoint: (root).optimizer's state 'm' for (root).layer_with_weights-2.bias\n",
            "2021-04-12 05:50:43.078 Unresolved object in checkpoint: (root).optimizer's state 'm' for (root).layer_with_weights-1.forward_layer.cell.kernel\n",
            "2021-04-12 05:50:43.078 Unresolved object in checkpoint: (root).optimizer's state 'm' for (root).layer_with_weights-1.forward_layer.cell.recurrent_kernel\n",
            "2021-04-12 05:50:43.078 Unresolved object in checkpoint: (root).optimizer's state 'm' for (root).layer_with_weights-1.forward_layer.cell.bias\n",
            "2021-04-12 05:50:43.078 Unresolved object in checkpoint: (root).optimizer's state 'm' for (root).layer_with_weights-1.backward_layer.cell.kernel\n",
            "2021-04-12 05:50:43.078 Unresolved object in checkpoint: (root).optimizer's state 'm' for (root).layer_with_weights-1.backward_layer.cell.recurrent_kernel\n",
            "2021-04-12 05:50:43.079 Unresolved object in checkpoint: (root).optimizer's state 'm' for (root).layer_with_weights-1.backward_layer.cell.bias\n",
            "2021-04-12 05:50:43.079 Unresolved object in checkpoint: (root).optimizer's state 'v' for (root).layer_with_weights-0.embeddings\n",
            "2021-04-12 05:50:43.079 Unresolved object in checkpoint: (root).optimizer's state 'v' for (root).layer_with_weights-2.kernel\n",
            "2021-04-12 05:50:43.079 Unresolved object in checkpoint: (root).optimizer's state 'v' for (root).layer_with_weights-2.bias\n",
            "2021-04-12 05:50:43.079 Unresolved object in checkpoint: (root).optimizer's state 'v' for (root).layer_with_weights-1.forward_layer.cell.kernel\n",
            "2021-04-12 05:50:43.079 Unresolved object in checkpoint: (root).optimizer's state 'v' for (root).layer_with_weights-1.forward_layer.cell.recurrent_kernel\n",
            "2021-04-12 05:50:43.079 Unresolved object in checkpoint: (root).optimizer's state 'v' for (root).layer_with_weights-1.forward_layer.cell.bias\n",
            "2021-04-12 05:50:43.079 Unresolved object in checkpoint: (root).optimizer's state 'v' for (root).layer_with_weights-1.backward_layer.cell.kernel\n",
            "2021-04-12 05:50:43.079 Unresolved object in checkpoint: (root).optimizer's state 'v' for (root).layer_with_weights-1.backward_layer.cell.recurrent_kernel\n",
            "2021-04-12 05:50:43.079 Unresolved object in checkpoint: (root).optimizer's state 'v' for (root).layer_with_weights-1.backward_layer.cell.bias\n",
            "2021-04-12 05:50:43.079 A checkpoint was restored (e.g. tf.train.Checkpoint.restore or tf.keras.Model.load_weights) but not all checkpointed values were used. See above for specific issues. Use expect_partial() on the load status object, e.g. tf.train.Checkpoint.restore(...).expect_partial(), to silence these warnings, or use assert_consumed() to make the check explicit. See https://www.tensorflow.org/guide/checkpoint#loading_mechanics for details.\n",
            "2021-04-12 05:51:10.481 Unresolved object in checkpoint: (root).optimizer\n",
            "2021-04-12 05:51:10.482 Unresolved object in checkpoint: (root).optimizer.iter\n",
            "2021-04-12 05:51:10.482 Unresolved object in checkpoint: (root).optimizer.beta_1\n",
            "2021-04-12 05:51:10.482 Unresolved object in checkpoint: (root).optimizer.beta_2\n",
            "2021-04-12 05:51:10.482 Unresolved object in checkpoint: (root).optimizer.decay\n",
            "2021-04-12 05:51:10.482 Unresolved object in checkpoint: (root).optimizer.learning_rate\n",
            "2021-04-12 05:51:10.482 Unresolved object in checkpoint: (root).optimizer's state 'm' for (root).layer_with_weights-0.embeddings\n",
            "2021-04-12 05:51:10.482 Unresolved object in checkpoint: (root).optimizer's state 'm' for (root).layer_with_weights-2.kernel\n",
            "2021-04-12 05:51:10.483 Unresolved object in checkpoint: (root).optimizer's state 'm' for (root).layer_with_weights-2.bias\n",
            "2021-04-12 05:51:10.483 Unresolved object in checkpoint: (root).optimizer's state 'm' for (root).layer_with_weights-1.forward_layer.cell.kernel\n",
            "2021-04-12 05:51:10.483 Unresolved object in checkpoint: (root).optimizer's state 'm' for (root).layer_with_weights-1.forward_layer.cell.recurrent_kernel\n",
            "2021-04-12 05:51:10.483 Unresolved object in checkpoint: (root).optimizer's state 'm' for (root).layer_with_weights-1.forward_layer.cell.bias\n",
            "2021-04-12 05:51:10.483 Unresolved object in checkpoint: (root).optimizer's state 'm' for (root).layer_with_weights-1.backward_layer.cell.kernel\n",
            "2021-04-12 05:51:10.483 Unresolved object in checkpoint: (root).optimizer's state 'm' for (root).layer_with_weights-1.backward_layer.cell.recurrent_kernel\n",
            "2021-04-12 05:51:10.483 Unresolved object in checkpoint: (root).optimizer's state 'm' for (root).layer_with_weights-1.backward_layer.cell.bias\n",
            "2021-04-12 05:51:10.484 Unresolved object in checkpoint: (root).optimizer's state 'v' for (root).layer_with_weights-0.embeddings\n",
            "2021-04-12 05:51:10.484 Unresolved object in checkpoint: (root).optimizer's state 'v' for (root).layer_with_weights-2.kernel\n",
            "2021-04-12 05:51:10.484 Unresolved object in checkpoint: (root).optimizer's state 'v' for (root).layer_with_weights-2.bias\n",
            "2021-04-12 05:51:10.484 Unresolved object in checkpoint: (root).optimizer's state 'v' for (root).layer_with_weights-1.forward_layer.cell.kernel\n",
            "2021-04-12 05:51:10.484 Unresolved object in checkpoint: (root).optimizer's state 'v' for (root).layer_with_weights-1.forward_layer.cell.recurrent_kernel\n",
            "2021-04-12 05:51:10.484 Unresolved object in checkpoint: (root).optimizer's state 'v' for (root).layer_with_weights-1.forward_layer.cell.bias\n",
            "2021-04-12 05:51:10.484 Unresolved object in checkpoint: (root).optimizer's state 'v' for (root).layer_with_weights-1.backward_layer.cell.kernel\n",
            "2021-04-12 05:51:10.484 Unresolved object in checkpoint: (root).optimizer's state 'v' for (root).layer_with_weights-1.backward_layer.cell.recurrent_kernel\n",
            "2021-04-12 05:51:10.485 Unresolved object in checkpoint: (root).optimizer's state 'v' for (root).layer_with_weights-1.backward_layer.cell.bias\n",
            "2021-04-12 05:51:10.485 A checkpoint was restored (e.g. tf.train.Checkpoint.restore or tf.keras.Model.load_weights) but not all checkpointed values were used. See above for specific issues. Use expect_partial() on the load status object, e.g. tf.train.Checkpoint.restore(...).expect_partial(), to silence these warnings, or use assert_consumed() to make the check explicit. See https://www.tensorflow.org/guide/checkpoint#loading_mechanics for details.\n",
            "2021-04-12 05:51:16.243 Unresolved object in checkpoint: (root).optimizer\n",
            "2021-04-12 05:51:16.243 Unresolved object in checkpoint: (root).optimizer.iter\n",
            "2021-04-12 05:51:16.244 Unresolved object in checkpoint: (root).optimizer.beta_1\n",
            "2021-04-12 05:51:16.244 Unresolved object in checkpoint: (root).optimizer.beta_2\n",
            "2021-04-12 05:51:16.244 Unresolved object in checkpoint: (root).optimizer.decay\n",
            "2021-04-12 05:51:16.244 Unresolved object in checkpoint: (root).optimizer.learning_rate\n",
            "2021-04-12 05:51:16.244 Unresolved object in checkpoint: (root).optimizer's state 'm' for (root).layer_with_weights-0.embeddings\n",
            "2021-04-12 05:51:16.244 Unresolved object in checkpoint: (root).optimizer's state 'm' for (root).layer_with_weights-2.kernel\n",
            "2021-04-12 05:51:16.245 Unresolved object in checkpoint: (root).optimizer's state 'm' for (root).layer_with_weights-2.bias\n",
            "2021-04-12 05:51:16.245 Unresolved object in checkpoint: (root).optimizer's state 'm' for (root).layer_with_weights-1.forward_layer.cell.kernel\n",
            "2021-04-12 05:51:16.245 Unresolved object in checkpoint: (root).optimizer's state 'm' for (root).layer_with_weights-1.forward_layer.cell.recurrent_kernel\n",
            "2021-04-12 05:51:16.245 Unresolved object in checkpoint: (root).optimizer's state 'm' for (root).layer_with_weights-1.forward_layer.cell.bias\n",
            "2021-04-12 05:51:16.245 Unresolved object in checkpoint: (root).optimizer's state 'm' for (root).layer_with_weights-1.backward_layer.cell.kernel\n",
            "2021-04-12 05:51:16.245 Unresolved object in checkpoint: (root).optimizer's state 'm' for (root).layer_with_weights-1.backward_layer.cell.recurrent_kernel\n",
            "2021-04-12 05:51:16.246 Unresolved object in checkpoint: (root).optimizer's state 'm' for (root).layer_with_weights-1.backward_layer.cell.bias\n",
            "2021-04-12 05:51:16.246 Unresolved object in checkpoint: (root).optimizer's state 'v' for (root).layer_with_weights-0.embeddings\n",
            "2021-04-12 05:51:16.246 Unresolved object in checkpoint: (root).optimizer's state 'v' for (root).layer_with_weights-2.kernel\n",
            "2021-04-12 05:51:16.246 Unresolved object in checkpoint: (root).optimizer's state 'v' for (root).layer_with_weights-2.bias\n",
            "2021-04-12 05:51:16.246 Unresolved object in checkpoint: (root).optimizer's state 'v' for (root).layer_with_weights-1.forward_layer.cell.kernel\n",
            "2021-04-12 05:51:16.246 Unresolved object in checkpoint: (root).optimizer's state 'v' for (root).layer_with_weights-1.forward_layer.cell.recurrent_kernel\n",
            "2021-04-12 05:51:16.246 Unresolved object in checkpoint: (root).optimizer's state 'v' for (root).layer_with_weights-1.forward_layer.cell.bias\n",
            "2021-04-12 05:51:16.246 Unresolved object in checkpoint: (root).optimizer's state 'v' for (root).layer_with_weights-1.backward_layer.cell.kernel\n",
            "2021-04-12 05:51:16.247 Unresolved object in checkpoint: (root).optimizer's state 'v' for (root).layer_with_weights-1.backward_layer.cell.recurrent_kernel\n",
            "2021-04-12 05:51:16.247 Unresolved object in checkpoint: (root).optimizer's state 'v' for (root).layer_with_weights-1.backward_layer.cell.bias\n",
            "2021-04-12 05:51:16.247 A checkpoint was restored (e.g. tf.train.Checkpoint.restore or tf.keras.Model.load_weights) but not all checkpointed values were used. See above for specific issues. Use expect_partial() on the load status object, e.g. tf.train.Checkpoint.restore(...).expect_partial(), to silence these warnings, or use assert_consumed() to make the check explicit. See https://www.tensorflow.org/guide/checkpoint#loading_mechanics for details.\n",
            "2021-04-12 05:51:17.062 Unresolved object in checkpoint: (root).optimizer\n",
            "2021-04-12 05:51:17.062 Unresolved object in checkpoint: (root).optimizer.iter\n",
            "2021-04-12 05:51:17.062 Unresolved object in checkpoint: (root).optimizer.beta_1\n",
            "2021-04-12 05:51:17.062 Unresolved object in checkpoint: (root).optimizer.beta_2\n",
            "2021-04-12 05:51:17.062 Unresolved object in checkpoint: (root).optimizer.decay\n",
            "2021-04-12 05:51:17.062 Unresolved object in checkpoint: (root).optimizer.learning_rate\n",
            "2021-04-12 05:51:17.062 Unresolved object in checkpoint: (root).optimizer's state 'm' for (root).layer_with_weights-0.embeddings\n",
            "2021-04-12 05:51:17.062 Unresolved object in checkpoint: (root).optimizer's state 'm' for (root).layer_with_weights-2.kernel\n",
            "2021-04-12 05:51:17.063 Unresolved object in checkpoint: (root).optimizer's state 'm' for (root).layer_with_weights-2.bias\n",
            "2021-04-12 05:51:17.063 Unresolved object in checkpoint: (root).optimizer's state 'm' for (root).layer_with_weights-1.forward_layer.cell.kernel\n",
            "2021-04-12 05:51:17.063 Unresolved object in checkpoint: (root).optimizer's state 'm' for (root).layer_with_weights-1.forward_layer.cell.recurrent_kernel\n",
            "2021-04-12 05:51:17.063 Unresolved object in checkpoint: (root).optimizer's state 'm' for (root).layer_with_weights-1.forward_layer.cell.bias\n",
            "2021-04-12 05:51:17.063 Unresolved object in checkpoint: (root).optimizer's state 'm' for (root).layer_with_weights-1.backward_layer.cell.kernel\n",
            "2021-04-12 05:51:17.063 Unresolved object in checkpoint: (root).optimizer's state 'm' for (root).layer_with_weights-1.backward_layer.cell.recurrent_kernel\n",
            "2021-04-12 05:51:17.063 Unresolved object in checkpoint: (root).optimizer's state 'm' for (root).layer_with_weights-1.backward_layer.cell.bias\n",
            "2021-04-12 05:51:17.063 Unresolved object in checkpoint: (root).optimizer's state 'v' for (root).layer_with_weights-0.embeddings\n",
            "2021-04-12 05:51:17.063 Unresolved object in checkpoint: (root).optimizer's state 'v' for (root).layer_with_weights-2.kernel\n",
            "2021-04-12 05:51:17.063 Unresolved object in checkpoint: (root).optimizer's state 'v' for (root).layer_with_weights-2.bias\n",
            "2021-04-12 05:51:17.063 Unresolved object in checkpoint: (root).optimizer's state 'v' for (root).layer_with_weights-1.forward_layer.cell.kernel\n",
            "2021-04-12 05:51:17.063 Unresolved object in checkpoint: (root).optimizer's state 'v' for (root).layer_with_weights-1.forward_layer.cell.recurrent_kernel\n",
            "2021-04-12 05:51:17.063 Unresolved object in checkpoint: (root).optimizer's state 'v' for (root).layer_with_weights-1.forward_layer.cell.bias\n",
            "2021-04-12 05:51:17.063 Unresolved object in checkpoint: (root).optimizer's state 'v' for (root).layer_with_weights-1.backward_layer.cell.kernel\n",
            "2021-04-12 05:51:17.063 Unresolved object in checkpoint: (root).optimizer's state 'v' for (root).layer_with_weights-1.backward_layer.cell.recurrent_kernel\n",
            "2021-04-12 05:51:17.063 Unresolved object in checkpoint: (root).optimizer's state 'v' for (root).layer_with_weights-1.backward_layer.cell.bias\n",
            "2021-04-12 05:51:17.063 A checkpoint was restored (e.g. tf.train.Checkpoint.restore or tf.keras.Model.load_weights) but not all checkpointed values were used. See above for specific issues. Use expect_partial() on the load status object, e.g. tf.train.Checkpoint.restore(...).expect_partial(), to silence these warnings, or use assert_consumed() to make the check explicit. See https://www.tensorflow.org/guide/checkpoint#loading_mechanics for details.\n",
            "2021-04-12 05:52:28.577 Unresolved object in checkpoint: (root).optimizer\n",
            "2021-04-12 05:52:28.577 Unresolved object in checkpoint: (root).optimizer.iter\n",
            "2021-04-12 05:52:28.577 Unresolved object in checkpoint: (root).optimizer.beta_1\n",
            "2021-04-12 05:52:28.577 Unresolved object in checkpoint: (root).optimizer.beta_2\n",
            "2021-04-12 05:52:28.577 Unresolved object in checkpoint: (root).optimizer.decay\n",
            "2021-04-12 05:52:28.577 Unresolved object in checkpoint: (root).optimizer.learning_rate\n",
            "2021-04-12 05:52:28.578 Unresolved object in checkpoint: (root).optimizer's state 'm' for (root).layer_with_weights-0.embeddings\n",
            "2021-04-12 05:52:28.578 Unresolved object in checkpoint: (root).optimizer's state 'm' for (root).layer_with_weights-2.kernel\n",
            "2021-04-12 05:52:28.578 Unresolved object in checkpoint: (root).optimizer's state 'm' for (root).layer_with_weights-2.bias\n",
            "2021-04-12 05:52:28.578 Unresolved object in checkpoint: (root).optimizer's state 'm' for (root).layer_with_weights-1.forward_layer.cell.kernel\n",
            "2021-04-12 05:52:28.578 Unresolved object in checkpoint: (root).optimizer's state 'm' for (root).layer_with_weights-1.forward_layer.cell.recurrent_kernel\n",
            "2021-04-12 05:52:28.578 Unresolved object in checkpoint: (root).optimizer's state 'm' for (root).layer_with_weights-1.forward_layer.cell.bias\n",
            "2021-04-12 05:52:28.578 Unresolved object in checkpoint: (root).optimizer's state 'm' for (root).layer_with_weights-1.backward_layer.cell.kernel\n",
            "2021-04-12 05:52:28.578 Unresolved object in checkpoint: (root).optimizer's state 'm' for (root).layer_with_weights-1.backward_layer.cell.recurrent_kernel\n",
            "2021-04-12 05:52:28.578 Unresolved object in checkpoint: (root).optimizer's state 'm' for (root).layer_with_weights-1.backward_layer.cell.bias\n",
            "2021-04-12 05:52:28.578 Unresolved object in checkpoint: (root).optimizer's state 'v' for (root).layer_with_weights-0.embeddings\n",
            "2021-04-12 05:52:28.578 Unresolved object in checkpoint: (root).optimizer's state 'v' for (root).layer_with_weights-2.kernel\n",
            "2021-04-12 05:52:28.578 Unresolved object in checkpoint: (root).optimizer's state 'v' for (root).layer_with_weights-2.bias\n",
            "2021-04-12 05:52:28.578 Unresolved object in checkpoint: (root).optimizer's state 'v' for (root).layer_with_weights-1.forward_layer.cell.kernel\n",
            "2021-04-12 05:52:28.578 Unresolved object in checkpoint: (root).optimizer's state 'v' for (root).layer_with_weights-1.forward_layer.cell.recurrent_kernel\n",
            "2021-04-12 05:52:28.578 Unresolved object in checkpoint: (root).optimizer's state 'v' for (root).layer_with_weights-1.forward_layer.cell.bias\n",
            "2021-04-12 05:52:28.578 Unresolved object in checkpoint: (root).optimizer's state 'v' for (root).layer_with_weights-1.backward_layer.cell.kernel\n",
            "2021-04-12 05:52:28.578 Unresolved object in checkpoint: (root).optimizer's state 'v' for (root).layer_with_weights-1.backward_layer.cell.recurrent_kernel\n",
            "2021-04-12 05:52:28.578 Unresolved object in checkpoint: (root).optimizer's state 'v' for (root).layer_with_weights-1.backward_layer.cell.bias\n",
            "2021-04-12 05:52:28.578 A checkpoint was restored (e.g. tf.train.Checkpoint.restore or tf.keras.Model.load_weights) but not all checkpointed values were used. See above for specific issues. Use expect_partial() on the load status object, e.g. tf.train.Checkpoint.restore(...).expect_partial(), to silence these warnings, or use assert_consumed() to make the check explicit. See https://www.tensorflow.org/guide/checkpoint#loading_mechanics for details.\n",
            "2021-04-12 05:52:29.939 Unresolved object in checkpoint: (root).optimizer\n",
            "2021-04-12 05:52:29.939 Unresolved object in checkpoint: (root).optimizer.iter\n",
            "2021-04-12 05:52:29.939 Unresolved object in checkpoint: (root).optimizer.beta_1\n",
            "2021-04-12 05:52:29.939 Unresolved object in checkpoint: (root).optimizer.beta_2\n",
            "2021-04-12 05:52:29.939 Unresolved object in checkpoint: (root).optimizer.decay\n",
            "2021-04-12 05:52:29.939 Unresolved object in checkpoint: (root).optimizer.learning_rate\n",
            "2021-04-12 05:52:29.939 Unresolved object in checkpoint: (root).optimizer's state 'm' for (root).layer_with_weights-0.embeddings\n",
            "2021-04-12 05:52:29.939 Unresolved object in checkpoint: (root).optimizer's state 'm' for (root).layer_with_weights-2.kernel\n",
            "2021-04-12 05:52:29.939 Unresolved object in checkpoint: (root).optimizer's state 'm' for (root).layer_with_weights-2.bias\n",
            "2021-04-12 05:52:29.939 Unresolved object in checkpoint: (root).optimizer's state 'm' for (root).layer_with_weights-1.forward_layer.cell.kernel\n",
            "2021-04-12 05:52:29.939 Unresolved object in checkpoint: (root).optimizer's state 'm' for (root).layer_with_weights-1.forward_layer.cell.recurrent_kernel\n",
            "2021-04-12 05:52:29.939 Unresolved object in checkpoint: (root).optimizer's state 'm' for (root).layer_with_weights-1.forward_layer.cell.bias\n",
            "2021-04-12 05:52:29.939 Unresolved object in checkpoint: (root).optimizer's state 'm' for (root).layer_with_weights-1.backward_layer.cell.kernel\n",
            "2021-04-12 05:52:29.939 Unresolved object in checkpoint: (root).optimizer's state 'm' for (root).layer_with_weights-1.backward_layer.cell.recurrent_kernel\n",
            "2021-04-12 05:52:29.939 Unresolved object in checkpoint: (root).optimizer's state 'm' for (root).layer_with_weights-1.backward_layer.cell.bias\n",
            "2021-04-12 05:52:29.940 Unresolved object in checkpoint: (root).optimizer's state 'v' for (root).layer_with_weights-0.embeddings\n",
            "2021-04-12 05:52:29.940 Unresolved object in checkpoint: (root).optimizer's state 'v' for (root).layer_with_weights-2.kernel\n",
            "2021-04-12 05:52:29.940 Unresolved object in checkpoint: (root).optimizer's state 'v' for (root).layer_with_weights-2.bias\n",
            "2021-04-12 05:52:29.940 Unresolved object in checkpoint: (root).optimizer's state 'v' for (root).layer_with_weights-1.forward_layer.cell.kernel\n",
            "2021-04-12 05:52:29.940 Unresolved object in checkpoint: (root).optimizer's state 'v' for (root).layer_with_weights-1.forward_layer.cell.recurrent_kernel\n",
            "2021-04-12 05:52:29.940 Unresolved object in checkpoint: (root).optimizer's state 'v' for (root).layer_with_weights-1.forward_layer.cell.bias\n",
            "2021-04-12 05:52:29.940 Unresolved object in checkpoint: (root).optimizer's state 'v' for (root).layer_with_weights-1.backward_layer.cell.kernel\n",
            "2021-04-12 05:52:29.940 Unresolved object in checkpoint: (root).optimizer's state 'v' for (root).layer_with_weights-1.backward_layer.cell.recurrent_kernel\n",
            "2021-04-12 05:52:29.940 Unresolved object in checkpoint: (root).optimizer's state 'v' for (root).layer_with_weights-1.backward_layer.cell.bias\n",
            "2021-04-12 05:52:29.940 A checkpoint was restored (e.g. tf.train.Checkpoint.restore or tf.keras.Model.load_weights) but not all checkpointed values were used. See above for specific issues. Use expect_partial() on the load status object, e.g. tf.train.Checkpoint.restore(...).expect_partial(), to silence these warnings, or use assert_consumed() to make the check explicit. See https://www.tensorflow.org/guide/checkpoint#loading_mechanics for details.\n",
            "2021-04-12 05:52:33.671 Unresolved object in checkpoint: (root).optimizer\n",
            "2021-04-12 05:52:33.672 Unresolved object in checkpoint: (root).optimizer.iter\n",
            "2021-04-12 05:52:33.672 Unresolved object in checkpoint: (root).optimizer.beta_1\n",
            "2021-04-12 05:52:33.672 Unresolved object in checkpoint: (root).optimizer.beta_2\n",
            "2021-04-12 05:52:33.672 Unresolved object in checkpoint: (root).optimizer.decay\n",
            "2021-04-12 05:52:33.672 Unresolved object in checkpoint: (root).optimizer.learning_rate\n",
            "2021-04-12 05:52:33.672 Unresolved object in checkpoint: (root).optimizer's state 'm' for (root).layer_with_weights-0.embeddings\n",
            "2021-04-12 05:52:33.672 Unresolved object in checkpoint: (root).optimizer's state 'm' for (root).layer_with_weights-2.kernel\n",
            "2021-04-12 05:52:33.672 Unresolved object in checkpoint: (root).optimizer's state 'm' for (root).layer_with_weights-2.bias\n",
            "2021-04-12 05:52:33.672 Unresolved object in checkpoint: (root).optimizer's state 'm' for (root).layer_with_weights-1.forward_layer.cell.kernel\n",
            "2021-04-12 05:52:33.672 Unresolved object in checkpoint: (root).optimizer's state 'm' for (root).layer_with_weights-1.forward_layer.cell.recurrent_kernel\n",
            "2021-04-12 05:52:33.672 Unresolved object in checkpoint: (root).optimizer's state 'm' for (root).layer_with_weights-1.forward_layer.cell.bias\n",
            "2021-04-12 05:52:33.672 Unresolved object in checkpoint: (root).optimizer's state 'm' for (root).layer_with_weights-1.backward_layer.cell.kernel\n",
            "2021-04-12 05:52:33.672 Unresolved object in checkpoint: (root).optimizer's state 'm' for (root).layer_with_weights-1.backward_layer.cell.recurrent_kernel\n",
            "2021-04-12 05:52:33.672 Unresolved object in checkpoint: (root).optimizer's state 'm' for (root).layer_with_weights-1.backward_layer.cell.bias\n",
            "2021-04-12 05:52:33.672 Unresolved object in checkpoint: (root).optimizer's state 'v' for (root).layer_with_weights-0.embeddings\n",
            "2021-04-12 05:52:33.672 Unresolved object in checkpoint: (root).optimizer's state 'v' for (root).layer_with_weights-2.kernel\n",
            "2021-04-12 05:52:33.672 Unresolved object in checkpoint: (root).optimizer's state 'v' for (root).layer_with_weights-2.bias\n",
            "2021-04-12 05:52:33.672 Unresolved object in checkpoint: (root).optimizer's state 'v' for (root).layer_with_weights-1.forward_layer.cell.kernel\n",
            "2021-04-12 05:52:33.672 Unresolved object in checkpoint: (root).optimizer's state 'v' for (root).layer_with_weights-1.forward_layer.cell.recurrent_kernel\n",
            "2021-04-12 05:52:33.672 Unresolved object in checkpoint: (root).optimizer's state 'v' for (root).layer_with_weights-1.forward_layer.cell.bias\n",
            "2021-04-12 05:52:33.672 Unresolved object in checkpoint: (root).optimizer's state 'v' for (root).layer_with_weights-1.backward_layer.cell.kernel\n",
            "2021-04-12 05:52:33.672 Unresolved object in checkpoint: (root).optimizer's state 'v' for (root).layer_with_weights-1.backward_layer.cell.recurrent_kernel\n",
            "2021-04-12 05:52:33.672 Unresolved object in checkpoint: (root).optimizer's state 'v' for (root).layer_with_weights-1.backward_layer.cell.bias\n",
            "2021-04-12 05:52:33.672 A checkpoint was restored (e.g. tf.train.Checkpoint.restore or tf.keras.Model.load_weights) but not all checkpointed values were used. See above for specific issues. Use expect_partial() on the load status object, e.g. tf.train.Checkpoint.restore(...).expect_partial(), to silence these warnings, or use assert_consumed() to make the check explicit. See https://www.tensorflow.org/guide/checkpoint#loading_mechanics for details.\n",
            "2021-04-12 05:55:46.341 Unresolved object in checkpoint: (root).optimizer\n",
            "2021-04-12 05:55:46.341 Unresolved object in checkpoint: (root).optimizer.iter\n",
            "2021-04-12 05:55:46.341 Unresolved object in checkpoint: (root).optimizer.beta_1\n",
            "2021-04-12 05:55:46.341 Unresolved object in checkpoint: (root).optimizer.beta_2\n",
            "2021-04-12 05:55:46.341 Unresolved object in checkpoint: (root).optimizer.decay\n",
            "2021-04-12 05:55:46.341 Unresolved object in checkpoint: (root).optimizer.learning_rate\n",
            "2021-04-12 05:55:46.341 Unresolved object in checkpoint: (root).optimizer's state 'm' for (root).layer_with_weights-0.embeddings\n",
            "2021-04-12 05:55:46.341 Unresolved object in checkpoint: (root).optimizer's state 'm' for (root).layer_with_weights-2.kernel\n",
            "2021-04-12 05:55:46.342 Unresolved object in checkpoint: (root).optimizer's state 'm' for (root).layer_with_weights-2.bias\n",
            "2021-04-12 05:55:46.342 Unresolved object in checkpoint: (root).optimizer's state 'm' for (root).layer_with_weights-1.forward_layer.cell.kernel\n",
            "2021-04-12 05:55:46.342 Unresolved object in checkpoint: (root).optimizer's state 'm' for (root).layer_with_weights-1.forward_layer.cell.recurrent_kernel\n",
            "2021-04-12 05:55:46.342 Unresolved object in checkpoint: (root).optimizer's state 'm' for (root).layer_with_weights-1.forward_layer.cell.bias\n",
            "2021-04-12 05:55:46.343 Unresolved object in checkpoint: (root).optimizer's state 'm' for (root).layer_with_weights-1.backward_layer.cell.kernel\n",
            "2021-04-12 05:55:46.343 Unresolved object in checkpoint: (root).optimizer's state 'm' for (root).layer_with_weights-1.backward_layer.cell.recurrent_kernel\n",
            "2021-04-12 05:55:46.343 Unresolved object in checkpoint: (root).optimizer's state 'm' for (root).layer_with_weights-1.backward_layer.cell.bias\n",
            "2021-04-12 05:55:46.343 Unresolved object in checkpoint: (root).optimizer's state 'v' for (root).layer_with_weights-0.embeddings\n",
            "2021-04-12 05:55:46.343 Unresolved object in checkpoint: (root).optimizer's state 'v' for (root).layer_with_weights-2.kernel\n",
            "2021-04-12 05:55:46.343 Unresolved object in checkpoint: (root).optimizer's state 'v' for (root).layer_with_weights-2.bias\n",
            "2021-04-12 05:55:46.343 Unresolved object in checkpoint: (root).optimizer's state 'v' for (root).layer_with_weights-1.forward_layer.cell.kernel\n",
            "2021-04-12 05:55:46.344 Unresolved object in checkpoint: (root).optimizer's state 'v' for (root).layer_with_weights-1.forward_layer.cell.recurrent_kernel\n",
            "2021-04-12 05:55:46.344 Unresolved object in checkpoint: (root).optimizer's state 'v' for (root).layer_with_weights-1.forward_layer.cell.bias\n",
            "2021-04-12 05:55:46.344 Unresolved object in checkpoint: (root).optimizer's state 'v' for (root).layer_with_weights-1.backward_layer.cell.kernel\n",
            "2021-04-12 05:55:46.344 Unresolved object in checkpoint: (root).optimizer's state 'v' for (root).layer_with_weights-1.backward_layer.cell.recurrent_kernel\n",
            "2021-04-12 05:55:46.344 Unresolved object in checkpoint: (root).optimizer's state 'v' for (root).layer_with_weights-1.backward_layer.cell.bias\n",
            "2021-04-12 05:55:46.344 A checkpoint was restored (e.g. tf.train.Checkpoint.restore or tf.keras.Model.load_weights) but not all checkpointed values were used. See above for specific issues. Use expect_partial() on the load status object, e.g. tf.train.Checkpoint.restore(...).expect_partial(), to silence these warnings, or use assert_consumed() to make the check explicit. See https://www.tensorflow.org/guide/checkpoint#loading_mechanics for details.\n",
            "2021-04-12 05:55:46.513 Unresolved object in checkpoint: (root).optimizer\n",
            "2021-04-12 05:55:46.513 Unresolved object in checkpoint: (root).optimizer.iter\n",
            "2021-04-12 05:55:46.513 Unresolved object in checkpoint: (root).optimizer.beta_1\n",
            "2021-04-12 05:55:46.513 Unresolved object in checkpoint: (root).optimizer.beta_2\n",
            "2021-04-12 05:55:46.513 Unresolved object in checkpoint: (root).optimizer.decay\n",
            "2021-04-12 05:55:46.513 Unresolved object in checkpoint: (root).optimizer.learning_rate\n",
            "2021-04-12 05:55:46.513 Unresolved object in checkpoint: (root).optimizer's state 'm' for (root).layer_with_weights-0.embeddings\n",
            "2021-04-12 05:55:46.513 Unresolved object in checkpoint: (root).optimizer's state 'm' for (root).layer_with_weights-2.kernel\n",
            "2021-04-12 05:55:46.513 Unresolved object in checkpoint: (root).optimizer's state 'm' for (root).layer_with_weights-2.bias\n",
            "2021-04-12 05:55:46.513 Unresolved object in checkpoint: (root).optimizer's state 'm' for (root).layer_with_weights-1.forward_layer.cell.kernel\n",
            "2021-04-12 05:55:46.513 Unresolved object in checkpoint: (root).optimizer's state 'm' for (root).layer_with_weights-1.forward_layer.cell.recurrent_kernel\n",
            "2021-04-12 05:55:46.513 Unresolved object in checkpoint: (root).optimizer's state 'm' for (root).layer_with_weights-1.forward_layer.cell.bias\n",
            "2021-04-12 05:55:46.513 Unresolved object in checkpoint: (root).optimizer's state 'm' for (root).layer_with_weights-1.backward_layer.cell.kernel\n",
            "2021-04-12 05:55:46.513 Unresolved object in checkpoint: (root).optimizer's state 'm' for (root).layer_with_weights-1.backward_layer.cell.recurrent_kernel\n",
            "2021-04-12 05:55:46.513 Unresolved object in checkpoint: (root).optimizer's state 'm' for (root).layer_with_weights-1.backward_layer.cell.bias\n",
            "2021-04-12 05:55:46.513 Unresolved object in checkpoint: (root).optimizer's state 'v' for (root).layer_with_weights-0.embeddings\n",
            "2021-04-12 05:55:46.513 Unresolved object in checkpoint: (root).optimizer's state 'v' for (root).layer_with_weights-2.kernel\n",
            "2021-04-12 05:55:46.513 Unresolved object in checkpoint: (root).optimizer's state 'v' for (root).layer_with_weights-2.bias\n",
            "2021-04-12 05:55:46.513 Unresolved object in checkpoint: (root).optimizer's state 'v' for (root).layer_with_weights-1.forward_layer.cell.kernel\n",
            "2021-04-12 05:55:46.513 Unresolved object in checkpoint: (root).optimizer's state 'v' for (root).layer_with_weights-1.forward_layer.cell.recurrent_kernel\n",
            "2021-04-12 05:55:46.513 Unresolved object in checkpoint: (root).optimizer's state 'v' for (root).layer_with_weights-1.forward_layer.cell.bias\n",
            "2021-04-12 05:55:46.513 Unresolved object in checkpoint: (root).optimizer's state 'v' for (root).layer_with_weights-1.backward_layer.cell.kernel\n",
            "2021-04-12 05:55:46.514 Unresolved object in checkpoint: (root).optimizer's state 'v' for (root).layer_with_weights-1.backward_layer.cell.recurrent_kernel\n",
            "2021-04-12 05:55:46.514 Unresolved object in checkpoint: (root).optimizer's state 'v' for (root).layer_with_weights-1.backward_layer.cell.bias\n",
            "2021-04-12 05:55:46.514 A checkpoint was restored (e.g. tf.train.Checkpoint.restore or tf.keras.Model.load_weights) but not all checkpointed values were used. See above for specific issues. Use expect_partial() on the load status object, e.g. tf.train.Checkpoint.restore(...).expect_partial(), to silence these warnings, or use assert_consumed() to make the check explicit. See https://www.tensorflow.org/guide/checkpoint#loading_mechanics for details.\n",
            "2021-04-12 05:55:47.335 Unresolved object in checkpoint: (root).optimizer\n",
            "2021-04-12 05:55:47.335 Unresolved object in checkpoint: (root).optimizer.iter\n",
            "2021-04-12 05:55:47.335 Unresolved object in checkpoint: (root).optimizer.beta_1\n",
            "2021-04-12 05:55:47.335 Unresolved object in checkpoint: (root).optimizer.beta_2\n",
            "2021-04-12 05:55:47.335 Unresolved object in checkpoint: (root).optimizer.decay\n",
            "2021-04-12 05:55:47.335 Unresolved object in checkpoint: (root).optimizer.learning_rate\n",
            "2021-04-12 05:55:47.335 Unresolved object in checkpoint: (root).optimizer's state 'm' for (root).layer_with_weights-0.embeddings\n",
            "2021-04-12 05:55:47.335 Unresolved object in checkpoint: (root).optimizer's state 'm' for (root).layer_with_weights-2.kernel\n",
            "2021-04-12 05:55:47.335 Unresolved object in checkpoint: (root).optimizer's state 'm' for (root).layer_with_weights-2.bias\n",
            "2021-04-12 05:55:47.335 Unresolved object in checkpoint: (root).optimizer's state 'm' for (root).layer_with_weights-1.forward_layer.cell.kernel\n",
            "2021-04-12 05:55:47.335 Unresolved object in checkpoint: (root).optimizer's state 'm' for (root).layer_with_weights-1.forward_layer.cell.recurrent_kernel\n",
            "2021-04-12 05:55:47.335 Unresolved object in checkpoint: (root).optimizer's state 'm' for (root).layer_with_weights-1.forward_layer.cell.bias\n",
            "2021-04-12 05:55:47.335 Unresolved object in checkpoint: (root).optimizer's state 'm' for (root).layer_with_weights-1.backward_layer.cell.kernel\n",
            "2021-04-12 05:55:47.335 Unresolved object in checkpoint: (root).optimizer's state 'm' for (root).layer_with_weights-1.backward_layer.cell.recurrent_kernel\n",
            "2021-04-12 05:55:47.335 Unresolved object in checkpoint: (root).optimizer's state 'm' for (root).layer_with_weights-1.backward_layer.cell.bias\n",
            "2021-04-12 05:55:47.335 Unresolved object in checkpoint: (root).optimizer's state 'v' for (root).layer_with_weights-0.embeddings\n",
            "2021-04-12 05:55:47.335 Unresolved object in checkpoint: (root).optimizer's state 'v' for (root).layer_with_weights-2.kernel\n",
            "2021-04-12 05:55:47.335 Unresolved object in checkpoint: (root).optimizer's state 'v' for (root).layer_with_weights-2.bias\n",
            "2021-04-12 05:55:47.335 Unresolved object in checkpoint: (root).optimizer's state 'v' for (root).layer_with_weights-1.forward_layer.cell.kernel\n",
            "2021-04-12 05:55:47.335 Unresolved object in checkpoint: (root).optimizer's state 'v' for (root).layer_with_weights-1.forward_layer.cell.recurrent_kernel\n",
            "2021-04-12 05:55:47.336 Unresolved object in checkpoint: (root).optimizer's state 'v' for (root).layer_with_weights-1.forward_layer.cell.bias\n",
            "2021-04-12 05:55:47.336 Unresolved object in checkpoint: (root).optimizer's state 'v' for (root).layer_with_weights-1.backward_layer.cell.kernel\n",
            "2021-04-12 05:55:47.336 Unresolved object in checkpoint: (root).optimizer's state 'v' for (root).layer_with_weights-1.backward_layer.cell.recurrent_kernel\n",
            "2021-04-12 05:55:47.336 Unresolved object in checkpoint: (root).optimizer's state 'v' for (root).layer_with_weights-1.backward_layer.cell.bias\n",
            "2021-04-12 05:55:47.336 A checkpoint was restored (e.g. tf.train.Checkpoint.restore or tf.keras.Model.load_weights) but not all checkpointed values were used. See above for specific issues. Use expect_partial() on the load status object, e.g. tf.train.Checkpoint.restore(...).expect_partial(), to silence these warnings, or use assert_consumed() to make the check explicit. See https://www.tensorflow.org/guide/checkpoint#loading_mechanics for details.\n",
            "2021-04-12 05:57:46.431 Unresolved object in checkpoint: (root).optimizer\n",
            "2021-04-12 05:57:46.431 Unresolved object in checkpoint: (root).optimizer.iter\n",
            "2021-04-12 05:57:46.432 Unresolved object in checkpoint: (root).optimizer.beta_1\n",
            "2021-04-12 05:57:46.432 Unresolved object in checkpoint: (root).optimizer.beta_2\n",
            "2021-04-12 05:57:46.432 Unresolved object in checkpoint: (root).optimizer.decay\n",
            "2021-04-12 05:57:46.432 Unresolved object in checkpoint: (root).optimizer.learning_rate\n",
            "2021-04-12 05:57:46.432 Unresolved object in checkpoint: (root).optimizer's state 'm' for (root).layer_with_weights-0.embeddings\n",
            "2021-04-12 05:57:46.432 Unresolved object in checkpoint: (root).optimizer's state 'm' for (root).layer_with_weights-2.kernel\n",
            "2021-04-12 05:57:46.432 Unresolved object in checkpoint: (root).optimizer's state 'm' for (root).layer_with_weights-2.bias\n",
            "2021-04-12 05:57:46.432 Unresolved object in checkpoint: (root).optimizer's state 'm' for (root).layer_with_weights-1.forward_layer.cell.kernel\n",
            "2021-04-12 05:57:46.432 Unresolved object in checkpoint: (root).optimizer's state 'm' for (root).layer_with_weights-1.forward_layer.cell.recurrent_kernel\n",
            "2021-04-12 05:57:46.432 Unresolved object in checkpoint: (root).optimizer's state 'm' for (root).layer_with_weights-1.forward_layer.cell.bias\n",
            "2021-04-12 05:57:46.432 Unresolved object in checkpoint: (root).optimizer's state 'm' for (root).layer_with_weights-1.backward_layer.cell.kernel\n",
            "2021-04-12 05:57:46.432 Unresolved object in checkpoint: (root).optimizer's state 'm' for (root).layer_with_weights-1.backward_layer.cell.recurrent_kernel\n",
            "2021-04-12 05:57:46.432 Unresolved object in checkpoint: (root).optimizer's state 'm' for (root).layer_with_weights-1.backward_layer.cell.bias\n",
            "2021-04-12 05:57:46.432 Unresolved object in checkpoint: (root).optimizer's state 'v' for (root).layer_with_weights-0.embeddings\n",
            "2021-04-12 05:57:46.432 Unresolved object in checkpoint: (root).optimizer's state 'v' for (root).layer_with_weights-2.kernel\n",
            "2021-04-12 05:57:46.432 Unresolved object in checkpoint: (root).optimizer's state 'v' for (root).layer_with_weights-2.bias\n",
            "2021-04-12 05:57:46.432 Unresolved object in checkpoint: (root).optimizer's state 'v' for (root).layer_with_weights-1.forward_layer.cell.kernel\n",
            "2021-04-12 05:57:46.432 Unresolved object in checkpoint: (root).optimizer's state 'v' for (root).layer_with_weights-1.forward_layer.cell.recurrent_kernel\n",
            "2021-04-12 05:57:46.432 Unresolved object in checkpoint: (root).optimizer's state 'v' for (root).layer_with_weights-1.forward_layer.cell.bias\n",
            "2021-04-12 05:57:46.432 Unresolved object in checkpoint: (root).optimizer's state 'v' for (root).layer_with_weights-1.backward_layer.cell.kernel\n",
            "2021-04-12 05:57:46.432 Unresolved object in checkpoint: (root).optimizer's state 'v' for (root).layer_with_weights-1.backward_layer.cell.recurrent_kernel\n",
            "2021-04-12 05:57:46.432 Unresolved object in checkpoint: (root).optimizer's state 'v' for (root).layer_with_weights-1.backward_layer.cell.bias\n",
            "2021-04-12 05:57:46.432 A checkpoint was restored (e.g. tf.train.Checkpoint.restore or tf.keras.Model.load_weights) but not all checkpointed values were used. See above for specific issues. Use expect_partial() on the load status object, e.g. tf.train.Checkpoint.restore(...).expect_partial(), to silence these warnings, or use assert_consumed() to make the check explicit. See https://www.tensorflow.org/guide/checkpoint#loading_mechanics for details.\n",
            "2021-04-12 05:57:47.401 Unresolved object in checkpoint: (root).optimizer\n",
            "2021-04-12 05:57:47.401 Unresolved object in checkpoint: (root).optimizer.iter\n",
            "2021-04-12 05:57:47.401 Unresolved object in checkpoint: (root).optimizer.beta_1\n",
            "2021-04-12 05:57:47.401 Unresolved object in checkpoint: (root).optimizer.beta_2\n",
            "2021-04-12 05:57:47.401 Unresolved object in checkpoint: (root).optimizer.decay\n",
            "2021-04-12 05:57:47.401 Unresolved object in checkpoint: (root).optimizer.learning_rate\n",
            "2021-04-12 05:57:47.401 Unresolved object in checkpoint: (root).optimizer's state 'm' for (root).layer_with_weights-0.embeddings\n",
            "2021-04-12 05:57:47.401 Unresolved object in checkpoint: (root).optimizer's state 'm' for (root).layer_with_weights-2.kernel\n",
            "2021-04-12 05:57:47.401 Unresolved object in checkpoint: (root).optimizer's state 'm' for (root).layer_with_weights-2.bias\n",
            "2021-04-12 05:57:47.401 Unresolved object in checkpoint: (root).optimizer's state 'm' for (root).layer_with_weights-1.forward_layer.cell.kernel\n",
            "2021-04-12 05:57:47.401 Unresolved object in checkpoint: (root).optimizer's state 'm' for (root).layer_with_weights-1.forward_layer.cell.recurrent_kernel\n",
            "2021-04-12 05:57:47.401 Unresolved object in checkpoint: (root).optimizer's state 'm' for (root).layer_with_weights-1.forward_layer.cell.bias\n",
            "2021-04-12 05:57:47.401 Unresolved object in checkpoint: (root).optimizer's state 'm' for (root).layer_with_weights-1.backward_layer.cell.kernel\n",
            "2021-04-12 05:57:47.401 Unresolved object in checkpoint: (root).optimizer's state 'm' for (root).layer_with_weights-1.backward_layer.cell.recurrent_kernel\n",
            "2021-04-12 05:57:47.401 Unresolved object in checkpoint: (root).optimizer's state 'm' for (root).layer_with_weights-1.backward_layer.cell.bias\n",
            "2021-04-12 05:57:47.401 Unresolved object in checkpoint: (root).optimizer's state 'v' for (root).layer_with_weights-0.embeddings\n",
            "2021-04-12 05:57:47.401 Unresolved object in checkpoint: (root).optimizer's state 'v' for (root).layer_with_weights-2.kernel\n",
            "2021-04-12 05:57:47.401 Unresolved object in checkpoint: (root).optimizer's state 'v' for (root).layer_with_weights-2.bias\n",
            "2021-04-12 05:57:47.402 Unresolved object in checkpoint: (root).optimizer's state 'v' for (root).layer_with_weights-1.forward_layer.cell.kernel\n",
            "2021-04-12 05:57:47.402 Unresolved object in checkpoint: (root).optimizer's state 'v' for (root).layer_with_weights-1.forward_layer.cell.recurrent_kernel\n",
            "2021-04-12 05:57:47.402 Unresolved object in checkpoint: (root).optimizer's state 'v' for (root).layer_with_weights-1.forward_layer.cell.bias\n",
            "2021-04-12 05:57:47.402 Unresolved object in checkpoint: (root).optimizer's state 'v' for (root).layer_with_weights-1.backward_layer.cell.kernel\n",
            "2021-04-12 05:57:47.402 Unresolved object in checkpoint: (root).optimizer's state 'v' for (root).layer_with_weights-1.backward_layer.cell.recurrent_kernel\n",
            "2021-04-12 05:57:47.402 Unresolved object in checkpoint: (root).optimizer's state 'v' for (root).layer_with_weights-1.backward_layer.cell.bias\n",
            "2021-04-12 05:57:47.402 A checkpoint was restored (e.g. tf.train.Checkpoint.restore or tf.keras.Model.load_weights) but not all checkpointed values were used. See above for specific issues. Use expect_partial() on the load status object, e.g. tf.train.Checkpoint.restore(...).expect_partial(), to silence these warnings, or use assert_consumed() to make the check explicit. See https://www.tensorflow.org/guide/checkpoint#loading_mechanics for details.\n",
            "2021-04-12 05:57:58.162 Unresolved object in checkpoint: (root).optimizer\n",
            "2021-04-12 05:57:58.163 Unresolved object in checkpoint: (root).optimizer.iter\n",
            "2021-04-12 05:57:58.163 Unresolved object in checkpoint: (root).optimizer.beta_1\n",
            "2021-04-12 05:57:58.163 Unresolved object in checkpoint: (root).optimizer.beta_2\n",
            "2021-04-12 05:57:58.163 Unresolved object in checkpoint: (root).optimizer.decay\n",
            "2021-04-12 05:57:58.163 Unresolved object in checkpoint: (root).optimizer.learning_rate\n",
            "2021-04-12 05:57:58.163 Unresolved object in checkpoint: (root).optimizer's state 'm' for (root).layer_with_weights-0.embeddings\n",
            "2021-04-12 05:57:58.163 Unresolved object in checkpoint: (root).optimizer's state 'm' for (root).layer_with_weights-2.kernel\n",
            "2021-04-12 05:57:58.163 Unresolved object in checkpoint: (root).optimizer's state 'm' for (root).layer_with_weights-2.bias\n",
            "2021-04-12 05:57:58.163 Unresolved object in checkpoint: (root).optimizer's state 'm' for (root).layer_with_weights-1.forward_layer.cell.kernel\n",
            "2021-04-12 05:57:58.163 Unresolved object in checkpoint: (root).optimizer's state 'm' for (root).layer_with_weights-1.forward_layer.cell.recurrent_kernel\n",
            "2021-04-12 05:57:58.163 Unresolved object in checkpoint: (root).optimizer's state 'm' for (root).layer_with_weights-1.forward_layer.cell.bias\n",
            "2021-04-12 05:57:58.163 Unresolved object in checkpoint: (root).optimizer's state 'm' for (root).layer_with_weights-1.backward_layer.cell.kernel\n",
            "2021-04-12 05:57:58.163 Unresolved object in checkpoint: (root).optimizer's state 'm' for (root).layer_with_weights-1.backward_layer.cell.recurrent_kernel\n",
            "2021-04-12 05:57:58.163 Unresolved object in checkpoint: (root).optimizer's state 'm' for (root).layer_with_weights-1.backward_layer.cell.bias\n",
            "2021-04-12 05:57:58.163 Unresolved object in checkpoint: (root).optimizer's state 'v' for (root).layer_with_weights-0.embeddings\n",
            "2021-04-12 05:57:58.163 Unresolved object in checkpoint: (root).optimizer's state 'v' for (root).layer_with_weights-2.kernel\n",
            "2021-04-12 05:57:58.163 Unresolved object in checkpoint: (root).optimizer's state 'v' for (root).layer_with_weights-2.bias\n",
            "2021-04-12 05:57:58.163 Unresolved object in checkpoint: (root).optimizer's state 'v' for (root).layer_with_weights-1.forward_layer.cell.kernel\n",
            "2021-04-12 05:57:58.163 Unresolved object in checkpoint: (root).optimizer's state 'v' for (root).layer_with_weights-1.forward_layer.cell.recurrent_kernel\n",
            "2021-04-12 05:57:58.163 Unresolved object in checkpoint: (root).optimizer's state 'v' for (root).layer_with_weights-1.forward_layer.cell.bias\n",
            "2021-04-12 05:57:58.163 Unresolved object in checkpoint: (root).optimizer's state 'v' for (root).layer_with_weights-1.backward_layer.cell.kernel\n",
            "2021-04-12 05:57:58.164 Unresolved object in checkpoint: (root).optimizer's state 'v' for (root).layer_with_weights-1.backward_layer.cell.recurrent_kernel\n",
            "2021-04-12 05:57:58.164 Unresolved object in checkpoint: (root).optimizer's state 'v' for (root).layer_with_weights-1.backward_layer.cell.bias\n",
            "2021-04-12 05:57:58.164 A checkpoint was restored (e.g. tf.train.Checkpoint.restore or tf.keras.Model.load_weights) but not all checkpointed values were used. See above for specific issues. Use expect_partial() on the load status object, e.g. tf.train.Checkpoint.restore(...).expect_partial(), to silence these warnings, or use assert_consumed() to make the check explicit. See https://www.tensorflow.org/guide/checkpoint#loading_mechanics for details.\n",
            "2021-04-12 05:58:04.054 Unresolved object in checkpoint: (root).optimizer\n",
            "2021-04-12 05:58:04.054 Unresolved object in checkpoint: (root).optimizer.iter\n",
            "2021-04-12 05:58:04.054 Unresolved object in checkpoint: (root).optimizer.beta_1\n",
            "2021-04-12 05:58:04.055 Unresolved object in checkpoint: (root).optimizer.beta_2\n",
            "2021-04-12 05:58:04.055 Unresolved object in checkpoint: (root).optimizer.decay\n",
            "2021-04-12 05:58:04.055 Unresolved object in checkpoint: (root).optimizer.learning_rate\n",
            "2021-04-12 05:58:04.055 Unresolved object in checkpoint: (root).optimizer's state 'm' for (root).layer_with_weights-0.embeddings\n",
            "2021-04-12 05:58:04.055 Unresolved object in checkpoint: (root).optimizer's state 'm' for (root).layer_with_weights-2.kernel\n",
            "2021-04-12 05:58:04.055 Unresolved object in checkpoint: (root).optimizer's state 'm' for (root).layer_with_weights-2.bias\n",
            "2021-04-12 05:58:04.055 Unresolved object in checkpoint: (root).optimizer's state 'm' for (root).layer_with_weights-1.forward_layer.cell.kernel\n",
            "2021-04-12 05:58:04.055 Unresolved object in checkpoint: (root).optimizer's state 'm' for (root).layer_with_weights-1.forward_layer.cell.recurrent_kernel\n",
            "2021-04-12 05:58:04.055 Unresolved object in checkpoint: (root).optimizer's state 'm' for (root).layer_with_weights-1.forward_layer.cell.bias\n",
            "2021-04-12 05:58:04.055 Unresolved object in checkpoint: (root).optimizer's state 'm' for (root).layer_with_weights-1.backward_layer.cell.kernel\n",
            "2021-04-12 05:58:04.055 Unresolved object in checkpoint: (root).optimizer's state 'm' for (root).layer_with_weights-1.backward_layer.cell.recurrent_kernel\n",
            "2021-04-12 05:58:04.055 Unresolved object in checkpoint: (root).optimizer's state 'm' for (root).layer_with_weights-1.backward_layer.cell.bias\n",
            "2021-04-12 05:58:04.055 Unresolved object in checkpoint: (root).optimizer's state 'v' for (root).layer_with_weights-0.embeddings\n",
            "2021-04-12 05:58:04.055 Unresolved object in checkpoint: (root).optimizer's state 'v' for (root).layer_with_weights-2.kernel\n",
            "2021-04-12 05:58:04.055 Unresolved object in checkpoint: (root).optimizer's state 'v' for (root).layer_with_weights-2.bias\n",
            "2021-04-12 05:58:04.055 Unresolved object in checkpoint: (root).optimizer's state 'v' for (root).layer_with_weights-1.forward_layer.cell.kernel\n",
            "2021-04-12 05:58:04.055 Unresolved object in checkpoint: (root).optimizer's state 'v' for (root).layer_with_weights-1.forward_layer.cell.recurrent_kernel\n",
            "2021-04-12 05:58:04.055 Unresolved object in checkpoint: (root).optimizer's state 'v' for (root).layer_with_weights-1.forward_layer.cell.bias\n",
            "2021-04-12 05:58:04.055 Unresolved object in checkpoint: (root).optimizer's state 'v' for (root).layer_with_weights-1.backward_layer.cell.kernel\n",
            "2021-04-12 05:58:04.055 Unresolved object in checkpoint: (root).optimizer's state 'v' for (root).layer_with_weights-1.backward_layer.cell.recurrent_kernel\n",
            "2021-04-12 05:58:04.056 Unresolved object in checkpoint: (root).optimizer's state 'v' for (root).layer_with_weights-1.backward_layer.cell.bias\n",
            "2021-04-12 05:58:04.056 A checkpoint was restored (e.g. tf.train.Checkpoint.restore or tf.keras.Model.load_weights) but not all checkpointed values were used. See above for specific issues. Use expect_partial() on the load status object, e.g. tf.train.Checkpoint.restore(...).expect_partial(), to silence these warnings, or use assert_consumed() to make the check explicit. See https://www.tensorflow.org/guide/checkpoint#loading_mechanics for details.\n",
            "2021-04-12 05:58:04.212 Unresolved object in checkpoint: (root).optimizer\n",
            "2021-04-12 05:58:04.212 Unresolved object in checkpoint: (root).optimizer.iter\n",
            "2021-04-12 05:58:04.212 Unresolved object in checkpoint: (root).optimizer.beta_1\n",
            "2021-04-12 05:58:04.212 Unresolved object in checkpoint: (root).optimizer.beta_2\n",
            "2021-04-12 05:58:04.212 Unresolved object in checkpoint: (root).optimizer.decay\n",
            "2021-04-12 05:58:04.212 Unresolved object in checkpoint: (root).optimizer.learning_rate\n",
            "2021-04-12 05:58:04.212 Unresolved object in checkpoint: (root).optimizer's state 'm' for (root).layer_with_weights-0.embeddings\n",
            "2021-04-12 05:58:04.212 Unresolved object in checkpoint: (root).optimizer's state 'm' for (root).layer_with_weights-2.kernel\n",
            "2021-04-12 05:58:04.212 Unresolved object in checkpoint: (root).optimizer's state 'm' for (root).layer_with_weights-2.bias\n",
            "2021-04-12 05:58:04.212 Unresolved object in checkpoint: (root).optimizer's state 'm' for (root).layer_with_weights-1.forward_layer.cell.kernel\n",
            "2021-04-12 05:58:04.212 Unresolved object in checkpoint: (root).optimizer's state 'm' for (root).layer_with_weights-1.forward_layer.cell.recurrent_kernel\n",
            "2021-04-12 05:58:04.212 Unresolved object in checkpoint: (root).optimizer's state 'm' for (root).layer_with_weights-1.forward_layer.cell.bias\n",
            "2021-04-12 05:58:04.212 Unresolved object in checkpoint: (root).optimizer's state 'm' for (root).layer_with_weights-1.backward_layer.cell.kernel\n",
            "2021-04-12 05:58:04.213 Unresolved object in checkpoint: (root).optimizer's state 'm' for (root).layer_with_weights-1.backward_layer.cell.recurrent_kernel\n",
            "2021-04-12 05:58:04.213 Unresolved object in checkpoint: (root).optimizer's state 'm' for (root).layer_with_weights-1.backward_layer.cell.bias\n",
            "2021-04-12 05:58:04.213 Unresolved object in checkpoint: (root).optimizer's state 'v' for (root).layer_with_weights-0.embeddings\n",
            "2021-04-12 05:58:04.213 Unresolved object in checkpoint: (root).optimizer's state 'v' for (root).layer_with_weights-2.kernel\n",
            "2021-04-12 05:58:04.213 Unresolved object in checkpoint: (root).optimizer's state 'v' for (root).layer_with_weights-2.bias\n",
            "2021-04-12 05:58:04.213 Unresolved object in checkpoint: (root).optimizer's state 'v' for (root).layer_with_weights-1.forward_layer.cell.kernel\n",
            "2021-04-12 05:58:04.213 Unresolved object in checkpoint: (root).optimizer's state 'v' for (root).layer_with_weights-1.forward_layer.cell.recurrent_kernel\n",
            "2021-04-12 05:58:04.213 Unresolved object in checkpoint: (root).optimizer's state 'v' for (root).layer_with_weights-1.forward_layer.cell.bias\n",
            "2021-04-12 05:58:04.213 Unresolved object in checkpoint: (root).optimizer's state 'v' for (root).layer_with_weights-1.backward_layer.cell.kernel\n",
            "2021-04-12 05:58:04.213 Unresolved object in checkpoint: (root).optimizer's state 'v' for (root).layer_with_weights-1.backward_layer.cell.recurrent_kernel\n",
            "2021-04-12 05:58:04.213 Unresolved object in checkpoint: (root).optimizer's state 'v' for (root).layer_with_weights-1.backward_layer.cell.bias\n",
            "2021-04-12 05:58:04.213 A checkpoint was restored (e.g. tf.train.Checkpoint.restore or tf.keras.Model.load_weights) but not all checkpointed values were used. See above for specific issues. Use expect_partial() on the load status object, e.g. tf.train.Checkpoint.restore(...).expect_partial(), to silence these warnings, or use assert_consumed() to make the check explicit. See https://www.tensorflow.org/guide/checkpoint#loading_mechanics for details.\n",
            "2021-04-12 05:58:04.286 Unresolved object in checkpoint: (root).optimizer\n",
            "2021-04-12 05:58:04.286 Unresolved object in checkpoint: (root).optimizer.iter\n",
            "2021-04-12 05:58:04.286 Unresolved object in checkpoint: (root).optimizer.beta_1\n",
            "2021-04-12 05:58:04.286 Unresolved object in checkpoint: (root).optimizer.beta_2\n",
            "2021-04-12 05:58:04.286 Unresolved object in checkpoint: (root).optimizer.decay\n",
            "2021-04-12 05:58:04.286 Unresolved object in checkpoint: (root).optimizer.learning_rate\n",
            "2021-04-12 05:58:04.286 Unresolved object in checkpoint: (root).optimizer's state 'm' for (root).layer_with_weights-0.embeddings\n",
            "2021-04-12 05:58:04.289 Unresolved object in checkpoint: (root).optimizer's state 'm' for (root).layer_with_weights-2.kernel\n",
            "2021-04-12 05:58:04.289 Unresolved object in checkpoint: (root).optimizer's state 'm' for (root).layer_with_weights-2.bias\n",
            "2021-04-12 05:58:04.289 Unresolved object in checkpoint: (root).optimizer's state 'm' for (root).layer_with_weights-1.forward_layer.cell.kernel\n",
            "2021-04-12 05:58:04.289 Unresolved object in checkpoint: (root).optimizer's state 'm' for (root).layer_with_weights-1.forward_layer.cell.recurrent_kernel\n",
            "2021-04-12 05:58:04.289 Unresolved object in checkpoint: (root).optimizer's state 'm' for (root).layer_with_weights-1.forward_layer.cell.bias\n",
            "2021-04-12 05:58:04.289 Unresolved object in checkpoint: (root).optimizer's state 'm' for (root).layer_with_weights-1.backward_layer.cell.kernel\n",
            "2021-04-12 05:58:04.290 Unresolved object in checkpoint: (root).optimizer's state 'm' for (root).layer_with_weights-1.backward_layer.cell.recurrent_kernel\n",
            "2021-04-12 05:58:04.290 Unresolved object in checkpoint: (root).optimizer's state 'm' for (root).layer_with_weights-1.backward_layer.cell.bias\n",
            "2021-04-12 05:58:04.290 Unresolved object in checkpoint: (root).optimizer's state 'v' for (root).layer_with_weights-0.embeddings\n",
            "2021-04-12 05:58:04.290 Unresolved object in checkpoint: (root).optimizer's state 'v' for (root).layer_with_weights-2.kernel\n",
            "2021-04-12 05:58:04.290 Unresolved object in checkpoint: (root).optimizer's state 'v' for (root).layer_with_weights-2.bias\n",
            "2021-04-12 05:58:04.290 Unresolved object in checkpoint: (root).optimizer's state 'v' for (root).layer_with_weights-1.forward_layer.cell.kernel\n",
            "2021-04-12 05:58:04.290 Unresolved object in checkpoint: (root).optimizer's state 'v' for (root).layer_with_weights-1.forward_layer.cell.recurrent_kernel\n",
            "2021-04-12 05:58:04.290 Unresolved object in checkpoint: (root).optimizer's state 'v' for (root).layer_with_weights-1.forward_layer.cell.bias\n",
            "2021-04-12 05:58:04.290 Unresolved object in checkpoint: (root).optimizer's state 'v' for (root).layer_with_weights-1.backward_layer.cell.kernel\n",
            "2021-04-12 05:58:04.291 Unresolved object in checkpoint: (root).optimizer's state 'v' for (root).layer_with_weights-1.backward_layer.cell.recurrent_kernel\n",
            "2021-04-12 05:58:04.291 Unresolved object in checkpoint: (root).optimizer's state 'v' for (root).layer_with_weights-1.backward_layer.cell.bias\n",
            "2021-04-12 05:58:04.291 A checkpoint was restored (e.g. tf.train.Checkpoint.restore or tf.keras.Model.load_weights) but not all checkpointed values were used. See above for specific issues. Use expect_partial() on the load status object, e.g. tf.train.Checkpoint.restore(...).expect_partial(), to silence these warnings, or use assert_consumed() to make the check explicit. See https://www.tensorflow.org/guide/checkpoint#loading_mechanics for details.\n",
            "2021-04-12 05:58:05.234 Unresolved object in checkpoint: (root).optimizer\n",
            "2021-04-12 05:58:05.235 Unresolved object in checkpoint: (root).optimizer.iter\n",
            "2021-04-12 05:58:05.235 Unresolved object in checkpoint: (root).optimizer.beta_1\n",
            "2021-04-12 05:58:05.235 Unresolved object in checkpoint: (root).optimizer.beta_2\n",
            "2021-04-12 05:58:05.235 Unresolved object in checkpoint: (root).optimizer.decay\n",
            "2021-04-12 05:58:05.235 Unresolved object in checkpoint: (root).optimizer.learning_rate\n",
            "2021-04-12 05:58:05.235 Unresolved object in checkpoint: (root).optimizer's state 'm' for (root).layer_with_weights-0.embeddings\n",
            "2021-04-12 05:58:05.235 Unresolved object in checkpoint: (root).optimizer's state 'm' for (root).layer_with_weights-2.kernel\n",
            "2021-04-12 05:58:05.235 Unresolved object in checkpoint: (root).optimizer's state 'm' for (root).layer_with_weights-2.bias\n",
            "2021-04-12 05:58:05.235 Unresolved object in checkpoint: (root).optimizer's state 'm' for (root).layer_with_weights-1.forward_layer.cell.kernel\n",
            "2021-04-12 05:58:05.235 Unresolved object in checkpoint: (root).optimizer's state 'm' for (root).layer_with_weights-1.forward_layer.cell.recurrent_kernel\n",
            "2021-04-12 05:58:05.235 Unresolved object in checkpoint: (root).optimizer's state 'm' for (root).layer_with_weights-1.forward_layer.cell.bias\n",
            "2021-04-12 05:58:05.235 Unresolved object in checkpoint: (root).optimizer's state 'm' for (root).layer_with_weights-1.backward_layer.cell.kernel\n",
            "2021-04-12 05:58:05.235 Unresolved object in checkpoint: (root).optimizer's state 'm' for (root).layer_with_weights-1.backward_layer.cell.recurrent_kernel\n",
            "2021-04-12 05:58:05.235 Unresolved object in checkpoint: (root).optimizer's state 'm' for (root).layer_with_weights-1.backward_layer.cell.bias\n",
            "2021-04-12 05:58:05.235 Unresolved object in checkpoint: (root).optimizer's state 'v' for (root).layer_with_weights-0.embeddings\n",
            "2021-04-12 05:58:05.235 Unresolved object in checkpoint: (root).optimizer's state 'v' for (root).layer_with_weights-2.kernel\n",
            "2021-04-12 05:58:05.235 Unresolved object in checkpoint: (root).optimizer's state 'v' for (root).layer_with_weights-2.bias\n",
            "2021-04-12 05:58:05.235 Unresolved object in checkpoint: (root).optimizer's state 'v' for (root).layer_with_weights-1.forward_layer.cell.kernel\n",
            "2021-04-12 05:58:05.235 Unresolved object in checkpoint: (root).optimizer's state 'v' for (root).layer_with_weights-1.forward_layer.cell.recurrent_kernel\n",
            "2021-04-12 05:58:05.235 Unresolved object in checkpoint: (root).optimizer's state 'v' for (root).layer_with_weights-1.forward_layer.cell.bias\n",
            "2021-04-12 05:58:05.235 Unresolved object in checkpoint: (root).optimizer's state 'v' for (root).layer_with_weights-1.backward_layer.cell.kernel\n",
            "2021-04-12 05:58:05.235 Unresolved object in checkpoint: (root).optimizer's state 'v' for (root).layer_with_weights-1.backward_layer.cell.recurrent_kernel\n",
            "2021-04-12 05:58:05.235 Unresolved object in checkpoint: (root).optimizer's state 'v' for (root).layer_with_weights-1.backward_layer.cell.bias\n",
            "2021-04-12 05:58:05.235 A checkpoint was restored (e.g. tf.train.Checkpoint.restore or tf.keras.Model.load_weights) but not all checkpointed values were used. See above for specific issues. Use expect_partial() on the load status object, e.g. tf.train.Checkpoint.restore(...).expect_partial(), to silence these warnings, or use assert_consumed() to make the check explicit. See https://www.tensorflow.org/guide/checkpoint#loading_mechanics for details.\n",
            "2021-04-12 05:58:52.210 Unresolved object in checkpoint: (root).optimizer\n",
            "2021-04-12 05:58:52.210 Unresolved object in checkpoint: (root).optimizer.iter\n",
            "2021-04-12 05:58:52.210 Unresolved object in checkpoint: (root).optimizer.beta_1\n",
            "2021-04-12 05:58:52.210 Unresolved object in checkpoint: (root).optimizer.beta_2\n",
            "2021-04-12 05:58:52.210 Unresolved object in checkpoint: (root).optimizer.decay\n",
            "2021-04-12 05:58:52.210 Unresolved object in checkpoint: (root).optimizer.learning_rate\n",
            "2021-04-12 05:58:52.210 Unresolved object in checkpoint: (root).optimizer's state 'm' for (root).layer_with_weights-0.embeddings\n",
            "2021-04-12 05:58:52.210 Unresolved object in checkpoint: (root).optimizer's state 'm' for (root).layer_with_weights-2.kernel\n",
            "2021-04-12 05:58:52.210 Unresolved object in checkpoint: (root).optimizer's state 'm' for (root).layer_with_weights-2.bias\n",
            "2021-04-12 05:58:52.210 Unresolved object in checkpoint: (root).optimizer's state 'm' for (root).layer_with_weights-1.forward_layer.cell.kernel\n",
            "2021-04-12 05:58:52.210 Unresolved object in checkpoint: (root).optimizer's state 'm' for (root).layer_with_weights-1.forward_layer.cell.recurrent_kernel\n",
            "2021-04-12 05:58:52.210 Unresolved object in checkpoint: (root).optimizer's state 'm' for (root).layer_with_weights-1.forward_layer.cell.bias\n",
            "2021-04-12 05:58:52.210 Unresolved object in checkpoint: (root).optimizer's state 'm' for (root).layer_with_weights-1.backward_layer.cell.kernel\n",
            "2021-04-12 05:58:52.211 Unresolved object in checkpoint: (root).optimizer's state 'm' for (root).layer_with_weights-1.backward_layer.cell.recurrent_kernel\n",
            "2021-04-12 05:58:52.211 Unresolved object in checkpoint: (root).optimizer's state 'm' for (root).layer_with_weights-1.backward_layer.cell.bias\n",
            "2021-04-12 05:58:52.211 Unresolved object in checkpoint: (root).optimizer's state 'v' for (root).layer_with_weights-0.embeddings\n",
            "2021-04-12 05:58:52.211 Unresolved object in checkpoint: (root).optimizer's state 'v' for (root).layer_with_weights-2.kernel\n",
            "2021-04-12 05:58:52.211 Unresolved object in checkpoint: (root).optimizer's state 'v' for (root).layer_with_weights-2.bias\n",
            "2021-04-12 05:58:52.211 Unresolved object in checkpoint: (root).optimizer's state 'v' for (root).layer_with_weights-1.forward_layer.cell.kernel\n",
            "2021-04-12 05:58:52.211 Unresolved object in checkpoint: (root).optimizer's state 'v' for (root).layer_with_weights-1.forward_layer.cell.recurrent_kernel\n",
            "2021-04-12 05:58:52.211 Unresolved object in checkpoint: (root).optimizer's state 'v' for (root).layer_with_weights-1.forward_layer.cell.bias\n",
            "2021-04-12 05:58:52.211 Unresolved object in checkpoint: (root).optimizer's state 'v' for (root).layer_with_weights-1.backward_layer.cell.kernel\n",
            "2021-04-12 05:58:52.212 Unresolved object in checkpoint: (root).optimizer's state 'v' for (root).layer_with_weights-1.backward_layer.cell.recurrent_kernel\n",
            "2021-04-12 05:58:52.212 Unresolved object in checkpoint: (root).optimizer's state 'v' for (root).layer_with_weights-1.backward_layer.cell.bias\n",
            "2021-04-12 05:58:52.212 A checkpoint was restored (e.g. tf.train.Checkpoint.restore or tf.keras.Model.load_weights) but not all checkpointed values were used. See above for specific issues. Use expect_partial() on the load status object, e.g. tf.train.Checkpoint.restore(...).expect_partial(), to silence these warnings, or use assert_consumed() to make the check explicit. See https://www.tensorflow.org/guide/checkpoint#loading_mechanics for details.\n",
            "2021-04-12 05:59:13.896 Unresolved object in checkpoint: (root).optimizer\n",
            "2021-04-12 05:59:13.896 Unresolved object in checkpoint: (root).optimizer.iter\n",
            "2021-04-12 05:59:13.896 Unresolved object in checkpoint: (root).optimizer.beta_1\n",
            "2021-04-12 05:59:13.896 Unresolved object in checkpoint: (root).optimizer.beta_2\n",
            "2021-04-12 05:59:13.896 Unresolved object in checkpoint: (root).optimizer.decay\n",
            "2021-04-12 05:59:13.896 Unresolved object in checkpoint: (root).optimizer.learning_rate\n",
            "2021-04-12 05:59:13.896 Unresolved object in checkpoint: (root).optimizer's state 'm' for (root).layer_with_weights-0.embeddings\n",
            "2021-04-12 05:59:13.896 Unresolved object in checkpoint: (root).optimizer's state 'm' for (root).layer_with_weights-2.kernel\n",
            "2021-04-12 05:59:13.896 Unresolved object in checkpoint: (root).optimizer's state 'm' for (root).layer_with_weights-2.bias\n",
            "2021-04-12 05:59:13.897 Unresolved object in checkpoint: (root).optimizer's state 'm' for (root).layer_with_weights-1.forward_layer.cell.kernel\n",
            "2021-04-12 05:59:13.897 Unresolved object in checkpoint: (root).optimizer's state 'm' for (root).layer_with_weights-1.forward_layer.cell.recurrent_kernel\n",
            "2021-04-12 05:59:13.897 Unresolved object in checkpoint: (root).optimizer's state 'm' for (root).layer_with_weights-1.forward_layer.cell.bias\n",
            "2021-04-12 05:59:13.897 Unresolved object in checkpoint: (root).optimizer's state 'm' for (root).layer_with_weights-1.backward_layer.cell.kernel\n",
            "2021-04-12 05:59:13.897 Unresolved object in checkpoint: (root).optimizer's state 'm' for (root).layer_with_weights-1.backward_layer.cell.recurrent_kernel\n",
            "2021-04-12 05:59:13.897 Unresolved object in checkpoint: (root).optimizer's state 'm' for (root).layer_with_weights-1.backward_layer.cell.bias\n",
            "2021-04-12 05:59:13.897 Unresolved object in checkpoint: (root).optimizer's state 'v' for (root).layer_with_weights-0.embeddings\n",
            "2021-04-12 05:59:13.897 Unresolved object in checkpoint: (root).optimizer's state 'v' for (root).layer_with_weights-2.kernel\n",
            "2021-04-12 05:59:13.897 Unresolved object in checkpoint: (root).optimizer's state 'v' for (root).layer_with_weights-2.bias\n",
            "2021-04-12 05:59:13.897 Unresolved object in checkpoint: (root).optimizer's state 'v' for (root).layer_with_weights-1.forward_layer.cell.kernel\n",
            "2021-04-12 05:59:13.897 Unresolved object in checkpoint: (root).optimizer's state 'v' for (root).layer_with_weights-1.forward_layer.cell.recurrent_kernel\n",
            "2021-04-12 05:59:13.897 Unresolved object in checkpoint: (root).optimizer's state 'v' for (root).layer_with_weights-1.forward_layer.cell.bias\n",
            "2021-04-12 05:59:13.898 Unresolved object in checkpoint: (root).optimizer's state 'v' for (root).layer_with_weights-1.backward_layer.cell.kernel\n",
            "2021-04-12 05:59:13.898 Unresolved object in checkpoint: (root).optimizer's state 'v' for (root).layer_with_weights-1.backward_layer.cell.recurrent_kernel\n",
            "2021-04-12 05:59:13.898 Unresolved object in checkpoint: (root).optimizer's state 'v' for (root).layer_with_weights-1.backward_layer.cell.bias\n",
            "2021-04-12 05:59:13.898 A checkpoint was restored (e.g. tf.train.Checkpoint.restore or tf.keras.Model.load_weights) but not all checkpointed values were used. See above for specific issues. Use expect_partial() on the load status object, e.g. tf.train.Checkpoint.restore(...).expect_partial(), to silence these warnings, or use assert_consumed() to make the check explicit. See https://www.tensorflow.org/guide/checkpoint#loading_mechanics for details.\n",
            "2021-04-12 05:59:42.594 Unresolved object in checkpoint: (root).optimizer\n",
            "2021-04-12 05:59:42.594 Unresolved object in checkpoint: (root).optimizer.iter\n",
            "2021-04-12 05:59:42.594 Unresolved object in checkpoint: (root).optimizer.beta_1\n",
            "2021-04-12 05:59:42.594 Unresolved object in checkpoint: (root).optimizer.beta_2\n",
            "2021-04-12 05:59:42.594 Unresolved object in checkpoint: (root).optimizer.decay\n",
            "2021-04-12 05:59:42.594 Unresolved object in checkpoint: (root).optimizer.learning_rate\n",
            "2021-04-12 05:59:42.594 Unresolved object in checkpoint: (root).optimizer's state 'm' for (root).layer_with_weights-0.embeddings\n",
            "2021-04-12 05:59:42.595 Unresolved object in checkpoint: (root).optimizer's state 'm' for (root).layer_with_weights-2.kernel\n",
            "2021-04-12 05:59:42.595 Unresolved object in checkpoint: (root).optimizer's state 'm' for (root).layer_with_weights-2.bias\n",
            "2021-04-12 05:59:42.595 Unresolved object in checkpoint: (root).optimizer's state 'm' for (root).layer_with_weights-1.forward_layer.cell.kernel\n",
            "2021-04-12 05:59:42.595 Unresolved object in checkpoint: (root).optimizer's state 'm' for (root).layer_with_weights-1.forward_layer.cell.recurrent_kernel\n",
            "2021-04-12 05:59:42.595 Unresolved object in checkpoint: (root).optimizer's state 'm' for (root).layer_with_weights-1.forward_layer.cell.bias\n",
            "2021-04-12 05:59:42.595 Unresolved object in checkpoint: (root).optimizer's state 'm' for (root).layer_with_weights-1.backward_layer.cell.kernel\n",
            "2021-04-12 05:59:42.595 Unresolved object in checkpoint: (root).optimizer's state 'm' for (root).layer_with_weights-1.backward_layer.cell.recurrent_kernel\n",
            "2021-04-12 05:59:42.595 Unresolved object in checkpoint: (root).optimizer's state 'm' for (root).layer_with_weights-1.backward_layer.cell.bias\n",
            "2021-04-12 05:59:42.595 Unresolved object in checkpoint: (root).optimizer's state 'v' for (root).layer_with_weights-0.embeddings\n",
            "2021-04-12 05:59:42.595 Unresolved object in checkpoint: (root).optimizer's state 'v' for (root).layer_with_weights-2.kernel\n",
            "2021-04-12 05:59:42.595 Unresolved object in checkpoint: (root).optimizer's state 'v' for (root).layer_with_weights-2.bias\n",
            "2021-04-12 05:59:42.595 Unresolved object in checkpoint: (root).optimizer's state 'v' for (root).layer_with_weights-1.forward_layer.cell.kernel\n",
            "2021-04-12 05:59:42.595 Unresolved object in checkpoint: (root).optimizer's state 'v' for (root).layer_with_weights-1.forward_layer.cell.recurrent_kernel\n",
            "2021-04-12 05:59:42.595 Unresolved object in checkpoint: (root).optimizer's state 'v' for (root).layer_with_weights-1.forward_layer.cell.bias\n",
            "2021-04-12 05:59:42.595 Unresolved object in checkpoint: (root).optimizer's state 'v' for (root).layer_with_weights-1.backward_layer.cell.kernel\n",
            "2021-04-12 05:59:42.595 Unresolved object in checkpoint: (root).optimizer's state 'v' for (root).layer_with_weights-1.backward_layer.cell.recurrent_kernel\n",
            "2021-04-12 05:59:42.595 Unresolved object in checkpoint: (root).optimizer's state 'v' for (root).layer_with_weights-1.backward_layer.cell.bias\n",
            "2021-04-12 05:59:42.595 A checkpoint was restored (e.g. tf.train.Checkpoint.restore or tf.keras.Model.load_weights) but not all checkpointed values were used. See above for specific issues. Use expect_partial() on the load status object, e.g. tf.train.Checkpoint.restore(...).expect_partial(), to silence these warnings, or use assert_consumed() to make the check explicit. See https://www.tensorflow.org/guide/checkpoint#loading_mechanics for details.\n"
          ],
          "name": "stdout"
        }
      ]
    },
    {
      "cell_type": "code",
      "metadata": {
        "id": "7UIlJOkZCYcK"
      },
      "source": [
        ""
      ],
      "execution_count": null,
      "outputs": []
    }
  ]
}